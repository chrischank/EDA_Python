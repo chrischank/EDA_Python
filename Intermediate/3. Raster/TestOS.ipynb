{
 "cells": [
  {
   "cell_type": "code",
   "execution_count": 1,
   "metadata": {},
   "outputs": [],
   "source": [
    "import os"
   ]
  },
  {
   "cell_type": "code",
   "execution_count": 4,
   "metadata": {},
   "outputs": [
    {
     "data": {
      "text/plain": [
       "'C:\\\\Users\\\\s1526\\\\Dropbox\\\\Python_Tutorials\\\\Earth Data Analytics\\\\Python\\\\Intermediate\\\\3. Raster'"
      ]
     },
     "execution_count": 4,
     "metadata": {},
     "output_type": "execute_result"
    }
   ],
   "source": [
    "os.getcwd()"
   ]
  },
  {
   "cell_type": "code",
   "execution_count": 10,
   "metadata": {},
   "outputs": [
    {
     "data": {
      "text/plain": [
       "'C:\\\\Users\\\\s1526\\\\Dropbox'"
      ]
     },
     "execution_count": 10,
     "metadata": {},
     "output_type": "execute_result"
    }
   ],
   "source": [
    "os.chdir(\"C:\\\\Users\\\\s1526\\\\Dropbox\")\n",
    "os.getcwd()"
   ]
  },
  {
   "cell_type": "code",
   "execution_count": 12,
   "metadata": {},
   "outputs": [
    {
     "data": {
      "text/plain": [
       "['.dropbox',\n",
       " '.dropbox.cache',\n",
       " '.Rhistory',\n",
       " 'AWS',\n",
       " 'desktop.ini',\n",
       " 'Docker for Data Science (Cook J., 2017).pdf',\n",
       " 'EAGLE_Assessments',\n",
       " 'Effective Altruism Wü',\n",
       " 'Get Started with Dropbox Paper.url',\n",
       " 'Get Started with Dropbox.pdf',\n",
       " 'Macroeconomics for a Sustainable Planet',\n",
       " 'MB2_IPG(s382722)',\n",
       " 'MB3_Scripts',\n",
       " 'NTL_GDP',\n",
       " 'Personal',\n",
       " 'predicting_poverty_trained.caffemodel',\n",
       " 'Python_Tutorials',\n",
       " 'SuperVision Earth',\n",
       " '~$e Utility of InSAR in urban remote sensing, a case study from Santiago de Chile,.docx',\n",
       " '~$mote Sensing MDPI temp.dot']"
      ]
     },
     "execution_count": 12,
     "metadata": {},
     "output_type": "execute_result"
    }
   ],
   "source": [
    "os.listdir(os.getcwd())"
   ]
  },
  {
   "cell_type": "code",
   "execution_count": 13,
   "metadata": {},
   "outputs": [],
   "source": [
    "path = os.path.join(\"Personal\")"
   ]
  }
 ],
 "metadata": {
  "kernelspec": {
   "display_name": "Python 3",
   "language": "python",
   "name": "python3"
  },
  "language_info": {
   "codemirror_mode": {
    "name": "ipython",
    "version": 3
   },
   "file_extension": ".py",
   "mimetype": "text/x-python",
   "name": "python",
   "nbconvert_exporter": "python",
   "pygments_lexer": "ipython3",
   "version": "3.7.6"
  }
 },
 "nbformat": 4,
 "nbformat_minor": 4
}
