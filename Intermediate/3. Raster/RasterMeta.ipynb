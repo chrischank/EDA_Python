{
 "cells": [
  {
   "cell_type": "markdown",
   "metadata": {},
   "source": [
    "# Spatial Raster Metadata: CRS, Resolution, and Extent"
   ]
  },
  {
   "cell_type": "markdown",
   "metadata": {},
   "source": [
    "3 important spatial attributes associated with raster data: CRS, resolution, and spatial extent."
   ]
  },
  {
   "cell_type": "markdown",
   "metadata": {},
   "source": [
    "## 1. Coordinate Reference System\n",
    "\n",
    "The CRS of a spatial object tells Python where the raster is located in geographic space. It also tells Python what math method should be used to \"flatten\" or prouject the raster in geographic space.\n",
    "\n",
    "![projections](projections.jpg)"
   ]
  },
  {
   "cell_type": "markdown",
   "metadata": {},
   "source": [
    "### What makes spatial data line up on a map?\n",
    "\n",
    "It's important when working with spatial data in Python to identify the CRS applied to the data and retain it throughout data processing and analysis."
   ]
  },
  {
   "cell_type": "markdown",
   "metadata": {},
   "source": [
    "### View raster CRS"
   ]
  },
  {
   "cell_type": "code",
   "execution_count": 9,
   "metadata": {},
   "outputs": [
    {
     "name": "stdout",
     "output_type": "stream",
     "text": [
      "EPSG:32613\n"
     ]
    }
   ],
   "source": [
    "import os\n",
    "import matplotlib.pyplot as plt\n",
    "import numpy as np\n",
    "from shapely.geometry import Polygon, mapping\n",
    "import rasterio as rio\n",
    "from rasterio.mask import mask\n",
    "from rasterio.plot import show\n",
    "\n",
    "# Package created for the earth analytics program\n",
    "import earthpy as et\n",
    "\n",
    "# Get data and set working directory\n",
    "et.data.get_data(\"colorado-flood\")\n",
    "os.chdir(os.path.join(et.io.HOME, 'earth-analytics'))\n",
    "\n",
    "# Define relative path to file\n",
    "lidar_dem_path = os.path.join(\"data\", \"colorado-flood\", \"spatial\", \n",
    "                              \"boulder-leehill-rd\", \"pre-flood\", \"lidar\",\n",
    "                              \"pre_DTM.tif\")\n",
    "\n",
    "# View crs of raster imported with rasterio\n",
    "with rio.open(lidar_dem_path) as src:\n",
    "    print(src.crs)\n"
   ]
  },
  {
   "cell_type": "code",
   "execution_count": 10,
   "metadata": {},
   "outputs": [
    {
     "data": {
      "text/plain": [
       "CRS.from_epsg(32613)"
      ]
     },
     "execution_count": 10,
     "metadata": {},
     "output_type": "execute_result"
    }
   ],
   "source": [
    "# Assign CRS to myCRS object\n",
    "myCRS = src.crs\n",
    "\n",
    "myCRS"
   ]
  },
  {
   "cell_type": "markdown",
   "metadata": {},
   "source": [
    "The CRS EPSG code for your lidar_dem object is 32613. Next, you can look that EPSG code up on the spatial reference.org website to figure out what CRS it refers to and the associated units. In this case, you are using UTM zone 13 North.\n",
    "\n",
    "You can view that the proj4string which tells us that the horizontal units of this project are in meters (m):\n",
    "\n",
    "![UTM-zones](UTM-zones.png)"
   ]
  },
  {
   "cell_type": "markdown",
   "metadata": {},
   "source": [
    "The CRS format, returned by python, is in a EPSG format. This means that the projection information is represented by a single number. However on the spatialreference.org website you can also view the proj4string which tell you a bit more about the horizontal units that the data are in. An overview of proj4 is below.\n",
    "\n",
    "+proj=utm +zone=18 +datum=WGS84 +units=m +no_defs +ellps=WGS84 +towgs84=0,0,0"
   ]
  },
  {
   "cell_type": "markdown",
   "metadata": {},
   "source": [
    "## Converting EPSG to Proj4\n",
    "\n",
    "A package for this class called \"earthpy\" contains a dictionary that will help you convert EPSG codes into a Proj4string. This can be used with rasterio in order to determine the metadata for a given EPSG code. If you wish to know the units of the EPSG code above, you can do the following:"
   ]
  },
  {
   "cell_type": "code",
   "execution_count": 11,
   "metadata": {},
   "outputs": [
    {
     "name": "stdout",
     "output_type": "stream",
     "text": [
      "['29188', '26733', '24600', '32189', '4899', '29189', '26734', '7402', '26951', '29190']\n"
     ]
    }
   ],
   "source": [
    "# Each key of the dictionary is an EPSG code\n",
    "print(list(et.epsg.keys())[:10])"
   ]
  },
  {
   "cell_type": "code",
   "execution_count": 12,
   "metadata": {},
   "outputs": [
    {
     "name": "stdout",
     "output_type": "stream",
     "text": [
      "+proj=utm +zone=13 +datum=WGS84 +units=m +no_defs\n"
     ]
    }
   ],
   "source": [
    "# You can convert to proj4 like so:\n",
    "proj4 = et.epsg[\"32613\"]\n",
    "print(proj4)"
   ]
  },
  {
   "cell_type": "code",
   "execution_count": 14,
   "metadata": {},
   "outputs": [
    {
     "data": {
      "text/plain": [
       "CRS.from_epsg(32613)"
      ]
     },
     "execution_count": 14,
     "metadata": {},
     "output_type": "execute_result"
    }
   ],
   "source": [
    "# Finally you can convert this into a rasterio CRS like so:\n",
    "crs_proj4 = rio.crs.CRS.from_string(proj4)\n",
    "crs_proj4"
   ]
  },
  {
   "cell_type": "code",
   "execution_count": 15,
   "metadata": {},
   "outputs": [
    {
     "data": {
      "text/plain": [
       "CRS.from_epsg(32613)"
      ]
     },
     "execution_count": 15,
     "metadata": {},
     "output_type": "execute_result"
    }
   ],
   "source": [
    "# Finally you can convert this into a rasterio CRS like so:\n",
    "crs_proj4 = rio.crs.CRS.from_string(proj4)\n",
    "crs_proj4"
   ]
  },
  {
   "cell_type": "markdown",
   "metadata": {},
   "source": [
    "You'll focus on the first few components of the CRS in this tutorial.\n",
    "- +proj=utm The projection of the dataset. Your data are in Universal Transverse Mercator (UTM).\n",
    "- +zone=18 The UTM projection divides up the world into zones, this element tells you which zone the data is in. Harvard Forest is in Zone 18.\n",
    "- +datum=WGS84 The datum was used to define the center point of the projection. Your raster uses the WGS84 datum.\n",
    "- +units=m This is the horizontal units that the data are in. Your units are meters.\n",
    "\n",
    "Important: You are working with LIDAR data which has a Z or vertical value as well. While the horizontal units often match the vertical unbits of a raster they don't always! Be sure to check the metadata of your data to figure out the vertical units!"
   ]
  },
  {
   "cell_type": "markdown",
   "metadata": {},
   "source": [
    "## Spatial extent\n",
    "\n",
    "![extent](extent.png)"
   ]
  },
  {
   "cell_type": "markdown",
   "metadata": {},
   "source": [
    "The spatial extent of a Python spatial object represents the geographic \"edge\". Extent represents the overall geographic coverage of the spatial object.\n",
    "\n",
    "You can acess teh spatial extent using the .bounds attribute in rasterio."
   ]
  },
  {
   "cell_type": "code",
   "execution_count": 16,
   "metadata": {},
   "outputs": [
    {
     "data": {
      "text/plain": [
       "BoundingBox(left=472000.0, bottom=4434000.0, right=476000.0, top=4436000.0)"
      ]
     },
     "execution_count": 16,
     "metadata": {},
     "output_type": "execute_result"
    }
   ],
   "source": [
    "src.bounds"
   ]
  },
  {
   "cell_type": "markdown",
   "metadata": {},
   "source": [
    "## Raster resolution\n",
    "\n",
    "A raster has horizontal (x and y) resolution. This resolution represents the area on the ground that each pixel covers. The units for your data are in meters as determined by the CRS above. In this case, your data resolution is 1x1. This means that each pixel represents a 1x1 m area on the ground. You can view the resolution of your data using the .res function."
   ]
  },
  {
   "cell_type": "code",
   "execution_count": 17,
   "metadata": {},
   "outputs": [
    {
     "data": {
      "text/plain": [
       "(1.0, 1.0)"
      ]
     },
     "execution_count": 17,
     "metadata": {},
     "output_type": "execute_result"
    }
   ],
   "source": [
    "# What is the x and y resolution for your raster data?\n",
    "src.res"
   ]
  }
 ],
 "metadata": {
  "kernelspec": {
   "display_name": "Python 3",
   "language": "python",
   "name": "python3"
  },
  "language_info": {
   "codemirror_mode": {
    "name": "ipython",
    "version": 3
   },
   "file_extension": ".py",
   "mimetype": "text/x-python",
   "name": "python",
   "nbconvert_exporter": "python",
   "pygments_lexer": "ipython3",
   "version": "3.7.6"
  }
 },
 "nbformat": 4,
 "nbformat_minor": 4
}
