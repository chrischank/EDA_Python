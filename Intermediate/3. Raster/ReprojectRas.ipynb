{
 "cells": [
  {
   "cell_type": "markdown",
   "metadata": {},
   "source": [
    "# Reproject Raster Data"
   ]
  },
  {
   "cell_type": "markdown",
   "metadata": {},
   "source": [
    "## Reprojecting\n",
    "\n",
    "Sometimes you will work with multiple rasters and they might not always be in the same projections. You will need to reproject the raster so they are in the same CRS."
   ]
  },
  {
   "cell_type": "markdown",
   "metadata": {},
   "source": [
    "### Reproject using Rasterio"
   ]
  },
  {
   "cell_type": "code",
   "execution_count": 2,
   "metadata": {},
   "outputs": [],
   "source": [
    "import os\n",
    "import numpy as np\n",
    "import rasterio as rio\n",
    "from rasterio.warp import calculate_default_transform, reproject, Resampling\n",
    "import earthpy as et\n",
    "\n",
    "# GEt data nad set work dir\n",
    "et.data.get_data(\"colorado-flood\")\n",
    "os.chdir(os.path.join(et.io.HOME, \"earth-analytics\"))"
   ]
  },
  {
   "cell_type": "code",
   "execution_count": 3,
   "metadata": {},
   "outputs": [
    {
     "name": "stdout",
     "output_type": "stream",
     "text": [
      "{'driver': 'GTiff', 'dtype': 'float32', 'nodata': -3.4028234663852886e+38, 'width': 4000, 'height': 2000, 'count': 1, 'crs': CRS.from_epsg(32613), 'transform': Affine(1.0, 0.0, 472000.0,\n",
      "       0.0, -1.0, 4436000.0)}\n"
     ]
    }
   ],
   "source": [
    "# Define relative path to file\n",
    "lidar_dem_path = os.path.join(\"data\", \"colorado-flood\", \"spatial\",\n",
    "                             \"boulder-leehill-rd\", \"pre-flood\", \"lidar\",\n",
    "                             \"pre_DTM.tif\")\n",
    "\n",
    "lidar_dem = rio.open(lidar_dem_path)\n",
    "print(lidar_dem.meta)"
   ]
  },
  {
   "cell_type": "code",
   "execution_count": 9,
   "metadata": {},
   "outputs": [
    {
     "name": "stdout",
     "output_type": "stream",
     "text": [
      "{'driver': 'GTiff', 'dtype': 'float32', 'nodata': -3.4028234663852886e+38, 'width': 4004, 'height': 2020, 'count': 1, 'crs': CRS.from_epsg(3857), 'transform': Affine(1.3063652820086313, 0.0, -11725101.307458913,\n",
      "       0.0, -1.3063652820086313, 4876690.453258085)}\n"
     ]
    }
   ],
   "source": [
    "dst_crs = \"EPSG:3857\" # CRS for web mercator\n",
    "\n",
    "projected_lidar_dem_path = os.path.join(\"data\", \"colorado-flood\", \"spatial\",\n",
    "                                       \"boulder-leehill-rd\", \"pre-flood\", \"lidar\",\n",
    "                                       \"pre_DTM_reproject.tif\")\n",
    "\n",
    "with rio.open(lidar_dem_path) as src:\n",
    "    transform, width, height = calculate_default_transform(\n",
    "        src.crs, dst_crs, src.width, src.height, *src.bounds)\n",
    "    kwargs = src.meta.copy()\n",
    "    kwargs.update({\n",
    "        \"crs\": dst_crs,\n",
    "        \"transform\": transform,\n",
    "        \"width\": width,\n",
    "        \"height\": height\n",
    "    })\n",
    "\n",
    "    with rio.open(projected_lidar_dem_path, \"w\", **kwargs) as dst:\n",
    "        for i in range(1, src.count + 1):\n",
    "            reproject(\n",
    "                source=rio.band(src, i),\n",
    "                destination=rio.band(dst, i),\n",
    "                src_transform=src.transform,\n",
    "                src_crs=src.crs,\n",
    "                dst_transform=transform,\n",
    "                dst_crs=dst_crs,\n",
    "                resampling=Resampling.nearest)\n",
    "            \n",
    "lidar_dem2 = rio.open(projected_lidar_dem_path)\n",
    "\n",
    "print(lidar_dem2.meta)"
   ]
  },
  {
   "cell_type": "markdown",
   "metadata": {},
   "source": [
    "If you have many raster files to re-project the rasterio method has several lines of code that could get repetitive to type. Therefore your instructions have wrapped the rasterio reproject code into a function called reproject_et notice that this function contains all of the same code, but allows the input path, the output path, and the new CRS components to change every time the function is called."
   ]
  },
  {
   "cell_type": "code",
   "execution_count": 12,
   "metadata": {},
   "outputs": [
    {
     "name": "stdout",
     "output_type": "stream",
     "text": [
      "{'driver': 'GTiff', 'dtype': 'float32', 'nodata': -3.4028234663852886e+38, 'width': 4004, 'height': 2020, 'count': 1, 'crs': CRS.from_epsg(3857), 'transform': Affine(1.3063652820086313, 0.0, -11725101.307458913,\n",
      "       0.0, -1.3063652820086313, 4876690.453258085)}\n"
     ]
    }
   ],
   "source": [
    "def reproject_et(inpath, outpath, new_crs):\n",
    "    dst_crs = new_crs # CRS for web mercator\n",
    "    \n",
    "    with rio.open(inpath) as src:\n",
    "        transform, width, height = calculate_default_transform(\n",
    "            src.crs, dst_crs, src.width, src.height, *src.bounds)\n",
    "        kwargs = src.meta.copy()\n",
    "        kwargs.update({\n",
    "            \"crs\": dst_crs,\n",
    "            \"transform\": transform,\n",
    "            \"width\": width,\n",
    "            \"height\": height\n",
    "        })\n",
    "        \n",
    "        with rio.open(outpath, \"w\", **kwargs) as dst:\n",
    "            for i in range(1, src.count + 1):\n",
    "                reproject(\n",
    "                    source=rio.band(src, i),\n",
    "                    destination=rio.band(dst, i),\n",
    "                    src_transform=src.transform,\n",
    "                    dst_transform=transform,\n",
    "                    dst_crs=dst_crs,\n",
    "                    resampling=Resampling.nearest)\n",
    "                \n",
    "reproject_et(inpath = os.path.join(\"data\", \"colorado-flood\", \"spatial\",\n",
    "                                  \"boulder-leehill-rd\", \"pre-flood\", \"lidar\", \"pre_DTM.tif\"),\n",
    "            outpath = os.path.join(\"data\", \"colorado-flood\", \"spatial\",\n",
    "                                  \"boulder-leehill-rd\", \"pre-flood\", \"lidar\", \"pre_DTM_reproject_2.tif\"),\n",
    "            new_crs = \"EPSG:3857\")\n",
    "\n",
    "projected_lidar_dem_path = os.path.join(\"data\", \"colorado-flood\", \"spatial\",\n",
    "                                       \"boulder-leehill-rd\", \"pre-flood\", \"lidar\",\n",
    "                                       \"pre_DTM_reproject_2.tif\")\n",
    "\n",
    "# Check to make sure function worked, then close raster\n",
    "lidar_dem3 = rio.open(projected_lidar_dem_path)\n",
    "print(lidar_dem3.meta)\n",
    "\n",
    "lidar_dem3.close()"
   ]
  }
 ],
 "metadata": {
  "kernelspec": {
   "display_name": "Python 3",
   "language": "python",
   "name": "python3"
  },
  "language_info": {
   "codemirror_mode": {
    "name": "ipython",
    "version": 3
   },
   "file_extension": ".py",
   "mimetype": "text/x-python",
   "name": "python",
   "nbconvert_exporter": "python",
   "pygments_lexer": "ipython3",
   "version": "3.7.6"
  }
 },
 "nbformat": 4,
 "nbformat_minor": 4
}
