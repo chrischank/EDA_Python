{
 "cells": [
  {
   "cell_type": "markdown",
   "metadata": {},
   "source": [
    "# About the GeoTIFF (.tif) Raster FIle Format'"
   ]
  },
  {
   "cell_type": "markdown",
   "metadata": {},
   "source": [
    "## What is GeoTIFF?\n",
    "\n",
    "A GeoTIFF is a standard .tif or image file format that includes spatial (georeferencing) info embedded in the .tif file as tags. These embedded tags are called tif tags. These tags can include the following metadata:\n",
    "1. Spatial Extent: What area does this dataset cover?\n",
    "2. CRS: What spatial projection/CRS is used to store the data?\n",
    "3. Resolution: The data appears to be in raster format: This means it is composed of pixels. What area on the ground does each pixel cover.\n",
    "4. nodata value\n",
    "5. How manz lazers are in the .tif file"
   ]
  },
  {
   "cell_type": "markdown",
   "metadata": {},
   "source": [
    "### Geotiffs in python\n",
    "\n",
    "The rasterio package in Python allows us to both open geotiff files and also to directly access .tif tags. You can quickly view the spatial extent, CRS, and resolution of your raster data.\n",
    "\n",
    "NOTE: not all GeoTIFFs contain tif tags!"
   ]
  },
  {
   "cell_type": "code",
   "execution_count": 2,
   "metadata": {},
   "outputs": [
    {
     "name": "stdout",
     "output_type": "stream",
     "text": [
      "Downloading from https://ndownloader.figshare.com/files/16371473\n",
      "Extracted output to C:\\Users\\Chris\\earth-analytics\\data\\colorado-flood\\.\n"
     ]
    }
   ],
   "source": [
    "import os\n",
    "import rasterio as rio\n",
    "import earthpy as et\n",
    "\n",
    "# Get data and set wkdir\n",
    "et.data.get_data(\"colorado-flood\")\n",
    "os.chdir(os.path.join(et.io.HOME, \"earth-analytics\"))"
   ]
  },
  {
   "cell_type": "code",
   "execution_count": 7,
   "metadata": {},
   "outputs": [],
   "source": [
    "# Define relative path to file\n",
    "lidar_dem_path = os.path.join(\"data\", \"colorado-flood\", \"spatial\",\n",
    "                             \"boulder-leehill-rd\", \"pre-flood\", \"lidar\",\n",
    "                             \"pre_DTM.tif\")\n",
    "\n",
    "with rio.open(lidar_dem_path) as lidar_dem:\n",
    "    lidar_dem.bounds"
   ]
  },
  {
   "cell_type": "markdown",
   "metadata": {},
   "source": [
    "You can view spatial attributes associated with the raster file too. Below zou explore viewing a general list of attributes and then specific attributes including number of bands and horizontal (x, y) resolution."
   ]
  },
  {
   "cell_type": "code",
   "execution_count": 8,
   "metadata": {},
   "outputs": [
    {
     "data": {
      "text/plain": [
       "{'driver': 'GTiff',\n",
       " 'dtype': 'float32',\n",
       " 'nodata': -3.4028234663852886e+38,\n",
       " 'width': 4000,\n",
       " 'height': 2000,\n",
       " 'count': 1,\n",
       " 'crs': CRS.from_epsg(32613),\n",
       " 'transform': Affine(1.0, 0.0, 472000.0,\n",
       "        0.0, -1.0, 4436000.0)}"
      ]
     },
     "execution_count": 8,
     "metadata": {},
     "output_type": "execute_result"
    }
   ],
   "source": [
    "# View generate metadata associated with the raster file\n",
    "lidar_dem.meta"
   ]
  },
  {
   "cell_type": "code",
   "execution_count": 10,
   "metadata": {},
   "outputs": [
    {
     "data": {
      "text/plain": [
       "(1.0, 1.0)"
      ]
     },
     "execution_count": 10,
     "metadata": {},
     "output_type": "execute_result"
    }
   ],
   "source": [
    "# What is the spatial resolution?\n",
    "lidar_dem.res"
   ]
  },
  {
   "cell_type": "markdown",
   "metadata": {},
   "source": [
    "You can access the tif tags as well."
   ]
  },
  {
   "cell_type": "code",
   "execution_count": 12,
   "metadata": {},
   "outputs": [
    {
     "name": "stdout",
     "output_type": "stream",
     "text": [
      "{'COMPRESSION': 'LZW', 'INTERLEAVE': 'BAND'}\n"
     ]
    }
   ],
   "source": [
    "# View image structure\n",
    "with rio.open(lidar_dem_path) as lidar_dem:\n",
    "    print(lidar_dem.tags(ns=(\"IMAGE_STRUCTURE\")))\n",
    "    lidar_dem_mask = lidar_dem.dataset_mask()"
   ]
  },
  {
   "cell_type": "markdown",
   "metadata": {},
   "source": [
    "### Raster Masks\n",
    "\n",
    "You can view the mask associated with the data too. Here values that =0 are nodata values whereas = 255 are usable data values."
   ]
  },
  {
   "cell_type": "code",
   "execution_count": 14,
   "metadata": {},
   "outputs": [
    {
     "data": {
      "text/plain": [
       "array([[  0,   0,   0, ..., 255, 255, 255],\n",
       "       [  0,   0,   0, ..., 255, 255, 255],\n",
       "       [  0,   0,   0, ..., 255, 255, 255],\n",
       "       ...,\n",
       "       [  0,   0,   0, ..., 255, 255, 255],\n",
       "       [  0,   0,   0, ..., 255, 255, 255],\n",
       "       [  0,   0,   0, ..., 255, 255, 255]], dtype=uint8)"
      ]
     },
     "execution_count": 14,
     "metadata": {},
     "output_type": "execute_result"
    }
   ],
   "source": [
    "# View data mask\n",
    "lidar_dem_mask"
   ]
  },
  {
   "cell_type": "markdown",
   "metadata": {},
   "source": [
    "* Data Tip: Read more about attributes associated with rasterio objects and how they map to gdal objects.\n",
    "\n",
    "The info returned from the various attributes called above includes:\n",
    "- x and y resolution\n",
    "- projection\n",
    "- data format (in this case your data are stored in float format which means they contain decimals)\n",
    "\n",
    "and more.\n",
    "\n",
    "You can also extract or view individual metadata attributes."
   ]
  },
  {
   "cell_type": "code",
   "execution_count": 15,
   "metadata": {},
   "outputs": [
    {
     "name": "stdout",
     "output_type": "stream",
     "text": [
      "EPSG:32613\n",
      "BoundingBox(left=472000.0, bottom=4434000.0, right=476000.0, top=4436000.0)\n"
     ]
    }
   ],
   "source": [
    "print(lidar_dem.crs)\n",
    "print(lidar_dem.bounds)"
   ]
  },
  {
   "cell_type": "code",
   "execution_count": 18,
   "metadata": {},
   "outputs": [
    {
     "name": "stdout",
     "output_type": "stream",
     "text": [
      "Both datasets cover the same spatial extent\n"
     ]
    }
   ],
   "source": [
    "# Define relative path to file\n",
    "lidar_dsm_path = os.path.join(\"data\", \"colorado-flood\", \"spatial\",\n",
    "                             \"boulder-leehill-rd\", \"pre-flood\", \"lidar\",\n",
    "                             \"pre_DSM.tif\")\n",
    "\n",
    "# Open lidar dsm\n",
    "with rio.open(lidar_dsm_path) as lidar_dsm:\n",
    "    extent_lidar_dsm = lidar_dsm.bounds\n",
    "    \n",
    "if lidar_dem.bounds == lidar_dsm.bounds:\n",
    "    print(\"Both datasets cover the same spatial extent\")"
   ]
  },
  {
   "cell_type": "code",
   "execution_count": 20,
   "metadata": {},
   "outputs": [
    {
     "data": {
      "text/plain": [
       "True"
      ]
     },
     "execution_count": 20,
     "metadata": {},
     "output_type": "execute_result"
    }
   ],
   "source": [
    "# Do both layers have the same spatial resolution?\n",
    "lidar_dsm.res == lidar_dem.res"
   ]
  },
  {
   "cell_type": "markdown",
   "metadata": {},
   "source": [
    "### Extra Metadata with EPSG\n",
    "\n",
    "EPSG is short-hand way of specifying many CRS parameters at once. Each EPSG code correspondings to a Proj4code. In rasterio, more metadata is available if zou use Proj4 instead of EPSG."
   ]
  },
  {
   "cell_type": "code",
   "execution_count": 21,
   "metadata": {},
   "outputs": [
    {
     "data": {
      "text/plain": [
       "{'init': 'epsg:32613'}"
      ]
     },
     "execution_count": 21,
     "metadata": {},
     "output_type": "execute_result"
    }
   ],
   "source": [
    "# Get CRS of a rasterio object\n",
    "lidar_dem.crs.data"
   ]
  },
  {
   "cell_type": "markdown",
   "metadata": {},
   "source": [
    "You can use et.epsg look up to get the proj4string for an epsg code too."
   ]
  },
  {
   "cell_type": "code",
   "execution_count": 23,
   "metadata": {},
   "outputs": [
    {
     "data": {
      "text/plain": [
       "'+proj=utm +zone=13 +datum=WGS84 +units=m +no_defs'"
      ]
     },
     "execution_count": 23,
     "metadata": {},
     "output_type": "execute_result"
    }
   ],
   "source": [
    "et.epsg[\"32613\"]"
   ]
  },
  {
   "cell_type": "markdown",
   "metadata": {},
   "source": [
    "## Single layer (or Band) vs Multi-layer (Band Geotiffs)\n",
    "\n",
    "GeoTIFFs can store more than 1 band or layer. You can see if a raster object has more than 1 layer using the .count() function"
   ]
  },
  {
   "cell_type": "code",
   "execution_count": 24,
   "metadata": {},
   "outputs": [
    {
     "name": "stdout",
     "output_type": "stream",
     "text": [
      "1\n"
     ]
    }
   ],
   "source": [
    "print(lidar_dem.count)"
   ]
  },
  {
   "cell_type": "code",
   "execution_count": 25,
   "metadata": {},
   "outputs": [
    {
     "name": "stdout",
     "output_type": "stream",
     "text": [
      "number of bands (1,)\n"
     ]
    }
   ],
   "source": [
    "# How many bands/layers does the object have?\n",
    "print(\"number of bands\", lidar_dem.indexes)"
   ]
  }
 ],
 "metadata": {
  "kernelspec": {
   "display_name": "Python 3",
   "language": "python",
   "name": "python3"
  },
  "language_info": {
   "codemirror_mode": {
    "name": "ipython",
    "version": 3
   },
   "file_extension": ".py",
   "mimetype": "text/x-python",
   "name": "python",
   "nbconvert_exporter": "python",
   "pygments_lexer": "ipython3",
   "version": "3.7.6"
  }
 },
 "nbformat": 4,
 "nbformat_minor": 4
}
