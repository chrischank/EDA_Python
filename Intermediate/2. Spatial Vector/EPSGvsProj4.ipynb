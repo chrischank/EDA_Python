{
 "cells": [
  {
   "cell_type": "markdown",
   "metadata": {},
   "source": [
    "# Understand EPSG, WKT, and Other CRS Definition Styles"
   ]
  },
  {
   "cell_type": "markdown",
   "metadata": {},
   "source": [
    "### CRS formats\n",
    "\n",
    "THere are numerous formats that are used a document a CRS. 3 common formats include:\n",
    "1. proj.4\n",
    "2. EPSG\n",
    "3. Wel-Known Text (WKT) formats\n",
    "\n",
    "Often you have CRS information in 1 format and you need to translate that CRS into a different format to use in a tool like Python.\n",
    "\n",
    "1 of the msot powerful websites to look at CRS strings is Spatialreference.org. You can search on the site to find an EPSG code. "
   ]
  },
  {
   "cell_type": "markdown",
   "metadata": {},
   "source": [
    "### PROJ or PROJ.4 strings\n",
    "\n",
    "PROJ.4 strings are a compact way to identify a spatial or CRS PROJ.4 strings are 1 of the formats that Geopandas can accept. However, note that many libraries are moving towards the more concise EPSG format.\n",
    "\n",
    "Using the PROJ.4 syntax, you specify the complete set of parameters including the ellipse, datum, projection units, and projection definition taht define a particular CRS."
   ]
  },
  {
   "cell_type": "markdown",
   "metadata": {},
   "source": [
    "#### Breakdown the PROJ.4 format\n",
    "\n",
    "Below is an example of a proj.4 string:\n",
    "\n",
    "+proj=utm+zone=11 +datum=WGS84 +units=m +no_defs +ellps=WGS84 +towgs84=0,0,0\n",
    "\n",
    "Notice that the CRS info is structured using a string of characters and numers that are combined using + signs. The CRS for your data are in the proj4 format. The string contains all of the individual CRS elements that Python or another GIS might need. Each element is specified with a + sign, similar to how a .csv file is delimited or broken up by a , ..\n",
    "\n",
    "You can breakdown the proj4 string into its individual components (again, separated by + signs) as follows:\n",
    "- +proj=utm: the projection is UTM, UTM has several zones.\n",
    "- +zone=11: the zone is 11 which is a zone on the west coast, USA.\n",
    "- datum=WGS84: the datum WGS84 (the datum refers to the 0.0 reference for the coordinate system used in the projection)\n",
    "- +units=m: the units for the coordinates are in METERS.\n",
    "- +ellps=WGS84: the ellipsoid (how the earth's roundness is calculated for the data is WGS84\n",
    "\n",
    "Note that the zone is unique to the UTM projection. Not all CRS will have a zone."
   ]
  },
  {
   "cell_type": "markdown",
   "metadata": {},
   "source": [
    "### Geographic (lat/long) Proj.4 String\n",
    "\n",
    "Look at another CRS definition.\n",
    "\n",
    "+proj=longlat +datum=WGS84 +no_defs +ellips=WGS84 +towgs84=0,0,0\n",
    "\n",
    "This is a lat/long or geographic projection. The components of the proj4 string are broken down below.\n",
    "- +proj=longlat: the data are in a geographic (lat and long) coordinate system.\n",
    "- datum=WGS84: the datum WGS84 (the datum refers to the 0,0 reference for the coordinate system used in the projection)\n",
    "- +ellps=WGS84: the ellipsoid (how the earth's roundness is calculated) is WGS84\n",
    "\n",
    "Note that there are no specified units above. This is because the geographic CRS is in lat and long which is most often recorded in Decimal Degrees.\n",
    "\n",
    "* Data Tip: THe last portion of each prj4 string is *towgs84=0,0,0 . This is a conversion factor that is used if a datum conversion is required."
   ]
  },
  {
   "cell_type": "markdown",
   "metadata": {},
   "source": [
    "### EPSG codes\n",
    "\n",
    "The EPSG codes area 4-5 digit numbers that represent CRSs definitions. The acronym EPSG comes from the, now defunt. European Petroleum Survey Group. Each code is a 4-5 digit number which represents a particular CRS definition."
   ]
  },
  {
   "cell_type": "code",
   "execution_count": 9,
   "metadata": {},
   "outputs": [
    {
     "data": {
      "text/plain": [
       "{'init': 'epsg:4326'}"
      ]
     },
     "execution_count": 9,
     "metadata": {},
     "output_type": "execute_result"
    }
   ],
   "source": [
    "import os\n",
    "import numpy as np\n",
    "import matplotlib.pyplot as plt\n",
    "import pandas as pd\n",
    "import geopandas as gpd\n",
    "from shapely.geometry import Point\n",
    "import earthpy as et\n",
    "\n",
    "# Set work dir & get data\n",
    "data = et.data.get_data(\"spatial-vector-lidar\")\n",
    "os.chdir(os.path.join(et.io.HOME, \"earth-analytics\"))\n",
    "\n",
    "# Import world boundary shapefile\n",
    "worldBound_path = os.path.join(\"data\", \"spatial-vector-lidar\", \"global\",\n",
    "                              \"ne_110m_land\", \"ne_110m_land.shp\")\n",
    "\n",
    "worldBound = gpd.read_file(worldBound_path)\n",
    "\n",
    "worldBound.crs"
   ]
  },
  {
   "cell_type": "markdown",
   "metadata": {},
   "source": [
    "NOtice that the CRS returned, consists of 2 parts:\n",
    "1. \"init\" which tells python that a CRS definition (i.e. EPSG code) will be provided and\n",
    "2. the EPSG code itself epsg:4326"
   ]
  },
  {
   "cell_type": "markdown",
   "metadata": {},
   "source": [
    "### How to create a CRS object\n",
    "\n",
    "You often need to define the CRS for a spatial object. For example in the previous lessons, you created new spatial point layers, and had to define the CRS that the point x, y locations were in:\n",
    "\n",
    "1. You manually created an array for a single point:(x, y).\n",
    "2. You turned that x, y point into a shapely point object.\n",
    "3. FInally convert that point object to a pandas GeoDataFrame"
   ]
  },
  {
   "cell_type": "code",
   "execution_count": 10,
   "metadata": {},
   "outputs": [
    {
     "data": {
      "text/plain": [
       "{'init': 'epsg:2957'}"
      ]
     },
     "execution_count": 10,
     "metadata": {},
     "output_type": "execute_result"
    }
   ],
   "source": [
    "# Create a numpy array with x, y location of Boulder\n",
    "boulder_xy = np.array([[476911.31, 4429455.35]])\n",
    "\n",
    "# Create shapely point object\n",
    "boulder_xy_pt = [Point(xy) for xy in boulder_xy]\n",
    "\n",
    "# Convert to spatial dataframe - geodataframe -- assign the CRS using epsg code\n",
    "boulder_loc = gpd.GeoDataFrame(boulder_xy_pt,\n",
    "                              columns=[\"geometry\"],\n",
    "                              crs={\"init\": \"epsg:2957\"})\n",
    "\n",
    "# View crs of new spatial points object\n",
    "boulder_loc.crs"
   ]
  },
  {
   "cell_type": "markdown",
   "metadata": {},
   "source": [
    "#### WRT or Well-Known Text\n",
    "\n",
    "it's useful to recognise this format - ArcMap and ENVI use this format. Well-Known Text (WKT) is a compacted machine- and human-readable representation of geometric objects. It defines elements of CRS definitions using a combination of brackets [] and elements separated by commas (,).\n",
    "\n",
    "Here is an example of WKT for WGS84 geographic:\n",
    "\n",
    "GEOGCS[\"GCS_WGS_1984\",DATUM[\"D_WGS_1984\",SPHEROID[\"WGS_1984\",6378137,298.257223563]],PRIMEM[\"Greenwich\",0],UNIT[\"Degree\",0.017453292519943295]]\n",
    "\n",
    "Notice here that the elements are described explicitly using caps - for example:\n",
    "- UNIT\n",
    "- DATUM"
   ]
  },
  {
   "cell_type": "markdown",
   "metadata": {},
   "source": [
    "## How to look up a CRS\n",
    "\n",
    "The most powerful website to look-up CRS info is the spatialreference.org website. This website has a useful search function that allows you to search for strings such as:\n",
    "- UTM 11N or\n",
    "- WGS84"
   ]
  }
 ],
 "metadata": {
  "kernelspec": {
   "display_name": "Python 3",
   "language": "python",
   "name": "python3"
  },
  "language_info": {
   "codemirror_mode": {
    "name": "ipython",
    "version": 3
   },
   "file_extension": ".py",
   "mimetype": "text/x-python",
   "name": "python",
   "nbconvert_exporter": "python",
   "pygments_lexer": "ipython3",
   "version": "3.7.6"
  }
 },
 "nbformat": 4,
 "nbformat_minor": 4
}
