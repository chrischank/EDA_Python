{
 "cells": [
  {
   "cell_type": "markdown",
   "metadata": {},
   "source": [
    "# Compare LIDAR with Human Measure Tree Heights - Remote Sensing Uncertainty"
   ]
  },
  {
   "cell_type": "markdown",
   "metadata": {},
   "source": [
    "## Understand uncertainty and error\n",
    "\n",
    "It is important to consider error and uncertainty when presenting scientific results. Most measurements that we make, be they from instruments or humans - have uncertainty associated with them."
   ]
  },
  {
   "cell_type": "markdown",
   "metadata": {},
   "source": [
    "## Uncertainty\n",
    "\n",
    "Uncertainty: Uncertainty quantifies the range of values within which the value of the measure falls within - within a specified level of confidence. The uncertainty quantitatively indicates the \"quality\" of your measurement. It answers the question: \"how well does the result represent the value of the quantity being measured?\""
   ]
  },
  {
   "cell_type": "markdown",
   "metadata": {},
   "source": [
    "### Tree height measurement example\n",
    "\n",
    "So for example let's pretend that we measured the height of a tree 10 times. Each time our tree height measurement maybe slightly different"
   ]
  },
  {
   "cell_type": "markdown",
   "metadata": {},
   "source": [
    "## What is true value?\n",
    "\n",
    "In the case of a tree in a forest, it's very difficult to determine the true height. So we accept that there will be some variation in our measurements and we measure the tree over and over again until we understand the range of heights that we are likely to get when we measure the tree."
   ]
  },
  {
   "cell_type": "markdown",
   "metadata": {},
   "source": [
    "![Boxplot](Boxplot.png)"
   ]
  },
  {
   "cell_type": "markdown",
   "metadata": {},
   "source": [
    "In the example above, the mean tree height value is towards the centre of the distribution of measured heights. You might expect that the sample mean of our observation provides a reasonable estimate of the true value. The variation among our measured values may also provide some information about the precision (or lack thereof) of the measurement process."
   ]
  },
  {
   "cell_type": "markdown",
   "metadata": {},
   "source": [
    "![Boxplot2](Boxplot2.png)"
   ]
  },
  {
   "cell_type": "markdown",
   "metadata": {},
   "source": [
    "## Measurement accuracy\n",
    "\n",
    "Measurement accuracy is a concept that relates to whether there is bias in measurements, i.e. whether the expected value of our observation is close to the true value. For low accuracy measurements, we may collect many observations, and the mean of those observations may not provide a good measure of the truth (e.g. the height of the tree). For high accuracy measurements, the mean of many observations would provide a good measure of the true value. This is different from precision, which typically refers to the variation among observations. Accuracy and precision are not always tightly coupled. It is possible to have measurements that are very precise but inaccurate, very imprecise but accurate, etc."
   ]
  },
  {
   "cell_type": "markdown",
   "metadata": {},
   "source": [
    "![accuracy-precision](accuracy-precision.png)"
   ]
  },
  {
   "cell_type": "markdown",
   "metadata": {},
   "source": [
    "## Systematic vs random error\n",
    "\n",
    "Systematic error: a systematic error is one that tends to shift all measurements in a systematic way. This means that the mean value of a set of measurements is consistently displaced or varied in a predictable way, leading to inaccurate observations. Causes of systematic errors may be known or unknown but should always be corrected for when present. For instance, no standard reference specimen, an adjustment in the values should be made. Systematic error can be corrected for only when the \"true value\" (such as the value assigned to a calibration or reference specimen) is known.\n",
    "\n",
    "Example: RS instruments need to be calibrated. For example, in a LIDAR system may be tested in a lab to ensure that the distribution of output light energy is consistent every time the laser \"fires\".\n",
    "\n",
    "Random error: is a component of the total error which, in the course of a number of measurements, varies in an unpredictable way. It is not possible to correct for random error. Random errors can occur for a variety of reason such as:\n",
    "- Lack of equipment sensitivity. An instrument may not be able to respond to or indicate a change in some quantity that is too small or the observer may not be able to discern the change.\n",
    "- Noise in the measurement. Noise is extraneous disturbance that are unpredictable or random and cannot be completely accounted for.\n",
    "- Imprecise definitions. It is difficult to exactly define the dimensions of a object. For example, it is difficult to determine the ends of a crack with measuring its length. 2 people may likely pick 2 different starting and ending points.\n",
    "\n",
    "Example: Random error maybe introduced when we measure tree heights as discussed above."
   ]
  },
  {
   "cell_type": "markdown",
   "metadata": {},
   "source": [
    "## Use LIDAR to estimate tree height\n",
    "\n",
    "LIDAR data can be used to estimate tree height because it is an efficient way to measure large areas of forests quantitatively. However, you can process the lidar data in many different ways to estimate height. Which method most closely represents the actual heights of the trees on the ground?"
   ]
  },
  {
   "cell_type": "markdown",
   "metadata": {},
   "source": [
    "![waveform](waveform.png)"
   ]
  },
  {
   "cell_type": "markdown",
   "metadata": {},
   "source": [
    "![treeline-scanned-lidar-points](treeline-scanned-lidar-points.png)"
   ]
  },
  {
   "cell_type": "markdown",
   "metadata": {},
   "source": [
    "## Study site location\n",
    "\n",
    "To answer the question above, let's look at some data from a study site in Cali - the San Joaquin Experimental range field site."
   ]
  },
  {
   "cell_type": "markdown",
   "metadata": {},
   "source": [
    "![San-Joaquin](San-Joaquin.png)"
   ]
  },
  {
   "cell_type": "markdown",
   "metadata": {},
   "source": [
    "## Study area plots\n",
    "\n",
    "At this study site, we have both lidar data - s"
   ]
  },
  {
   "cell_type": "markdown",
   "metadata": {},
   "source": [
    "At this study site, we have both Lidar data - specifically a canopy height model that was processed by NEON. We also have some \"ground truth\" data. That is we have measured tree height values collected at a set of field site plots by technicians at NEON. We will call these measured values insitu measurements.\n",
    "\n",
    "A map of our study plot is below overlaid on top of the canopy height model.\n",
    "\n",
    "![CHM](CHM.png)"
   ]
  },
  {
   "cell_type": "markdown",
   "metadata": {},
   "source": [
    "### Compare Lidar derived height to insitu measurements\n",
    "\n",
    "We can compare max tree height values at each plot to max pixel value in our CHM for each plot. To do this, we define the geographic boundary of our plot using a polygon - in the case below we use a circle as the boundary. We then extract the raster cell values for each circle and calculate the max value for all of the pixels that fall within the plot area.\n",
    "\n",
    "Then, we calculate the max height of our measured plot tree height data.\n",
    "\n",
    "Finally we compare the 2 using a scatter plot to see how closely the data relate. Do they follow a 1:1 line? Do the data diverge from a 1:1 relationship?\n",
    "\n",
    "![buffer-circular](buffer-circular.png)"
   ]
  },
  {
   "cell_type": "markdown",
   "metadata": {},
   "source": [
    "![scatter](scatter.png)"
   ]
  },
  {
   "cell_type": "markdown",
   "metadata": {},
   "source": [
    "### How different are the data?\n",
    "\n",
    "![uncertainty-hist](uncertainty-hist.png)"
   ]
  }
 ],
 "metadata": {
  "kernelspec": {
   "display_name": "Python 3",
   "language": "python",
   "name": "python3"
  },
  "language_info": {
   "codemirror_mode": {
    "name": "ipython",
    "version": 3
   },
   "file_extension": ".py",
   "mimetype": "text/x-python",
   "name": "python",
   "nbconvert_exporter": "python",
   "pygments_lexer": "ipython3",
   "version": "3.7.6"
  }
 },
 "nbformat": 4,
 "nbformat_minor": 4
}
