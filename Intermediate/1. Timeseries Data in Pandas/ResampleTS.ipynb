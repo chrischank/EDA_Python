{
 "cells": [
  {
   "cell_type": "markdown",
   "metadata": {},
   "source": [
    "# Resample or Summarise Timeseries Data - Hourly to Daily Summary"
   ]
  },
  {
   "cell_type": "markdown",
   "metadata": {},
   "source": [
    "Often you need to summarise or aggregate timeseries data by a new time period. For instance, you may want to summarise hourly data to provide a daily max value\n",
    "\n",
    "aka. Resampling\n",
    "\n",
    "You will learn how to use resample() method to aggregate timeseries data by a new time period (e.g. daily to monthly)."
   ]
  },
  {
   "cell_type": "markdown",
   "metadata": {},
   "source": [
    "You will use precipitation data from NCEI COOP\n",
    "\n",
    "This time, however, you will use the hourly data that was not aggregated to a daily sum:\n",
    "\n",
    "805333-precip-daily-1948-2013.csv\n",
    "\n",
    "This dataset contains the precipitation values collected hourly from the COOP station 050843 in Boulder, CO for Jan 1, 1948 through Dec 31, 2013. This means that there are sometimes multiple values collected for each day if it happened to rain throughout the day.\n",
    "\n",
    "Before using the data, consider a few things about how it was collected:\n",
    "1. The data were collected over several decades, and the data were not always collected consistently.\n",
    "2. The data are not cleaned. You may find heading names that are not meaningful, and other issues with the data that need to be explored."
   ]
  },
  {
   "cell_type": "code",
   "execution_count": 1,
   "metadata": {},
   "outputs": [],
   "source": [
    "import os\n",
    "import matplotlib.pyplot as plt\n",
    "import seaborn as sns\n",
    "import pandas as pd\n",
    "import earthpy as et\n",
    "\n",
    "# Handle datetime conversion between pandas and matplotlib\n",
    "from pandas.plotting import register_matplotlib_converters\n",
    "register_matplotlib_converters()\n",
    "\n",
    "# Use white grid plot background from seaborn\n",
    "sns.set(font_scale=1.5, style=\"whitegrid\")\n",
    "\n",
    "# Download the data\n",
    "date = et.data.get_data(\"colorado-flood\")\n",
    "\n",
    "# Set work dir\n",
    "os.chdir(os.path.join(et.io.HOME, \"earth-analytics\"))\n",
    "\n",
    "# Define relative ppath to file with hourly precip\n",
    "file_path = os.path.join(\"data\", \"colorado-flood\",\n",
    "                        \"precipitation\",\n",
    "                        \"805325-precip-daily-2003-2013.csv\")"
   ]
  },
  {
   "cell_type": "markdown",
   "metadata": {},
   "source": [
    "When you import the file to a pandas dataframe, be sure to specify the:\n",
    "- no data values using the parameter na_values\n",
    "- date column using the parameter parse_dates\n",
    "- datetime index using the parameter index_col"
   ]
  },
  {
   "cell_type": "code",
   "execution_count": 3,
   "metadata": {},
   "outputs": [
    {
     "data": {
      "text/html": [
       "<div>\n",
       "<style scoped>\n",
       "    .dataframe tbody tr th:only-of-type {\n",
       "        vertical-align: middle;\n",
       "    }\n",
       "\n",
       "    .dataframe tbody tr th {\n",
       "        vertical-align: top;\n",
       "    }\n",
       "\n",
       "    .dataframe thead th {\n",
       "        text-align: right;\n",
       "    }\n",
       "</style>\n",
       "<table border=\"1\" class=\"dataframe\">\n",
       "  <thead>\n",
       "    <tr style=\"text-align: right;\">\n",
       "      <th></th>\n",
       "      <th>STATION</th>\n",
       "      <th>STATION_NAME</th>\n",
       "      <th>ELEVATION</th>\n",
       "      <th>LATITUDE</th>\n",
       "      <th>LONGITUDE</th>\n",
       "      <th>HPCP</th>\n",
       "      <th>Measurement Flag</th>\n",
       "      <th>Quality Flag</th>\n",
       "    </tr>\n",
       "    <tr>\n",
       "      <th>DATE</th>\n",
       "      <th></th>\n",
       "      <th></th>\n",
       "      <th></th>\n",
       "      <th></th>\n",
       "      <th></th>\n",
       "      <th></th>\n",
       "      <th></th>\n",
       "      <th></th>\n",
       "    </tr>\n",
       "  </thead>\n",
       "  <tbody>\n",
       "    <tr>\n",
       "      <th>2003-01-01 01:00:00</th>\n",
       "      <td>COOP:050843</td>\n",
       "      <td>BOULDER 2 CO US</td>\n",
       "      <td>1650.5</td>\n",
       "      <td>40.03389</td>\n",
       "      <td>-105.28111</td>\n",
       "      <td>0.0</td>\n",
       "      <td>g</td>\n",
       "      <td></td>\n",
       "    </tr>\n",
       "    <tr>\n",
       "      <th>2003-02-01 01:00:00</th>\n",
       "      <td>COOP:050843</td>\n",
       "      <td>BOULDER 2 CO US</td>\n",
       "      <td>1650.5</td>\n",
       "      <td>40.03389</td>\n",
       "      <td>-105.28111</td>\n",
       "      <td>0.0</td>\n",
       "      <td>g</td>\n",
       "      <td></td>\n",
       "    </tr>\n",
       "    <tr>\n",
       "      <th>2003-02-02 19:00:00</th>\n",
       "      <td>COOP:050843</td>\n",
       "      <td>BOULDER 2 CO US</td>\n",
       "      <td>1650.5</td>\n",
       "      <td>40.03389</td>\n",
       "      <td>-105.28111</td>\n",
       "      <td>0.2</td>\n",
       "      <td></td>\n",
       "      <td></td>\n",
       "    </tr>\n",
       "    <tr>\n",
       "      <th>2003-02-02 22:00:00</th>\n",
       "      <td>COOP:050843</td>\n",
       "      <td>BOULDER 2 CO US</td>\n",
       "      <td>1650.5</td>\n",
       "      <td>40.03389</td>\n",
       "      <td>-105.28111</td>\n",
       "      <td>0.1</td>\n",
       "      <td></td>\n",
       "      <td></td>\n",
       "    </tr>\n",
       "    <tr>\n",
       "      <th>2003-02-03 02:00:00</th>\n",
       "      <td>COOP:050843</td>\n",
       "      <td>BOULDER 2 CO US</td>\n",
       "      <td>1650.5</td>\n",
       "      <td>40.03389</td>\n",
       "      <td>-105.28111</td>\n",
       "      <td>0.1</td>\n",
       "      <td></td>\n",
       "      <td></td>\n",
       "    </tr>\n",
       "  </tbody>\n",
       "</table>\n",
       "</div>"
      ],
      "text/plain": [
       "                         STATION     STATION_NAME  ELEVATION  LATITUDE  \\\n",
       "DATE                                                                     \n",
       "2003-01-01 01:00:00  COOP:050843  BOULDER 2 CO US     1650.5  40.03389   \n",
       "2003-02-01 01:00:00  COOP:050843  BOULDER 2 CO US     1650.5  40.03389   \n",
       "2003-02-02 19:00:00  COOP:050843  BOULDER 2 CO US     1650.5  40.03389   \n",
       "2003-02-02 22:00:00  COOP:050843  BOULDER 2 CO US     1650.5  40.03389   \n",
       "2003-02-03 02:00:00  COOP:050843  BOULDER 2 CO US     1650.5  40.03389   \n",
       "\n",
       "                     LONGITUDE  HPCP Measurement Flag Quality Flag  \n",
       "DATE                                                                \n",
       "2003-01-01 01:00:00 -105.28111   0.0                g               \n",
       "2003-02-01 01:00:00 -105.28111   0.0                g               \n",
       "2003-02-02 19:00:00 -105.28111   0.2                                \n",
       "2003-02-02 22:00:00 -105.28111   0.1                                \n",
       "2003-02-03 02:00:00 -105.28111   0.1                                "
      ]
     },
     "execution_count": 3,
     "metadata": {},
     "output_type": "execute_result"
    }
   ],
   "source": [
    "# Import data using datetime and no data value\n",
    "precip_2003_2013_hourly = pd.read_csv(file_path,\n",
    "                                     parse_dates=[\"DATE\"],\n",
    "                                     index_col=[\"DATE\"],\n",
    "                                     na_values=[\"999.99\"])\n",
    "\n",
    "# View first few rows\n",
    "precip_2003_2013_hourly.head()"
   ]
  },
  {
   "cell_type": "markdown",
   "metadata": {},
   "source": [
    "### About the precipitation data\n",
    "\n",
    "The HPCP column contains the total precipitation given in inches, recorded for the hour ending at the time specified by DATE.\n",
    "\n",
    "There is a designated missing data value of 999.99. Note that if there is no precipitation recorded in a particular hour, then no value is recorded."
   ]
  },
  {
   "cell_type": "code",
   "execution_count": 4,
   "metadata": {},
   "outputs": [
    {
     "name": "stdout",
     "output_type": "stream",
     "text": [
      "<class 'pandas.core.frame.DataFrame'>\n",
      "DatetimeIndex: 1840 entries, 2003-01-01 01:00:00 to 2013-12-31 00:00:00\n",
      "Data columns (total 8 columns):\n",
      " #   Column            Non-Null Count  Dtype  \n",
      "---  ------            --------------  -----  \n",
      " 0   STATION           1840 non-null   object \n",
      " 1   STATION_NAME      1840 non-null   object \n",
      " 2   ELEVATION         1840 non-null   float64\n",
      " 3   LATITUDE          1840 non-null   float64\n",
      " 4   LONGITUDE         1840 non-null   float64\n",
      " 5   HPCP              1746 non-null   float64\n",
      " 6   Measurement Flag  1840 non-null   object \n",
      " 7   Quality Flag      1840 non-null   object \n",
      "dtypes: float64(4), object(4)\n",
      "memory usage: 129.4+ KB\n"
     ]
    }
   ],
   "source": [
    "# View dataframe info\n",
    "precip_2003_2013_hourly.info()"
   ]
  },
  {
   "cell_type": "code",
   "execution_count": 5,
   "metadata": {},
   "outputs": [
    {
     "data": {
      "text/html": [
       "<div>\n",
       "<style scoped>\n",
       "    .dataframe tbody tr th:only-of-type {\n",
       "        vertical-align: middle;\n",
       "    }\n",
       "\n",
       "    .dataframe tbody tr th {\n",
       "        vertical-align: top;\n",
       "    }\n",
       "\n",
       "    .dataframe thead th {\n",
       "        text-align: right;\n",
       "    }\n",
       "</style>\n",
       "<table border=\"1\" class=\"dataframe\">\n",
       "  <thead>\n",
       "    <tr style=\"text-align: right;\">\n",
       "      <th></th>\n",
       "      <th>ELEVATION</th>\n",
       "      <th>LATITUDE</th>\n",
       "      <th>LONGITUDE</th>\n",
       "      <th>HPCP</th>\n",
       "    </tr>\n",
       "  </thead>\n",
       "  <tbody>\n",
       "    <tr>\n",
       "      <th>count</th>\n",
       "      <td>1840.0</td>\n",
       "      <td>1840.000000</td>\n",
       "      <td>1840.000000</td>\n",
       "      <td>1746.000000</td>\n",
       "    </tr>\n",
       "    <tr>\n",
       "      <th>mean</th>\n",
       "      <td>1650.5</td>\n",
       "      <td>40.033851</td>\n",
       "      <td>-105.281106</td>\n",
       "      <td>0.111856</td>\n",
       "    </tr>\n",
       "    <tr>\n",
       "      <th>std</th>\n",
       "      <td>0.0</td>\n",
       "      <td>0.000045</td>\n",
       "      <td>0.000005</td>\n",
       "      <td>0.093222</td>\n",
       "    </tr>\n",
       "    <tr>\n",
       "      <th>min</th>\n",
       "      <td>1650.5</td>\n",
       "      <td>40.033800</td>\n",
       "      <td>-105.281110</td>\n",
       "      <td>0.000000</td>\n",
       "    </tr>\n",
       "    <tr>\n",
       "      <th>25%</th>\n",
       "      <td>1650.5</td>\n",
       "      <td>40.033800</td>\n",
       "      <td>-105.281110</td>\n",
       "      <td>0.100000</td>\n",
       "    </tr>\n",
       "    <tr>\n",
       "      <th>50%</th>\n",
       "      <td>1650.5</td>\n",
       "      <td>40.033890</td>\n",
       "      <td>-105.281110</td>\n",
       "      <td>0.100000</td>\n",
       "    </tr>\n",
       "    <tr>\n",
       "      <th>75%</th>\n",
       "      <td>1650.5</td>\n",
       "      <td>40.033890</td>\n",
       "      <td>-105.281100</td>\n",
       "      <td>0.100000</td>\n",
       "    </tr>\n",
       "    <tr>\n",
       "      <th>max</th>\n",
       "      <td>1650.5</td>\n",
       "      <td>40.033890</td>\n",
       "      <td>-105.281100</td>\n",
       "      <td>2.200000</td>\n",
       "    </tr>\n",
       "  </tbody>\n",
       "</table>\n",
       "</div>"
      ],
      "text/plain": [
       "       ELEVATION     LATITUDE    LONGITUDE         HPCP\n",
       "count     1840.0  1840.000000  1840.000000  1746.000000\n",
       "mean      1650.5    40.033851  -105.281106     0.111856\n",
       "std          0.0     0.000045     0.000005     0.093222\n",
       "min       1650.5    40.033800  -105.281110     0.000000\n",
       "25%       1650.5    40.033800  -105.281110     0.100000\n",
       "50%       1650.5    40.033890  -105.281110     0.100000\n",
       "75%       1650.5    40.033890  -105.281100     0.100000\n",
       "max       1650.5    40.033890  -105.281100     2.200000"
      ]
     },
     "execution_count": 5,
     "metadata": {},
     "output_type": "execute_result"
    }
   ],
   "source": [
    "# View summary stats\n",
    "precip_2003_2013_hourly.describe()"
   ]
  },
  {
   "cell_type": "code",
   "execution_count": 6,
   "metadata": {},
   "outputs": [
    {
     "data": {
      "text/plain": [
       "DatetimeIndex(['2003-01-01 01:00:00', '2003-02-01 01:00:00',\n",
       "               '2003-02-02 19:00:00', '2003-02-02 22:00:00',\n",
       "               '2003-02-03 02:00:00', '2003-02-05 02:00:00',\n",
       "               '2003-02-05 08:00:00', '2003-02-06 00:00:00',\n",
       "               '2003-02-07 12:00:00', '2003-02-10 13:00:00',\n",
       "               ...\n",
       "               '2013-12-01 01:00:00', '2013-12-03 20:00:00',\n",
       "               '2013-12-04 03:00:00', '2013-12-04 06:00:00',\n",
       "               '2013-12-04 09:00:00', '2013-12-22 01:00:00',\n",
       "               '2013-12-23 00:00:00', '2013-12-23 02:00:00',\n",
       "               '2013-12-29 01:00:00', '2013-12-31 00:00:00'],\n",
       "              dtype='datetime64[ns]', name='DATE', length=1840, freq=None)"
      ]
     },
     "execution_count": 6,
     "metadata": {},
     "output_type": "execute_result"
    }
   ],
   "source": [
    "# View index values of dataframe\n",
    "precip_2003_2013_hourly.index"
   ]
  },
  {
   "cell_type": "markdown",
   "metadata": {},
   "source": [
    "## Plot hourly precipitation data\n",
    "\n",
    "Plot the hourly data and notice that there are often multiple records for a single day."
   ]
  },
  {
   "cell_type": "code",
   "execution_count": 7,
   "metadata": {},
   "outputs": [
    {
     "data": {
      "image/png": "[encoded data removed]",
      "text/plain": [
       "<Figure size 720x720 with 1 Axes>"
      ]
     },
     "metadata": {},
     "output_type": "display_data"
    }
   ],
   "source": [
    "# Create figure and plot space\n",
    "fig, ax = plt.subplots(figsize=(10, 10))\n",
    "\n",
    "# Add x-axis and y-axis\n",
    "ax.scatter(precip_2003_2013_hourly.index.values,\n",
    "          precip_2003_2013_hourly[\"HPCP\"],\n",
    "          color=\"purple\")\n",
    "\n",
    "# Set title and labels for axes\n",
    "ax.set(xlabel=\"Date\",\n",
    "      ylabel=\"Precipitation (inches)\",\n",
    "      title=\"Hourly Precipitation - Boulder Station\\n 2003-2013\")\n",
    "\n",
    "plt.show()"
   ]
  },
  {
   "cell_type": "markdown",
   "metadata": {},
   "source": [
    "Also, notice that the plot is not displaying each individual hourly timestamp, but rather, has aggregated the x-axis labels to the year"
   ]
  },
  {
   "cell_type": "markdown",
   "metadata": {},
   "source": [
    "## Resample hourly data to daily data"
   ]
  },
  {
   "cell_type": "markdown",
   "metadata": {},
   "source": [
    "To simplify your plot which has a lot of data points due to the hourly records, you can aggregate the data for each day using the .resample() method.\n",
    "\n",
    "To aggregate or temporal resample the data for a time period, you can take all of the values for each day and summarise them.\n",
    "\n",
    "In this case, you want total daily rainfall, so you will use the resample() method together with .sum().\n",
    "\n",
    "As previously mentioned, resample() is a method of pandas dataframes that can be used to summarise data by date or time. The .sum() method will add up all values for each resampling period (e.g. for each day) to provide a summary output value for that period\n",
    "\n",
    "df.resample(\"D\").sum()\n",
    "\n",
    "The \"D\" specifies that you want to aggregate, or resample, by day."
   ]
  },
  {
   "cell_type": "code",
   "execution_count": 8,
   "metadata": {},
   "outputs": [
    {
     "data": {
      "text/html": [
       "<div>\n",
       "<style scoped>\n",
       "    .dataframe tbody tr th:only-of-type {\n",
       "        vertical-align: middle;\n",
       "    }\n",
       "\n",
       "    .dataframe tbody tr th {\n",
       "        vertical-align: top;\n",
       "    }\n",
       "\n",
       "    .dataframe thead th {\n",
       "        text-align: right;\n",
       "    }\n",
       "</style>\n",
       "<table border=\"1\" class=\"dataframe\">\n",
       "  <thead>\n",
       "    <tr style=\"text-align: right;\">\n",
       "      <th></th>\n",
       "      <th>ELEVATION</th>\n",
       "      <th>LATITUDE</th>\n",
       "      <th>LONGITUDE</th>\n",
       "      <th>HPCP</th>\n",
       "    </tr>\n",
       "    <tr>\n",
       "      <th>DATE</th>\n",
       "      <th></th>\n",
       "      <th></th>\n",
       "      <th></th>\n",
       "      <th></th>\n",
       "    </tr>\n",
       "  </thead>\n",
       "  <tbody>\n",
       "    <tr>\n",
       "      <th>2003-01-01</th>\n",
       "      <td>1650.5</td>\n",
       "      <td>40.03389</td>\n",
       "      <td>-105.28111</td>\n",
       "      <td>0.0</td>\n",
       "    </tr>\n",
       "    <tr>\n",
       "      <th>2003-01-02</th>\n",
       "      <td>0.0</td>\n",
       "      <td>0.00000</td>\n",
       "      <td>0.00000</td>\n",
       "      <td>0.0</td>\n",
       "    </tr>\n",
       "    <tr>\n",
       "      <th>2003-01-03</th>\n",
       "      <td>0.0</td>\n",
       "      <td>0.00000</td>\n",
       "      <td>0.00000</td>\n",
       "      <td>0.0</td>\n",
       "    </tr>\n",
       "    <tr>\n",
       "      <th>2003-01-04</th>\n",
       "      <td>0.0</td>\n",
       "      <td>0.00000</td>\n",
       "      <td>0.00000</td>\n",
       "      <td>0.0</td>\n",
       "    </tr>\n",
       "    <tr>\n",
       "      <th>2003-01-05</th>\n",
       "      <td>0.0</td>\n",
       "      <td>0.00000</td>\n",
       "      <td>0.00000</td>\n",
       "      <td>0.0</td>\n",
       "    </tr>\n",
       "    <tr>\n",
       "      <th>...</th>\n",
       "      <td>...</td>\n",
       "      <td>...</td>\n",
       "      <td>...</td>\n",
       "      <td>...</td>\n",
       "    </tr>\n",
       "    <tr>\n",
       "      <th>2013-12-27</th>\n",
       "      <td>0.0</td>\n",
       "      <td>0.00000</td>\n",
       "      <td>0.00000</td>\n",
       "      <td>0.0</td>\n",
       "    </tr>\n",
       "    <tr>\n",
       "      <th>2013-12-28</th>\n",
       "      <td>0.0</td>\n",
       "      <td>0.00000</td>\n",
       "      <td>0.00000</td>\n",
       "      <td>0.0</td>\n",
       "    </tr>\n",
       "    <tr>\n",
       "      <th>2013-12-29</th>\n",
       "      <td>1650.5</td>\n",
       "      <td>40.03380</td>\n",
       "      <td>-105.28110</td>\n",
       "      <td>0.0</td>\n",
       "    </tr>\n",
       "    <tr>\n",
       "      <th>2013-12-30</th>\n",
       "      <td>0.0</td>\n",
       "      <td>0.00000</td>\n",
       "      <td>0.00000</td>\n",
       "      <td>0.0</td>\n",
       "    </tr>\n",
       "    <tr>\n",
       "      <th>2013-12-31</th>\n",
       "      <td>1650.5</td>\n",
       "      <td>40.03380</td>\n",
       "      <td>-105.28110</td>\n",
       "      <td>0.0</td>\n",
       "    </tr>\n",
       "  </tbody>\n",
       "</table>\n",
       "<p>4018 rows × 4 columns</p>\n",
       "</div>"
      ],
      "text/plain": [
       "            ELEVATION  LATITUDE  LONGITUDE  HPCP\n",
       "DATE                                            \n",
       "2003-01-01     1650.5  40.03389 -105.28111   0.0\n",
       "2003-01-02        0.0   0.00000    0.00000   0.0\n",
       "2003-01-03        0.0   0.00000    0.00000   0.0\n",
       "2003-01-04        0.0   0.00000    0.00000   0.0\n",
       "2003-01-05        0.0   0.00000    0.00000   0.0\n",
       "...               ...       ...        ...   ...\n",
       "2013-12-27        0.0   0.00000    0.00000   0.0\n",
       "2013-12-28        0.0   0.00000    0.00000   0.0\n",
       "2013-12-29     1650.5  40.03380 -105.28110   0.0\n",
       "2013-12-30        0.0   0.00000    0.00000   0.0\n",
       "2013-12-31     1650.5  40.03380 -105.28110   0.0\n",
       "\n",
       "[4018 rows x 4 columns]"
      ]
     },
     "execution_count": 8,
     "metadata": {},
     "output_type": "execute_result"
    }
   ],
   "source": [
    "# Resample to daily precip sum and save as new dataframe\n",
    "precip_2003_2013_daily = precip_2003_2013_hourly.resample(\"D\").sum()\n",
    "\n",
    "precip_2003_2013_daily"
   ]
  },
  {
   "cell_type": "markdown",
   "metadata": {},
   "source": [
    "Now that you have resampled the data, each HPCP value now represents a daily total or sum of all precipitation measured that day. Also notice that your DATE index no longer contains hourly time stamps, as you now have only 1 summary value or row per day."
   ]
  },
  {
   "cell_type": "markdown",
   "metadata": {},
   "source": [
    "### Plot daily precipitation data\n",
    "\n",
    "Plot the aggregated dataframe for daily total precipitation and notice that the y axis has increaseed in range and that there is only 1 data point for each day (though there are still quite a lot of points!)."
   ]
  },
  {
   "cell_type": "code",
   "execution_count": 9,
   "metadata": {},
   "outputs": [
    {
     "data": {
      "image/png": "[encoded data removed]",
      "text/plain": [
       "<Figure size 720x720 with 1 Axes>"
      ]
     },
     "metadata": {},
     "output_type": "display_data"
    }
   ],
   "source": [
    "# Create figure and plot space\n",
    "fig, ax = plt.subplots(figsize=(10, 10))\n",
    "\n",
    "# Add x-axis and y-axis\n",
    "ax.scatter(precip_2003_2013_daily.index.values,\n",
    "          precip_2003_2013_daily[\"HPCP\"],\n",
    "          color=\"purple\")\n",
    "\n",
    "# Set title and labels for axes\n",
    "ax.set(xlabel=\"Date\",\n",
    "      ylabel=\"Precipitation (inches)\",\n",
    "      title=\"Daily Precipitation - Boulder Station\\n 2003-2013\")\n",
    "\n",
    "plt.show()"
   ]
  },
  {
   "cell_type": "markdown",
   "metadata": {},
   "source": [
    "## Resample daily data to monthly data\n",
    "\n",
    "Resample the data again, this time from daily to monthly using:\n",
    "\n",
    "df.resample(\"M\").sum()"
   ]
  },
  {
   "cell_type": "code",
   "execution_count": 10,
   "metadata": {},
   "outputs": [
    {
     "data": {
      "text/html": [
       "<div>\n",
       "<style scoped>\n",
       "    .dataframe tbody tr th:only-of-type {\n",
       "        vertical-align: middle;\n",
       "    }\n",
       "\n",
       "    .dataframe tbody tr th {\n",
       "        vertical-align: top;\n",
       "    }\n",
       "\n",
       "    .dataframe thead th {\n",
       "        text-align: right;\n",
       "    }\n",
       "</style>\n",
       "<table border=\"1\" class=\"dataframe\">\n",
       "  <thead>\n",
       "    <tr style=\"text-align: right;\">\n",
       "      <th></th>\n",
       "      <th>ELEVATION</th>\n",
       "      <th>LATITUDE</th>\n",
       "      <th>LONGITUDE</th>\n",
       "      <th>HPCP</th>\n",
       "    </tr>\n",
       "    <tr>\n",
       "      <th>DATE</th>\n",
       "      <th></th>\n",
       "      <th></th>\n",
       "      <th></th>\n",
       "      <th></th>\n",
       "    </tr>\n",
       "  </thead>\n",
       "  <tbody>\n",
       "    <tr>\n",
       "      <th>2003-01-31</th>\n",
       "      <td>1650.5</td>\n",
       "      <td>40.03389</td>\n",
       "      <td>-105.28111</td>\n",
       "      <td>0.0</td>\n",
       "    </tr>\n",
       "    <tr>\n",
       "      <th>2003-02-28</th>\n",
       "      <td>26408.0</td>\n",
       "      <td>640.54224</td>\n",
       "      <td>-1684.49776</td>\n",
       "      <td>1.4</td>\n",
       "    </tr>\n",
       "    <tr>\n",
       "      <th>2003-03-31</th>\n",
       "      <td>74272.5</td>\n",
       "      <td>1801.52505</td>\n",
       "      <td>-4737.64995</td>\n",
       "      <td>5.2</td>\n",
       "    </tr>\n",
       "    <tr>\n",
       "      <th>2003-04-30</th>\n",
       "      <td>28058.5</td>\n",
       "      <td>680.57613</td>\n",
       "      <td>-1789.77887</td>\n",
       "      <td>1.6</td>\n",
       "    </tr>\n",
       "    <tr>\n",
       "      <th>2003-05-31</th>\n",
       "      <td>34660.5</td>\n",
       "      <td>840.71169</td>\n",
       "      <td>-2210.90331</td>\n",
       "      <td>3.3</td>\n",
       "    </tr>\n",
       "    <tr>\n",
       "      <th>...</th>\n",
       "      <td>...</td>\n",
       "      <td>...</td>\n",
       "      <td>...</td>\n",
       "      <td>...</td>\n",
       "    </tr>\n",
       "    <tr>\n",
       "      <th>2013-08-31</th>\n",
       "      <td>14854.5</td>\n",
       "      <td>360.30420</td>\n",
       "      <td>-947.52990</td>\n",
       "      <td>1.0</td>\n",
       "    </tr>\n",
       "    <tr>\n",
       "      <th>2013-09-30</th>\n",
       "      <td>118836.0</td>\n",
       "      <td>2882.43360</td>\n",
       "      <td>-7580.23920</td>\n",
       "      <td>17.7</td>\n",
       "    </tr>\n",
       "    <tr>\n",
       "      <th>2013-10-31</th>\n",
       "      <td>31359.5</td>\n",
       "      <td>760.64220</td>\n",
       "      <td>-2000.34090</td>\n",
       "      <td>2.0</td>\n",
       "    </tr>\n",
       "    <tr>\n",
       "      <th>2013-11-30</th>\n",
       "      <td>8252.5</td>\n",
       "      <td>200.16900</td>\n",
       "      <td>-526.40550</td>\n",
       "      <td>0.4</td>\n",
       "    </tr>\n",
       "    <tr>\n",
       "      <th>2013-12-31</th>\n",
       "      <td>16505.0</td>\n",
       "      <td>400.33800</td>\n",
       "      <td>-1052.81100</td>\n",
       "      <td>0.5</td>\n",
       "    </tr>\n",
       "  </tbody>\n",
       "</table>\n",
       "<p>132 rows × 4 columns</p>\n",
       "</div>"
      ],
      "text/plain": [
       "            ELEVATION    LATITUDE   LONGITUDE  HPCP\n",
       "DATE                                               \n",
       "2003-01-31     1650.5    40.03389  -105.28111   0.0\n",
       "2003-02-28    26408.0   640.54224 -1684.49776   1.4\n",
       "2003-03-31    74272.5  1801.52505 -4737.64995   5.2\n",
       "2003-04-30    28058.5   680.57613 -1789.77887   1.6\n",
       "2003-05-31    34660.5   840.71169 -2210.90331   3.3\n",
       "...               ...         ...         ...   ...\n",
       "2013-08-31    14854.5   360.30420  -947.52990   1.0\n",
       "2013-09-30   118836.0  2882.43360 -7580.23920  17.7\n",
       "2013-10-31    31359.5   760.64220 -2000.34090   2.0\n",
       "2013-11-30     8252.5   200.16900  -526.40550   0.4\n",
       "2013-12-31    16505.0   400.33800 -1052.81100   0.5\n",
       "\n",
       "[132 rows x 4 columns]"
      ]
     },
     "execution_count": 10,
     "metadata": {},
     "output_type": "execute_result"
    }
   ],
   "source": [
    "# Resample to monthly precip sum and save as new dataframe\n",
    "precip_2003_2013_monthly = precip_2003_2013_daily.resample(\"M\").sum()\n",
    "\n",
    "precip_2003_2013_monthly"
   ]
  },
  {
   "cell_type": "markdown",
   "metadata": {},
   "source": [
    "You have resampled the data, each HPCP value now represents a monthly total and that you have only one summary value for each month."
   ]
  },
  {
   "cell_type": "markdown",
   "metadata": {},
   "source": [
    "### Plot monthly precipitation data\n",
    "\n",
    "Plot the aggregated dataframe for monthly total precipitation and notice that the y axis has again increased in range and that there is only 1 data point for each month."
   ]
  },
  {
   "cell_type": "code",
   "execution_count": 11,
   "metadata": {},
   "outputs": [
    {
     "data": {
      "image/png": "[encoded data removed]",
      "text/plain": [
       "<Figure size 720x720 with 1 Axes>"
      ]
     },
     "metadata": {},
     "output_type": "display_data"
    }
   ],
   "source": [
    "# Create figure and plot space\n",
    "fig, ax = plt.subplots(figsize=(10, 10))\n",
    "\n",
    "# Add x-axis and y-axis\n",
    "ax.scatter(precip_2003_2013_monthly.index.values,\n",
    "          precip_2003_2013_monthly[\"HPCP\"],\n",
    "          color=\"purple\")\n",
    "\n",
    "# Set title and labels for axes\n",
    "ax.set(xlabel=\"Date\",\n",
    "      ylabel=\"Precipitation (inches)\",\n",
    "      title=\"Monthly Precipitation - Boulder Station\\n 2003-2013\")\n",
    "\n",
    "plt.show()"
   ]
  },
  {
   "cell_type": "markdown",
   "metadata": {},
   "source": [
    "## Resample monthly data to yearly data\n",
    "\n",
    "Resample the data one last time, from monthly to yearly:\n",
    "\n",
    "df.resample(\"Y\").sum()"
   ]
  },
  {
   "cell_type": "code",
   "execution_count": 12,
   "metadata": {},
   "outputs": [
    {
     "data": {
      "text/html": [
       "<div>\n",
       "<style scoped>\n",
       "    .dataframe tbody tr th:only-of-type {\n",
       "        vertical-align: middle;\n",
       "    }\n",
       "\n",
       "    .dataframe tbody tr th {\n",
       "        vertical-align: top;\n",
       "    }\n",
       "\n",
       "    .dataframe thead th {\n",
       "        text-align: right;\n",
       "    }\n",
       "</style>\n",
       "<table border=\"1\" class=\"dataframe\">\n",
       "  <thead>\n",
       "    <tr style=\"text-align: right;\">\n",
       "      <th></th>\n",
       "      <th>ELEVATION</th>\n",
       "      <th>LATITUDE</th>\n",
       "      <th>LONGITUDE</th>\n",
       "      <th>HPCP</th>\n",
       "    </tr>\n",
       "    <tr>\n",
       "      <th>DATE</th>\n",
       "      <th></th>\n",
       "      <th></th>\n",
       "      <th></th>\n",
       "      <th></th>\n",
       "    </tr>\n",
       "  </thead>\n",
       "  <tbody>\n",
       "    <tr>\n",
       "      <th>2003-12-31</th>\n",
       "      <td>255827.5</td>\n",
       "      <td>6205.25295</td>\n",
       "      <td>-16318.57205</td>\n",
       "      <td>17.6</td>\n",
       "    </tr>\n",
       "    <tr>\n",
       "      <th>2004-12-31</th>\n",
       "      <td>349906.0</td>\n",
       "      <td>8487.18468</td>\n",
       "      <td>-22319.59532</td>\n",
       "      <td>22.6</td>\n",
       "    </tr>\n",
       "    <tr>\n",
       "      <th>2005-12-31</th>\n",
       "      <td>292138.5</td>\n",
       "      <td>7085.99853</td>\n",
       "      <td>-18634.75647</td>\n",
       "      <td>16.7</td>\n",
       "    </tr>\n",
       "    <tr>\n",
       "      <th>2006-12-31</th>\n",
       "      <td>278934.5</td>\n",
       "      <td>6765.72741</td>\n",
       "      <td>-17792.50759</td>\n",
       "      <td>16.8</td>\n",
       "    </tr>\n",
       "    <tr>\n",
       "      <th>2007-12-31</th>\n",
       "      <td>259128.5</td>\n",
       "      <td>6285.32073</td>\n",
       "      <td>-16529.13427</td>\n",
       "      <td>15.0</td>\n",
       "    </tr>\n",
       "    <tr>\n",
       "      <th>2008-12-31</th>\n",
       "      <td>239322.5</td>\n",
       "      <td>5804.91405</td>\n",
       "      <td>-15265.76095</td>\n",
       "      <td>14.0</td>\n",
       "    </tr>\n",
       "    <tr>\n",
       "      <th>2009-12-31</th>\n",
       "      <td>250876.0</td>\n",
       "      <td>6085.13949</td>\n",
       "      <td>-16002.72741</td>\n",
       "      <td>14.7</td>\n",
       "    </tr>\n",
       "    <tr>\n",
       "      <th>2010-12-31</th>\n",
       "      <td>272332.5</td>\n",
       "      <td>6605.57700</td>\n",
       "      <td>-17371.38150</td>\n",
       "      <td>17.6</td>\n",
       "    </tr>\n",
       "    <tr>\n",
       "      <th>2011-12-31</th>\n",
       "      <td>300391.0</td>\n",
       "      <td>7286.15160</td>\n",
       "      <td>-19161.16020</td>\n",
       "      <td>17.5</td>\n",
       "    </tr>\n",
       "    <tr>\n",
       "      <th>2012-12-31</th>\n",
       "      <td>153496.5</td>\n",
       "      <td>3723.14340</td>\n",
       "      <td>-9791.14230</td>\n",
       "      <td>9.5</td>\n",
       "    </tr>\n",
       "    <tr>\n",
       "      <th>2013-12-31</th>\n",
       "      <td>384566.5</td>\n",
       "      <td>9327.87540</td>\n",
       "      <td>-24530.49630</td>\n",
       "      <td>33.3</td>\n",
       "    </tr>\n",
       "  </tbody>\n",
       "</table>\n",
       "</div>"
      ],
      "text/plain": [
       "            ELEVATION    LATITUDE    LONGITUDE  HPCP\n",
       "DATE                                                \n",
       "2003-12-31   255827.5  6205.25295 -16318.57205  17.6\n",
       "2004-12-31   349906.0  8487.18468 -22319.59532  22.6\n",
       "2005-12-31   292138.5  7085.99853 -18634.75647  16.7\n",
       "2006-12-31   278934.5  6765.72741 -17792.50759  16.8\n",
       "2007-12-31   259128.5  6285.32073 -16529.13427  15.0\n",
       "2008-12-31   239322.5  5804.91405 -15265.76095  14.0\n",
       "2009-12-31   250876.0  6085.13949 -16002.72741  14.7\n",
       "2010-12-31   272332.5  6605.57700 -17371.38150  17.6\n",
       "2011-12-31   300391.0  7286.15160 -19161.16020  17.5\n",
       "2012-12-31   153496.5  3723.14340  -9791.14230   9.5\n",
       "2013-12-31   384566.5  9327.87540 -24530.49630  33.3"
      ]
     },
     "execution_count": 12,
     "metadata": {},
     "output_type": "execute_result"
    }
   ],
   "source": [
    "# Resample to monthly precip sum and save as new dataframe\n",
    "precip_2003_2013_yearly = precip_2003_2013_monthly.resample(\"Y\").sum()\n",
    "\n",
    "precip_2003_2013_yearly"
   ]
  },
  {
   "cell_type": "markdown",
   "metadata": {},
   "source": [
    "After the resample, each HPCP value now represents a yearly total, and there is now only 1 summary value for each year.\n",
    "\n",
    "Notie that you can also resample the hourly data to a yearly timestep, without 1st resampling the data to a daily or monthly timestep:"
   ]
  },
  {
   "cell_type": "code",
   "execution_count": 13,
   "metadata": {},
   "outputs": [],
   "source": [
    "precip_2003_2013_yearly = precip_2003_2013_hourly.resample(\"Y\").sum()"
   ]
  },
  {
   "cell_type": "markdown",
   "metadata": {},
   "source": [
    "### Plot yearly precipitation data\n",
    "\n",
    "To minimise your code further, you can use precip_2003_2013_hourly.resample(\"Y\").sum() directly in the plot code, rather than precip_2003_2013_yearly:"
   ]
  },
  {
   "cell_type": "code",
   "execution_count": 14,
   "metadata": {},
   "outputs": [
    {
     "data": {
      "image/png": "[encoded data removed]",
      "text/plain": [
       "<Figure size 720x720 with 1 Axes>"
      ]
     },
     "metadata": {},
     "output_type": "display_data"
    }
   ],
   "source": [
    "# Create figure and plot space\n",
    "fig, ax = plt.subplots(figsize=(10, 10))\n",
    "\n",
    "# Add x-axis and y-axis\n",
    "ax.scatter(precip_2003_2013_hourly.resample(\"Y\").sum().index.values,\n",
    "          precip_2003_2013_hourly.resample(\"Y\").sum()[\"HPCP\"],\n",
    "          color=\"purple\")\n",
    "\n",
    "# Set title and labels for axes\n",
    "ax.set(xlabel=\"Date\",\n",
    "      ylabel=\"Precipitation (inches)\",\n",
    "      title=\"Yearly Precipitation - Boulder Station\\n 2003-2013\")\n",
    "\n",
    "plt.show()"
   ]
  }
 ],
 "metadata": {
  "kernelspec": {
   "display_name": "Python 3",
   "language": "python",
   "name": "python3"
  },
  "language_info": {
   "codemirror_mode": {
    "name": "ipython",
    "version": 3
   },
   "file_extension": ".py",
   "mimetype": "text/x-python",
   "name": "python",
   "nbconvert_exporter": "python",
   "pygments_lexer": "ipython3",
   "version": "3.7.6"
  }
 },
 "nbformat": 4,
 "nbformat_minor": 4
}
