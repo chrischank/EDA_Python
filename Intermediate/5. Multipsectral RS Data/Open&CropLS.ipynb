{
 "cells": [
  {
   "cell_type": "markdown",
   "metadata": {},
   "source": [
    "# Open and Crop Landsat RS Data"
   ]
  },
  {
   "cell_type": "markdown",
   "metadata": {},
   "source": [
    "### Landsat file naming convention\n",
    "\n",
    "Landsat and many other satellite RS data is named in a way that tells you about:\n",
    "- When the data were collected and processed\n",
    "- What sensor was used to collect the data\n",
    "- What satellite was used to collect the data\n",
    "\n",
    "There are a few key components of the LS8 collection file name. The 1st scene that you wok with below is named:\n",
    "\n",
    "LC080340322016072301T1-SC20180214145802\n",
    "\n",
    "At the start of the name, you see LC08:\n",
    "- L: Landsat Sensor\n",
    "- C: OLI/TIRS combined platform\n",
    "- 08: LS8\n",
    "- 034032: The next 6 digits represent the path and row of the scene. This identifies the spatial converage of the scene\n",
    "\n",
    "Finally, you have a date. In your case as follows:\n",
    "- 20160723: representing the ymd that the data were collected-\n",
    "\n",
    "The 2nd part oif the file name above tells you more about when the data were last processed."
   ]
  },
  {
   "cell_type": "markdown",
   "metadata": {},
   "source": [
    "## Open LS .tif files"
   ]
  },
  {
   "cell_type": "code",
   "execution_count": 2,
   "metadata": {},
   "outputs": [],
   "source": [
    "import os\n",
    "from glob import glob # File manipulation\n",
    "import matplotlib.pyplot as plt\n",
    "import geopandas as gpd\n",
    "import rasterio as rio\n",
    "import earthpy as et\n",
    "import earthpy.spatial as es\n",
    "import earthpy.plot as ep\n",
    "\n",
    "# Download data and set work dir\n",
    "data = et.data.get_data(\"cold-springs-fire\")\n",
    "os.chdir(os.path.join(et.io.HOME, \"earth-analytics\", \"data\"))"
   ]
  },
  {
   "cell_type": "markdown",
   "metadata": {},
   "source": [
    "You will be working in the landsat-collect dir. Notice that the data in that directory are stored by individual band. Each file is a single geotiff (.tif) rather than 1 tif with all the bands which is what you worked with in the previous lesson with NAIP data."
   ]
  },
  {
   "cell_type": "code",
   "execution_count": null,
   "metadata": {},
   "outputs": [],
   "source": []
  }
 ],
 "metadata": {
  "kernelspec": {
   "display_name": "Python 3",
   "language": "python",
   "name": "python3"
  },
  "language_info": {
   "codemirror_mode": {
    "name": "ipython",
    "version": 3
   },
   "file_extension": ".py",
   "mimetype": "text/x-python",
   "name": "python",
   "nbconvert_exporter": "python",
   "pygments_lexer": "ipython3",
   "version": "3.7.6"
  }
 },
 "nbformat": 4,
 "nbformat_minor": 4
}
