{
 "cells": [
  {
   "cell_type": "markdown",
   "metadata": {},
   "source": [
    "# How to Replace Raster Cell Values with Values from A Different Raster Datset"
   ]
  },
  {
   "cell_type": "markdown",
   "metadata": {},
   "source": [
    "Sometimes you have many bad pixels in a LS scene that you wish to replace or fill in with pixels from another scene. In this lesson you will learn how to replace pixels in one scene with those from another using Numpy.\n",
    "\n",
    "To begin, open both of the pre-fire raster stacks, the cloud free and the cloud with cold spring fire data."
   ]
  },
  {
   "cell_type": "code",
   "execution_count": null,
   "metadata": {},
   "outputs": [
    {
     "name": "stdout",
     "output_type": "stream",
     "text": [
      "Downloading from https://ndownloader.figshare.com/files/10960214?private_link=fbba903d00e1848b423e\n"
     ]
    }
   ],
   "source": [
    "import os\n",
    "from glob import glob\n",
    "import matplotlib.pyplot as plt\n",
    "from matplotlib import patches as mpatches\n",
    "from matplotlib.colors import ListedColormap\n",
    "import seaborn as sns\n",
    "import numpy as np\n",
    "import numpy.ma as ma\n",
    "import pandas as pd\n",
    "from shapely.geometry import mapping, box\n",
    "import geopandas as gpd\n",
    "import rasterio as rio\n",
    "from rasterio.plot import plotting_extent\n",
    "import earthpy as et\n",
    "import earthpy.spatial as es\n",
    "import earthpy.plot as ep\n",
    "import earthpy.mask as em\n",
    "\n",
    "sns.set_style(\"white\")\n",
    "sns.set(font_scale=1.5)\n",
    "\n",
    "# Download data and get work dir\n",
    "data = et.data.get_data(\"cold-springs-fire\")\n",
    "data_2 = et.data.get_data(\"cs-test-landsat\")\n",
    "os.chdir(os.path.join(et.io.HOME, \"earth-analytics\"))"
   ]
  },
  {
   "cell_type": "markdown",
   "metadata": {},
   "source": [
    "First, make a masked raster stack of cold springs cloud data."
   ]
  },
  {
   "cell_type": "code",
   "execution_count": null,
   "metadata": {},
   "outputs": [],
   "source": [
    "# Stack the LS pre fire data\n",
    "landsat_paths_pre_path = os.path.join(\"data\", \"cold-springs-fire\", \"landsat_collect\", \n",
    "                                      \"LC080340322016070701T1-SC20180214145604\", \"crop\", \n",
    "                                      \"*band*.tif\")\n",
    "\n",
    "landsat_paths_pre = glob(landsat_paths_pre_path)\n",
    "landsat_paths_pre.sort()\n",
    "\n",
    "landsat_pre_cloud, landsat_pre_meta = es.stack(\n",
    "    landsat_paths_pre, nodata=-9999)\n",
    "\n",
    "# Calculate bounds object\n",
    "landsat_pre_cloud_ext_bds = rio.transform.array_bounds(\n",
    "    landsat_pre_cloud.shape[1],\n",
    "    landsat_pre_cloud.shape[2],\n",
    "    landsat_pre_meta[\"transform\"])\n",
    "\n",
    "# Open the pixel_qa layer for your LS scene\n",
    "landsat_pre_cl_path = os.path.join(\"data\", \"cold-springs-fire\", \"landsat_collect\", \n",
    "                                   \"LC080340322016070701T1-SC20180214145604\", \"crop\", \n",
    "                                   \"LC08_L1TP_034032_20160707_20170221_01_T1_pixel_qa_crop.tif\")\n",
    "\n",
    "with rio.open(landsat_pre_cl_path) as landsat_pre_cl:\n",
    "    landsat_qa = landsat_pre_cl.read(1)\n",
    "    \n",
    "# GEnerate array of all possible cloud/shadow values\n",
    "cloud_shadow = [328, 392, 840, 984, 1350]\n",
    "cloud = [352, 368, 416, 432, 480, 864, 880, 928, 944, 992]\n",
    "high_confidence_cloud = [480, 992]\n",
    "\n",
    "vals_to_mask = cloud_shadow + cloud + high_confidence_cloud\n",
    "\n",
    "# Call the earthpy mask function using pixel QA layer\n",
    "landsat_pre_cloud_masked = em.mask_pixels(landsat_pre_cloud, landsat_qa,\n",
    "                                         vals=vals_to_mask)"
   ]
  },
  {
   "cell_type": "markdown",
   "metadata": {},
   "source": [
    "Plot the data to ensure that the cloud covered pixels are masked"
   ]
  },
  {
   "cell_type": "code",
   "execution_count": null,
   "metadata": {},
   "outputs": [],
   "source": []
  }
 ],
 "metadata": {
  "kernelspec": {
   "display_name": "Python 3",
   "language": "python",
   "name": "python3"
  },
  "language_info": {
   "codemirror_mode": {
    "name": "ipython",
    "version": 3
   },
   "file_extension": ".py",
   "mimetype": "text/x-python",
   "name": "python",
   "nbconvert_exporter": "python",
   "pygments_lexer": "ipython3",
   "version": "3.7.6"
  }
 },
 "nbformat": 4,
 "nbformat_minor": 4
}
