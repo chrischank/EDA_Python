{
 "cells": [
  {
   "cell_type": "markdown",
   "metadata": {},
   "source": [
    "# Introduction to Writing Functions in Python "
   ]
  },
  {
   "cell_type": "markdown",
   "metadata": {},
   "source": [
    "## Write efficient modular code using functions"
   ]
  },
  {
   "cell_type": "markdown",
   "metadata": {},
   "source": [
    "In the introduction to DRY code, you learned about DRY code principle\n",
    "\n",
    "Functions can help you both eliminate repetition and improve efficiency in your code through modularity.\n",
    "\n",
    "Modularity means that code is separated into independent units that can be reused and even be combined to complete a longer chain of tasks"
   ]
  },
  {
   "cell_type": "markdown",
   "metadata": {},
   "source": [
    "## The benefits of functions"
   ]
  },
  {
   "cell_type": "markdown",
   "metadata": {},
   "source": [
    "- Modularity: Functions only need to be defined once in a workflow (e.g. Jupyter Notebook file, script). Functions that you write for specific tasks can be used over and over, without needintg to redefine the function again. A function that you write for one Python workflow can also be reused in other workflows!\n",
    "- Fewer variables: When you run a function, the intermediate variables (i.e. placeholders) that it creates are not stored as explicit variables unless you specify otherwise. This saves memory and keeps your Python environment cleaner.\n",
    "- Better documentation: Well-documented functions help other users understand the steps of your processing and helps your future self to understand previously written code.\n",
    "- Easier to maintiain and edit your code: Because a function is only defined once in the workflow, you can simply just update the original function definition Then, each instance in which you call that function in your code (i.e. when same task is performed) is automatically updated.\n",
    "- Testing: You won't learn about this in this class, but writing functions allows you to more easily test your code to identify issues (i.e. bugs)."
   ]
  },
  {
   "cell_type": "markdown",
   "metadata": {},
   "source": [
    "### Write modular functions and code"
   ]
  },
  {
   "cell_type": "markdown",
   "metadata": {},
   "source": [
    "A well-defined function only does one thing, but it does it well and often in a variety of contexts. Often, the operations contained in a good function are generally useful for many tasks.\n",
    "\n",
    "Take, for instance, the numpy function called mean(), which computes mean values from a numpy array.\n",
    "\n",
    "This function only does one thing (i.e. computes a mean); however, you may use the np.mean() function many times in your code on multiple numpy arrays because it has been defined to take any numpy array as an input."
   ]
  },
  {
   "cell_type": "code",
   "execution_count": 2,
   "metadata": {},
   "outputs": [
    {
     "data": {
      "text/plain": [
       "2.0"
      ]
     },
     "execution_count": 2,
     "metadata": {},
     "output_type": "execute_result"
    }
   ],
   "source": [
    "import numpy as np\n",
    "\n",
    "arr = np.array([1, 2, 3])\n",
    "\n",
    "# Calculate mean of input array\n",
    "np.mean(arr)"
   ]
  },
  {
   "cell_type": "markdown",
   "metadata": {},
   "source": [
    "The np.mean() function is modular, and it can be easily combined with other functions to accomplish a variety of tasks."
   ]
  },
  {
   "cell_type": "markdown",
   "metadata": {},
   "source": [
    "### Functions create fewer variables"
   ]
  },
  {
   "cell_type": "markdown",
   "metadata": {},
   "source": [
    "When you code task line by line, you often create numerous intermediate variables that you do not need to use again.\n",
    "\n",
    "This is inefficient and can cause your code to be repetitive, if you are constantly creating variables that you will not use again.\n",
    "\n",
    "Functions allow you to focus on the inputs and the outputs of your workflow, rather than the intermediate steps, such as creating extra variables that are not needed."
   ]
  },
  {
   "cell_type": "markdown",
   "metadata": {},
   "source": [
    "## Reasons why functions improve code readability"
   ]
  },
  {
   "cell_type": "markdown",
   "metadata": {},
   "source": [
    "### Functions cna result in better documentation"
   ]
  },
  {
   "cell_type": "markdown",
   "metadata": {},
   "source": [
    "Ideally, your code is easy to understand and is well-documented with Markdown. However.\n",
    "\n",
    "Well-written functions help you document your workflow because:\n",
    "- They are well-documented by clearly outlining the inputs and outputs.\n",
    "- They use descriptive names that help you better understand the task that the function performs."
   ]
  },
  {
   "cell_type": "markdown",
   "metadata": {},
   "source": [
    "### Expressive function names make code self-describing"
   ]
  },
  {
   "cell_type": "markdown",
   "metadata": {},
   "source": [
    "When writing your own functions, you should name functions using verbs and/or clear labels to indicate what the function does (i.e. in_to_mm for converting inches to mm).\n",
    "\n",
    "This makes your code more expressive, and easier to read for you, your future self, and your colleagues."
   ]
  },
  {
   "cell_type": "markdown",
   "metadata": {},
   "source": [
    "### Modular code is easier to maintain and edit"
   ]
  },
  {
   "cell_type": "markdown",
   "metadata": {},
   "source": [
    "Organising your code using functions from the beginning allows you to explicitly document the tawsks that your codeperforms, as all code and documentation for the function is contained in the function definition."
   ]
  },
  {
   "cell_type": "markdown",
   "metadata": {},
   "source": [
    "### You can incorporate testing to ensure code runs properly"
   ]
  },
  {
   "cell_type": "markdown",
   "metadata": {},
   "source": [
    "As your code gets longer and more complex, it is prone to mistake. For example, if your analysis relies on data that gets updated often, you may want to make sure that all the columns in your spreadsheet are present before performing an analysis. Or, that the new data are not formatted in a different way.\n",
    "\n",
    "Changes in data structure and format could cause your code to not run. Or, in worst case, your code may run but return the wrong values!\n",
    "\n",
    "If all your code is made up of functions (with built-in tests to ensure that they run as expected), then you can control the input to the function and test that the output returned is correct for that input. It is something that would be difficult to do if all of youor code is written line by line with repeated steps."
   ]
  },
  {
   "cell_type": "markdown",
   "metadata": {},
   "source": [
    "## Summary of writing modular code with functions"
   ]
  },
  {
   "cell_type": "markdown",
   "metadata": {},
   "source": [
    "It is a good idea to learn how to:\n",
    "1. Modularise your code into generalisable tasks using functions.\n",
    "2. Wqrite functions for parts of your code which include repeated steps.\n",
    "3. Document your functions clearly, specifying the structure of the inputs and outputs with clear comments about what function can do"
   ]
  }
 ],
 "metadata": {
  "kernelspec": {
   "display_name": "Python 3",
   "language": "python",
   "name": "python3"
  },
  "language_info": {
   "codemirror_mode": {
    "name": "ipython",
    "version": 3
   },
   "file_extension": ".py",
   "mimetype": "text/x-python",
   "name": "python",
   "nbconvert_exporter": "python",
   "pygments_lexer": "ipython3",
   "version": "3.7.6"
  }
 },
 "nbformat": 4,
 "nbformat_minor": 4
}
