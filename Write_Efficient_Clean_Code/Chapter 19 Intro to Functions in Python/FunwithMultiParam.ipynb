{
 "cells": [
  {
   "cell_type": "markdown",
   "metadata": {},
   "source": [
    "# Write Functions with Multiple Parameters in Python"
   ]
  },
  {
   "cell_type": "markdown",
   "metadata": {},
   "source": [
    "## Write a function with multiple parameters in Python"
   ]
  },
  {
   "cell_type": "code",
   "execution_count": 5,
   "metadata": {},
   "outputs": [],
   "source": [
    "def multiply_values(x, y):\n",
    "    '''\n",
    "    Calculate product of 2 inputs.\n",
    "    \n",
    "    Parameters\n",
    "    ----------\n",
    "    x: int or float\n",
    "    y: int or float\n",
    "    \n",
    "    Returns\n",
    "    -------\n",
    "    z: int or float\n",
    "    '''\n",
    "    z = x*y\n",
    "    return z"
   ]
  },
  {
   "cell_type": "markdown",
   "metadata": {},
   "source": [
    "## Call custom functions with multiple parameters in Python\n",
    "\n",
    "Now that you have defined the function multiple_values(), you can call it by providing values for the 2 input parameters."
   ]
  },
  {
   "cell_type": "code",
   "execution_count": 6,
   "metadata": {},
   "outputs": [
    {
     "data": {
      "text/plain": [
       "17.779999999999998"
      ]
     },
     "execution_count": 6,
     "metadata": {},
     "output_type": "execute_result"
    }
   ],
   "source": [
    "# Call function with numeric values\n",
    "multiply_values(x = 0.7, y = 25.4)"
   ]
  },
  {
   "cell_type": "markdown",
   "metadata": {},
   "source": [
    "Recall that you can also provide pre-defined variables as input, for example, a value for precipitation and another value for a unit conversion value."
   ]
  },
  {
   "cell_type": "code",
   "execution_count": 7,
   "metadata": {},
   "outputs": [
    {
     "data": {
      "text/plain": [
       "17.779999999999998"
      ]
     },
     "execution_count": 7,
     "metadata": {},
     "output_type": "execute_result"
    }
   ],
   "source": [
    "# Average monthly precip (inches) for Jan in Boulder, CO\n",
    "precip_jan_in = 0.7\n",
    "\n",
    "# Conversion factor from inches to mm\n",
    "to_mm = 25.4\n",
    "\n",
    "# Call function with pre-defined variables\n",
    "precip_jan_mm = multiply_values(\n",
    "    x = precip_jan_in,\n",
    "    y = to_mm)\n",
    "\n",
    "precip_jan_mm"
   ]
  },
  {
   "cell_type": "markdown",
   "metadata": {},
   "source": [
    "##  Combine unit conversion and calculation of stats into 1 function\n",
    "\n",
    "Imagine that you want to both convert the unit of a numpy array from mm to inches and calculate the mean value along a specified axis for either columns or rows."
   ]
  },
  {
   "cell_type": "code",
   "execution_count": 8,
   "metadata": {},
   "outputs": [],
   "source": [
    "def mm_to_in(mm):\n",
    "    '''\n",
    "    Convert input from mm to inches.\n",
    "    \n",
    "    Parameters\n",
    "    -----------\n",
    "    mm: int or flaot\n",
    "        Numeric value with units in mm.\n",
    "    \n",
    "    Returns\n",
    "    --------\n",
    "    inches: int or float\n",
    "        Numeric value with units in inches.\n",
    "    '''\n",
    "    inches = mm/25.4\n",
    "    return inches"
   ]
  },
  {
   "cell_type": "markdown",
   "metadata": {},
   "source": [
    "You can expand this function to include running a mean along a specified axis for columns or rows, and then use this function over and over on many numpy arrays as needed.\n",
    "\n",
    "This new function can have descriptive names for the function and the input parameters that describe more clearly what the function accomplishes.\n",
    "\n",
    "Begin by defining the function with a descriptive name and the 2 necessary parameters:\n",
    "- the input array with values in mm\n",
    "- the axis value for the mean calc\n",
    "\n",
    "Use placeholder variable names that highlight the purpose of each parmeter:"
   ]
  },
  {
   "cell_type": "code",
   "execution_count": 10,
   "metadata": {},
   "outputs": [],
   "source": [
    "def mean_mm_to_in_arr(arr_mm, axis_value):\n",
    "    '''\n",
    "    Calculate mean values of input array along a specified\n",
    "    axis and convert values from mm to inches.\n",
    "    \n",
    "    Parameters\n",
    "    -----------\n",
    "    arr_mm: numpy array\n",
    "        Numeric values in mm.\n",
    "    axis_value: int\n",
    "        0 to calculate mean for each column.\n",
    "        1 to calculate mean for each row.\n",
    "        \n",
    "    Returns\n",
    "    --------\n",
    "    mean_arr_in: numpy array\n",
    "        Mean values of input array in inches.\n",
    "    '''\n",
    "    mean_arr_mm = np.mean(arr_mm, axis = axis_value)\n",
    "    mean_arr_in = mean_arr_mm/25.4\n",
    "    return mean_arr_in"
   ]
  },
  {
   "cell_type": "markdown",
   "metadata": {},
   "source": [
    "Create some data and test your new function with different input values for the axis_value parameter."
   ]
  },
  {
   "cell_type": "code",
   "execution_count": 11,
   "metadata": {},
   "outputs": [
    {
     "data": {
      "text/plain": [
       "array([0.67 , 0.785, 1.61 , 2.17 , 2.93 , 0.895, 0.56 , 1.42 , 9.84 ,\n",
       "       2.34 , 0.535, 0.26 ])"
      ]
     },
     "execution_count": 11,
     "metadata": {},
     "output_type": "execute_result"
    }
   ],
   "source": [
    "# Import necessary package to run function\n",
    "import numpy as np\n",
    "\n",
    "# 2D array of average monthly precip (mm) for 2002 and 2013 in Boulder, CO\n",
    "precip_2002_2013_mm = np.array([[27.178, 11.176, 38.1, 5.08, 81.28, 29.972, \n",
    "                                 2.286, 36.576, 38.608, 61.976, 19.812, 0.508],\n",
    "                                [6.858, 28.702, 43.688, 105.156, 67.564, 15.494,  \n",
    "                                 26.162, 35.56 , 461.264, 56.896, 7.366, 12.7]\n",
    "                               ])\n",
    "\n",
    "# Calculate monthly mean (inches) for precip_2002_2013\n",
    "monthly_mean_in = mean_mm_to_in_arr(arr_mm = precip_2002_2013_mm,\n",
    "                                   axis_value = 0)\n",
    "\n",
    "monthly_mean_in"
   ]
  },
  {
   "cell_type": "code",
   "execution_count": 12,
   "metadata": {},
   "outputs": [
    {
     "data": {
      "text/plain": [
       "array([1.15666667, 2.84583333])"
      ]
     },
     "execution_count": 12,
     "metadata": {},
     "output_type": "execute_result"
    }
   ],
   "source": [
    "# Calculate yedarly mean (inches) for precip_2002_2013\n",
    "yearly_mean_in = mean_mm_to_in_arr(arr_mm = precip_2002_2013_mm,\n",
    "                                  axis_value = 1)\n",
    "\n",
    "yearly_mean_in"
   ]
  },
  {
   "cell_type": "markdown",
   "metadata": {},
   "source": [
    "## Define optional input parameters for a function\n",
    "\n",
    "Your previously defined function works well if you want to use a specified axis for the mean.\n",
    "\n",
    "However, notice what happens when you try to call the function without providing an axis value, such as for a 1D array."
   ]
  },
  {
   "cell_type": "code",
   "execution_count": 16,
   "metadata": {},
   "outputs": [
    {
     "ename": "IndentationError",
     "evalue": "unexpected indent (<ipython-input-16-099f96a33e2b>, line 6)",
     "output_type": "error",
     "traceback": [
      "\u001b[1;36m  File \u001b[1;32m\"<ipython-input-16-099f96a33e2b>\"\u001b[1;36m, line \u001b[1;32m6\u001b[0m\n\u001b[1;33m    monthly_mean_in = mean_mm_to_in_arr(arr_mm = precip_2002_mm)\u001b[0m\n\u001b[1;37m    ^\u001b[0m\n\u001b[1;31mIndentationError\u001b[0m\u001b[1;31m:\u001b[0m unexpected indent\n"
     ]
    }
   ],
   "source": [
    "# 1D array of average monthly precip (mm) for 2002 in Boulder, CO\n",
    "precip_2002_mm = np.array([27.178, 11.176, 38.1, 5.08, 81.28, 29.972,\n",
    "                          2.286, 36.576, 38.608, 61.976, 19.812, 0.508])\n",
    "\n",
    "    # Calculate mean (inches) for precip_2002\n",
    "    monthly_mean_in = mean_mm_to_in_arr(arr_mm = precip_2002_mm)"
   ]
  },
  {
   "cell_type": "markdown",
   "metadata": {},
   "source": [
    "What if you want to make the function more generalisable, so that the axis value is optional?\n",
    "\n",
    "You can do that by specifying a default value for axis_value as None as shown below:"
   ]
  },
  {
   "cell_type": "code",
   "execution_count": 19,
   "metadata": {},
   "outputs": [],
   "source": [
    "def mean_mm_to_in_arr(arr_mm, axis_value=None):\n",
    "    '''\n",
    "    Calculate meaqn values of input array and convert values\n",
    "    from millimeters to inches. If an axis is specified,\n",
    "    the mean will be calculated along that axis.\n",
    "    \n",
    "    Parameters\n",
    "    -----------\n",
    "    arr_mm: numpy array\n",
    "        Numeric values in mm.\n",
    "    axis_value: int (optioonal)\n",
    "        0 to calculate mean for each column\n",
    "        1 to calculate mean for each row\n",
    "    \n",
    "    Returns\n",
    "    -------\n",
    "    mean_arr_in: numpy array\n",
    "        Mean values of input array in inches.\n",
    "    '''\n",
    "    if axis_value is None:\n",
    "        mean_arr_mm = np.mean(arr_mm)\n",
    "    else:\n",
    "        mean_arr_mm = np.mean(arr_mm, axis = axis_value)\n",
    "    \n",
    "    mean_arr_in = mean_arr_mm / 25.4\n",
    "    \n",
    "    return mean_arr_in"
   ]
  },
  {
   "cell_type": "markdown",
   "metadata": {},
   "source": [
    "Notice that the function will return the same output as before the 2D array precip_2002_2013_mm."
   ]
  },
  {
   "cell_type": "code",
   "execution_count": 20,
   "metadata": {},
   "outputs": [
    {
     "data": {
      "text/plain": [
       "array([0.67 , 0.785, 1.61 , 2.17 , 2.93 , 0.895, 0.56 , 1.42 , 9.84 ,\n",
       "       2.34 , 0.535, 0.26 ])"
      ]
     },
     "execution_count": 20,
     "metadata": {},
     "output_type": "execute_result"
    }
   ],
   "source": [
    "# Calculate monthly mean (inches) for precip_2002_2013\n",
    "monthly_mean_in = mean_mm_to_in_arr(arr_mm = precip_2002_2013_mm,\n",
    "                                   axis_value = 0)\n",
    "\n",
    "monthly_mean_in"
   ]
  },
  {
   "cell_type": "markdown",
   "metadata": {},
   "source": [
    "However, now you can also provide a 1D array as an input without a specified axis anhd receive the appropriate output."
   ]
  },
  {
   "cell_type": "code",
   "execution_count": 21,
   "metadata": {},
   "outputs": [
    {
     "data": {
      "text/plain": [
       "1.606220472440945"
      ]
     },
     "execution_count": 21,
     "metadata": {},
     "output_type": "execute_result"
    }
   ],
   "source": [
    "# Calculate mean (inches) for precip_2002\n",
    "monthly_mean_in = mean_mm_to_in_arr(arr_mm = precip_2002_mm)\n",
    "\n",
    "monthly_mean_in"
   ]
  },
  {
   "cell_type": "markdown",
   "metadata": {},
   "source": [
    "## Combine download and import of data files into 1 function"
   ]
  },
  {
   "cell_type": "markdown",
   "metadata": {},
   "source": [
    "You can alos write multi-parameter functions to combine other tasks into 1 function, such as downloading and importing data files into a pandas dataframe.\n",
    "\n",
    "Think about the code that you need to include in the function:\n",
    "1. download data file from URL: et.data.get_data(url=file_url)\n",
    "2. import data file into pandas dataframe: pd.read_csv(path)\n",
    "\n",
    "From this code, you can see that you will need 2 input parameters for the combined function:\n",
    "1. the URL to the data file\n",
    "2. the path to the downloaded file"
   ]
  },
  {
   "cell_type": "code",
   "execution_count": 5,
   "metadata": {},
   "outputs": [],
   "source": [
    "def download_import_df(file_url, path):\n",
    "    '''\n",
    "    Download file from specified URL and import file\n",
    "    into a pandas dataframe from a specified path.\n",
    "    \n",
    "    Working directory is set to earth-analytics directory\n",
    "    under home, which is automatically created by the\n",
    "    download.\n",
    "    \n",
    "    Parameters\n",
    "    ----------\n",
    "    file_url: str\n",
    "        URL to CSV file (http or https).\n",
    "    path: str\n",
    "        Path to CSV file using relative path\n",
    "        to earth-analytics directory under home.\n",
    "        \n",
    "    Returns\n",
    "    -------\n",
    "    df: pandas dataframe\n",
    "        Dataframe imported from downloaded CSV file.\n",
    "    '''\n",
    "    et.data.get_data(url=file_url)\n",
    "    os-chdir(os.path.join(et.io.HOME, \"earth-analytics\"))\n",
    "    df = pd.read_csv(path)\n",
    "    \n",
    "    return df"
   ]
  },
  {
   "cell_type": "markdown",
   "metadata": {},
   "source": [
    "Now that you have defined the function, you can import the packages needed to run the function and define the variables that you will use as input parameters"
   ]
  },
  {
   "cell_type": "code",
   "execution_count": 6,
   "metadata": {},
   "outputs": [],
   "source": [
    "import os\n",
    "import pandas as pd\n",
    "import earthpy as et\n",
    "\n",
    "# URL for average monthly precip (inches) for 2002 and 2013 in Boulder, CO\n",
    "precip_2002_2013_df_url = \"https://ndownloader.figshare.com/files/12710621\"\n",
    "\n",
    "# Path to downloaded .csv file with headers\n",
    "precip_2002_2013_df_path = os.path.join(\"data\", \"earthpy-downloads\",\n",
    "                                       \"precip-2002-2013-months-seasons.csv\")"
   ]
  },
  {
   "cell_type": "code",
   "execution_count": 11,
   "metadata": {},
   "outputs": [
    {
     "ename": "NameError",
     "evalue": "name 'chdir' is not defined",
     "output_type": "error",
     "traceback": [
      "\u001b[1;31m---------------------------------------------------------------------------\u001b[0m",
      "\u001b[1;31mNameError\u001b[0m                                 Traceback (most recent call last)",
      "\u001b[1;32m<ipython-input-11-0cc0b4b98f76>\u001b[0m in \u001b[0;36m<module>\u001b[1;34m\u001b[0m\n\u001b[0;32m      2\u001b[0m precip_2002_2013_df = download_import_df(\n\u001b[0;32m      3\u001b[0m     \u001b[0mfile_url\u001b[0m \u001b[1;33m=\u001b[0m \u001b[0mprecip_2002_2013_df_url\u001b[0m\u001b[1;33m,\u001b[0m\u001b[1;33m\u001b[0m\u001b[1;33m\u001b[0m\u001b[0m\n\u001b[1;32m----> 4\u001b[1;33m     path = precip_2002_2013_df_path)\n\u001b[0m\u001b[0;32m      5\u001b[0m \u001b[1;33m\u001b[0m\u001b[0m\n\u001b[0;32m      6\u001b[0m \u001b[0mprecip_2002_2013_df\u001b[0m\u001b[1;33m\u001b[0m\u001b[1;33m\u001b[0m\u001b[0m\n",
      "\u001b[1;32m<ipython-input-5-2cb9ccd8db7f>\u001b[0m in \u001b[0;36mdownload_import_df\u001b[1;34m(file_url, path)\u001b[0m\n\u001b[0;32m     22\u001b[0m     '''\n\u001b[0;32m     23\u001b[0m     \u001b[0met\u001b[0m\u001b[1;33m.\u001b[0m\u001b[0mdata\u001b[0m\u001b[1;33m.\u001b[0m\u001b[0mget_data\u001b[0m\u001b[1;33m(\u001b[0m\u001b[0murl\u001b[0m\u001b[1;33m=\u001b[0m\u001b[0mfile_url\u001b[0m\u001b[1;33m)\u001b[0m\u001b[1;33m\u001b[0m\u001b[1;33m\u001b[0m\u001b[0m\n\u001b[1;32m---> 24\u001b[1;33m     \u001b[0mos\u001b[0m\u001b[1;33m-\u001b[0m\u001b[0mchdir\u001b[0m\u001b[1;33m(\u001b[0m\u001b[0mos\u001b[0m\u001b[1;33m.\u001b[0m\u001b[0mpath\u001b[0m\u001b[1;33m.\u001b[0m\u001b[0mjoin\u001b[0m\u001b[1;33m(\u001b[0m\u001b[0met\u001b[0m\u001b[1;33m.\u001b[0m\u001b[0mio\u001b[0m\u001b[1;33m.\u001b[0m\u001b[0mHOME\u001b[0m\u001b[1;33m,\u001b[0m \u001b[1;34m\"earth-analytics\"\u001b[0m\u001b[1;33m)\u001b[0m\u001b[1;33m)\u001b[0m\u001b[1;33m\u001b[0m\u001b[1;33m\u001b[0m\u001b[0m\n\u001b[0m\u001b[0;32m     25\u001b[0m     \u001b[0mdf\u001b[0m \u001b[1;33m=\u001b[0m \u001b[0mpd\u001b[0m\u001b[1;33m.\u001b[0m\u001b[0mread_csv\u001b[0m\u001b[1;33m(\u001b[0m\u001b[0mpath\u001b[0m\u001b[1;33m)\u001b[0m\u001b[1;33m\u001b[0m\u001b[1;33m\u001b[0m\u001b[0m\n\u001b[0;32m     26\u001b[0m \u001b[1;33m\u001b[0m\u001b[0m\n",
      "\u001b[1;31mNameError\u001b[0m: name 'chdir' is not defined"
     ]
    }
   ],
   "source": [
    "# Create dataframe using download/import function\n",
    "precip_2002_2013_df = download_import_df(\n",
    "    file_url = precip_2002_2013_df_url,\n",
    "    path = precip_2002_2013_df_path)\n",
    "\n",
    "precip_2002_2013_df"
   ]
  },
  {
   "cell_type": "markdown",
   "metadata": {},
   "source": [
    "### Making functions more efficient does not always mean more parameters"
   ]
  },
  {
   "cell_type": "markdown",
   "metadata": {},
   "source": [
    "Note that you previously defined download_import_df() to take in 2 parameters, 1 for the URL and for the path, and the function works well to accomplish the task.\n",
    "\n",
    "However, with a little investigation into the et.data.get_data() function, you can see that the output of that function is actually a path to the downloaded file!"
   ]
  },
  {
   "cell_type": "code",
   "execution_count": 12,
   "metadata": {},
   "outputs": [
    {
     "name": "stdout",
     "output_type": "stream",
     "text": [
      "Help on method get_data in module earthpy.io:\n",
      "\n",
      "get_data(key=None, url=None, replace=False, verbose=True) method of earthpy.io.Data instance\n",
      "    Retrieve the data for a given week and return its path.\n",
      "    \n",
      "    This will retrieve data from the internet if it isn't already\n",
      "    downloaded, otherwise it will only return a path to that dataset.\n",
      "    \n",
      "    Parameters\n",
      "    ----------\n",
      "    key : str\n",
      "        The dataset to retrieve. Possible options can be found in\n",
      "        ``self.data_keys``. Note: ``key`` and ``url`` are mutually\n",
      "        exclusive.\n",
      "    url : str\n",
      "        A URL to fetch into the data directory. Use this for ad-hoc dataset\n",
      "        downloads. Note: ``key`` and ``url`` are mutually exclusive.\n",
      "    replace : bool\n",
      "        Whether to replace the data for this key if it is\n",
      "        already downloaded.\n",
      "    verbose : bool\n",
      "        Whether to print verbose output while downloading files.\n",
      "    \n",
      "    Returns\n",
      "    -------\n",
      "    path_data : str\n",
      "        The path to the downloaded data.\n",
      "    \n",
      "    Examples\n",
      "    --------\n",
      "    Download a dataset using a key:\n",
      "    \n",
      "        >>> et.data.get_data('california-rim-fire') # doctest: +SKIP\n",
      "    \n",
      "    Or, download a dataset using a figshare URL:\n",
      "    \n",
      "        >>> url = 'https://ndownloader.figshare.com/files/12395030'\n",
      "        >>> et.data.get_data(url=url)  # doctest: +SKIP\n",
      "\n"
     ]
    }
   ],
   "source": [
    "help(et.data.get_data)"
   ]
  },
  {
   "cell_type": "markdown",
   "metadata": {},
   "source": [
    "In the docstring details provided, you can see that the full path to the downloaded data is returned by the function:\n",
    "\n",
    "This means that you can redefine download_import_df() to be more efficient by simply using the output of the et.data.get_data() fuznction as the input to the pd.read_csv() function.\n",
    "\n",
    "Now, you actually only need 1 parameter for the URL and you do not have to define the working directory in the function, in order to find the appropriate file."
   ]
  },
  {
   "cell_type": "code",
   "execution_count": 19,
   "metadata": {},
   "outputs": [],
   "source": [
    "def download_import_df(file_url):\n",
    "    '''\n",
    "    Download file from specified URL and import file\n",
    "    injto a pandas dataframe.\n",
    "    \n",
    "    The path to the download file is auto gen\n",
    "    by the download and is passed to the pandas\n",
    "    function to create a new dataframe.\n",
    "    \n",
    "    Parameters\n",
    "    -----------\n",
    "    file url: str\n",
    "        URL to CSV file (http or https).\n",
    "    \n",
    "    Returns\n",
    "    --------\n",
    "    df: pandas dataframe\n",
    "        DataFrame imported from downloaded CSV file.\n",
    "    '''\n",
    "    \n",
    "    df = pd.read_csv(et.data.get_data(url=file_url))\n",
    "    \n",
    "    return df"
   ]
  },
  {
   "cell_type": "code",
   "execution_count": 21,
   "metadata": {},
   "outputs": [
    {
     "data": {
      "text/html": [
       "<div>\n",
       "<style scoped>\n",
       "    .dataframe tbody tr th:only-of-type {\n",
       "        vertical-align: middle;\n",
       "    }\n",
       "\n",
       "    .dataframe tbody tr th {\n",
       "        vertical-align: top;\n",
       "    }\n",
       "\n",
       "    .dataframe thead th {\n",
       "        text-align: right;\n",
       "    }\n",
       "</style>\n",
       "<table border=\"1\" class=\"dataframe\">\n",
       "  <thead>\n",
       "    <tr style=\"text-align: right;\">\n",
       "      <th></th>\n",
       "      <th>months</th>\n",
       "      <th>precip_2002</th>\n",
       "      <th>precip_2013</th>\n",
       "      <th>seasons</th>\n",
       "    </tr>\n",
       "  </thead>\n",
       "  <tbody>\n",
       "    <tr>\n",
       "      <th>0</th>\n",
       "      <td>Jan</td>\n",
       "      <td>1.07</td>\n",
       "      <td>0.27</td>\n",
       "      <td>Winter</td>\n",
       "    </tr>\n",
       "    <tr>\n",
       "      <th>1</th>\n",
       "      <td>Feb</td>\n",
       "      <td>0.44</td>\n",
       "      <td>1.13</td>\n",
       "      <td>Winter</td>\n",
       "    </tr>\n",
       "    <tr>\n",
       "      <th>2</th>\n",
       "      <td>Mar</td>\n",
       "      <td>1.50</td>\n",
       "      <td>1.72</td>\n",
       "      <td>Spring</td>\n",
       "    </tr>\n",
       "    <tr>\n",
       "      <th>3</th>\n",
       "      <td>Apr</td>\n",
       "      <td>0.20</td>\n",
       "      <td>4.14</td>\n",
       "      <td>Spring</td>\n",
       "    </tr>\n",
       "    <tr>\n",
       "      <th>4</th>\n",
       "      <td>May</td>\n",
       "      <td>3.20</td>\n",
       "      <td>2.66</td>\n",
       "      <td>Spring</td>\n",
       "    </tr>\n",
       "    <tr>\n",
       "      <th>5</th>\n",
       "      <td>June</td>\n",
       "      <td>1.18</td>\n",
       "      <td>0.61</td>\n",
       "      <td>Summer</td>\n",
       "    </tr>\n",
       "    <tr>\n",
       "      <th>6</th>\n",
       "      <td>July</td>\n",
       "      <td>0.09</td>\n",
       "      <td>1.03</td>\n",
       "      <td>Summer</td>\n",
       "    </tr>\n",
       "    <tr>\n",
       "      <th>7</th>\n",
       "      <td>Aug</td>\n",
       "      <td>1.44</td>\n",
       "      <td>1.40</td>\n",
       "      <td>Summer</td>\n",
       "    </tr>\n",
       "    <tr>\n",
       "      <th>8</th>\n",
       "      <td>Sept</td>\n",
       "      <td>1.52</td>\n",
       "      <td>18.16</td>\n",
       "      <td>Fall</td>\n",
       "    </tr>\n",
       "    <tr>\n",
       "      <th>9</th>\n",
       "      <td>Oct</td>\n",
       "      <td>2.44</td>\n",
       "      <td>2.24</td>\n",
       "      <td>Fall</td>\n",
       "    </tr>\n",
       "    <tr>\n",
       "      <th>10</th>\n",
       "      <td>Nov</td>\n",
       "      <td>0.78</td>\n",
       "      <td>0.29</td>\n",
       "      <td>Fall</td>\n",
       "    </tr>\n",
       "    <tr>\n",
       "      <th>11</th>\n",
       "      <td>Dec</td>\n",
       "      <td>0.02</td>\n",
       "      <td>0.50</td>\n",
       "      <td>Winter</td>\n",
       "    </tr>\n",
       "  </tbody>\n",
       "</table>\n",
       "</div>"
      ],
      "text/plain": [
       "   months  precip_2002  precip_2013 seasons\n",
       "0     Jan         1.07         0.27  Winter\n",
       "1     Feb         0.44         1.13  Winter\n",
       "2     Mar         1.50         1.72  Spring\n",
       "3     Apr         0.20         4.14  Spring\n",
       "4     May         3.20         2.66  Spring\n",
       "5    June         1.18         0.61  Summer\n",
       "6    July         0.09         1.03  Summer\n",
       "7     Aug         1.44         1.40  Summer\n",
       "8    Sept         1.52        18.16    Fall\n",
       "9     Oct         2.44         2.24    Fall\n",
       "10    Nov         0.78         0.29    Fall\n",
       "11    Dec         0.02         0.50  Winter"
      ]
     },
     "execution_count": 21,
     "metadata": {},
     "output_type": "execute_result"
    }
   ],
   "source": [
    "# Create dataframe using download/import function\n",
    "precip_2002_2013_df = download_import_df(\n",
    "    file_url = precip_2002_2013_df_url)\n",
    "\n",
    "precip_2002_2013_df"
   ]
  }
 ],
 "metadata": {
  "kernelspec": {
   "display_name": "Python 3",
   "language": "python",
   "name": "python3"
  },
  "language_info": {
   "codemirror_mode": {
    "name": "ipython",
    "version": 3
   },
   "file_extension": ".py",
   "mimetype": "text/x-python",
   "name": "python",
   "nbconvert_exporter": "python",
   "pygments_lexer": "ipython3",
   "version": "3.7.6"
  }
 },
 "nbformat": 4,
 "nbformat_minor": 4
}
