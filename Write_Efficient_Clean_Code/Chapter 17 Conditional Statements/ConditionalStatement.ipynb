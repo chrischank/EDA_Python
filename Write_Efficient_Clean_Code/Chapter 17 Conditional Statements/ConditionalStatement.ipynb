{
 "cells": [
  {
   "cell_type": "markdown",
   "metadata": {},
   "source": [
    "Chapter 17. Conditional Statements in Python"
   ]
  },
  {
   "cell_type": "markdown",
   "metadata": {},
   "source": [
    "Intro to Conditional Statements in Python"
   ]
  },
  {
   "cell_type": "markdown",
   "metadata": {},
   "source": [
    "Why use conditional statements\n",
    "\n",
    "A conditional statemetn is used to determine whether a certain condition exists before code is executed.\n",
    "\n",
    "Conditional statements can help improve the efficiency of your code by providing you with the ability to control the flow of youor code, such as when or how code is executed.\n",
    "\n",
    "This can be very useful for checking whether a certain condition exists before the code begins to execute, as you may want to only execute certain code lines with certain conditions are met\n",
    "\n",
    "For example, conditional statements can be used to check that a certain variable or file exists before code is executed, or to execute more code if some criteria is met, such as a calculation resulting in a specific value."
   ]
  },
  {
   "cell_type": "markdown",
   "metadata": {},
   "source": [
    "Structure of conditional statements\n",
    "\n",
    "A conditional statement uses a syntax structure based on if and else statements (each ending with a colon :) that define the potential actions that can be completed based on whether the condition is true or not:"
   ]
  },
  {
   "cell_type": "code",
   "execution_count": 1,
   "metadata": {},
   "outputs": [
    {
     "ename": "SyntaxError",
     "evalue": "invalid syntax (<ipython-input-1-5878f545e8c4>, line 2)",
     "output_type": "error",
     "traceback": [
      "\u001b[1;36m  File \u001b[1;32m\"<ipython-input-1-5878f545e8c4>\"\u001b[1;36m, line \u001b[1;32m2\u001b[0m\n\u001b[1;33m    some code here\u001b[0m\n\u001b[1;37m            ^\u001b[0m\n\u001b[1;31mSyntaxError\u001b[0m\u001b[1;31m:\u001b[0m invalid syntax\n"
     ]
    }
   ],
   "source": [
    "if condition:\n",
    "    some code here\n",
    "else:\n",
    "    some other code here"
   ]
  },
  {
   "cell_type": "markdown",
   "metadata": {},
   "source": [
    "If the condition provided with the if statement is satisfied (i.e. results in a value of True), then a certain code will execute. If that condition is not met (i.e.results in a value of False), then the code provided with the else statement will execute.\n",
    "\n",
    "For example:"
   ]
  },
  {
   "cell_type": "code",
   "execution_count": 2,
   "metadata": {},
   "outputs": [
    {
     "ename": "NameError",
     "evalue": "name 'condition' is not defined",
     "output_type": "error",
     "traceback": [
      "\u001b[1;31m---------------------------------------------------------------------------\u001b[0m",
      "\u001b[1;31mNameError\u001b[0m                                 Traceback (most recent call last)",
      "\u001b[1;32m<ipython-input-2-e6fd5d119bb2>\u001b[0m in \u001b[0;36m<module>\u001b[1;34m\u001b[0m\n\u001b[1;32m----> 1\u001b[1;33m \u001b[1;32mif\u001b[0m \u001b[0mcondition\u001b[0m\u001b[1;33m:\u001b[0m\u001b[1;33m\u001b[0m\u001b[1;33m\u001b[0m\u001b[0m\n\u001b[0m\u001b[0;32m      2\u001b[0m     \u001b[0mprint\u001b[0m\u001b[1;33m(\u001b[0m\u001b[1;34m\"Condition is true, and this statement is printed.\"\u001b[0m\u001b[1;33m)\u001b[0m\u001b[1;33m\u001b[0m\u001b[1;33m\u001b[0m\u001b[0m\n\u001b[0;32m      3\u001b[0m \u001b[1;32melse\u001b[0m\u001b[1;33m:\u001b[0m\u001b[1;33m\u001b[0m\u001b[1;33m\u001b[0m\u001b[0m\n\u001b[0;32m      4\u001b[0m     \u001b[0mprint\u001b[0m\u001b[1;33m(\u001b[0m\u001b[1;34m\"Condition is false (i.e. not true), so a different statement is printed\"\u001b[0m\u001b[1;33m)\u001b[0m\u001b[1;33m\u001b[0m\u001b[1;33m\u001b[0m\u001b[0m\n",
      "\u001b[1;31mNameError\u001b[0m: name 'condition' is not defined"
     ]
    }
   ],
   "source": [
    "if condition:\n",
    "    print(\"Condition is true, and this statement is printed.\")\n",
    "else:\n",
    "    print(\"Condition is false (i.e. not true), so a different statement is printed\")"
   ]
  },
  {
   "cell_type": "markdown",
   "metadata": {},
   "source": [
    "Compare numeric values using conditional statements\n",
    "\n",
    "You can write conditional statements that use comparison operators (e.g. equzal to ==, less than <) to check the value of a variable against some other value or variable."
   ]
  },
  {
   "cell_type": "code",
   "execution_count": 1,
   "metadata": {},
   "outputs": [
    {
     "name": "stdout",
     "output_type": "stream",
     "text": [
      "x is equal to 10.\n"
     ]
    }
   ],
   "source": [
    "# Set x to 10\n",
    "x = 10\n",
    "\n",
    "# Compare x to 10\n",
    "if x == 10:\n",
    "    print(\"x is equal to 10.\")\n",
    "else:\n",
    "    print(\"x has a value of\", x, \"which is not equal to 10\")"
   ]
  },
  {
   "cell_type": "code",
   "execution_count": 2,
   "metadata": {},
   "outputs": [
    {
     "name": "stdout",
     "output_type": "stream",
     "text": [
      "x has a value of 0 which is not equal to 10.\n"
     ]
    }
   ],
   "source": [
    "# Set x to 0\n",
    "x = 0\n",
    "\n",
    "# Compare x to 10\n",
    "if x == 10:\n",
    "    print(\"x is equal to 10.\")\n",
    "else:\n",
    "    print(\"x has a value of\", x, \"which is not equal to 10.\")"
   ]
  },
  {
   "cell_type": "markdown",
   "metadata": {},
   "source": [
    "You can also use other comparison operators to check whether the value of variables is less than < or greater > than a certain value or another variable."
   ]
  },
  {
   "cell_type": "code",
   "execution_count": 3,
   "metadata": {},
   "outputs": [
    {
     "name": "stdout",
     "output_type": "stream",
     "text": [
      "x has a value of 0 which is less than 10.\n"
     ]
    }
   ],
   "source": [
    "# Set x to 0\n",
    "x = 0\n",
    "\n",
    "#Check whether x is less than 10\n",
    "if x < 10:\n",
    "    print(\"x has a value of\", x, \"which is less than 10.\")\n",
    "else:\n",
    "    print(\"x has a value of\", x, \"which is greater than 10.\")\n",
    "    \n",
    "## x has a value of 0 which is less than 10."
   ]
  },
  {
   "cell_type": "code",
   "execution_count": 4,
   "metadata": {},
   "outputs": [
    {
     "name": "stdout",
     "output_type": "stream",
     "text": [
      "x has a value of 0 which is greater than -10\n"
     ]
    }
   ],
   "source": [
    "# Create y equal to -10\n",
    "y = -10\n",
    "\n",
    "# Check whether x is greater than y\n",
    "if x > y:\n",
    "    print(\"x has a value of\", x, \"which is greater than\", y)\n",
    "else:\n",
    "    print(\"x has a value of\", x, \"which is less than\", y)\n",
    "    \n",
    "## x has a value of 0 which is greater than -10"
   ]
  },
  {
   "cell_type": "code",
   "execution_count": 5,
   "metadata": {},
   "outputs": [
    {
     "name": "stdout",
     "output_type": "stream",
     "text": [
      "x has a value of 0 which is less than 100\n"
     ]
    }
   ],
   "source": [
    "# Set y equal to 100\n",
    "y = 100\n",
    "\n",
    "# Check whether x is greater than y\n",
    "if x > y:\n",
    "    print(\"x has a value of\", x, \"which is greater than\", y)\n",
    "else:\n",
    "    print(\"x has a value of\", x, \"which is less than\", y)"
   ]
  },
  {
   "cell_type": "markdown",
   "metadata": {},
   "source": [
    "Check for values using conditional statements\n",
    "\n",
    "You can use membership operators (e.g. in or not in) to write conditional statements to check whether certain values are contained within a data structure, such as a list, or even a text string."
   ]
  },
  {
   "cell_type": "code",
   "execution_count": 6,
   "metadata": {},
   "outputs": [
    {
     "name": "stdout",
     "output_type": "stream",
     "text": [
      "Value is in list.\n"
     ]
    }
   ],
   "source": [
    "# Create list of average monthly precip (inches) in Boulder, CO\n",
    "avg_monthly_precip = [0.70, 0.75, 1.85, 2.93, 3.05, 2.02,\n",
    "                     1.93, 1.62, 1.84, 1.31, 1.39, 0.84]\n",
    "\n",
    "# Check for value 0.70 in list\n",
    "if 0.70 in avg_monthly_precip:\n",
    "    print(\"Value is in list.\")\n",
    "else:\n",
    "    print(\"Value is not in list.\")"
   ]
  },
  {
   "cell_type": "code",
   "execution_count": 10,
   "metadata": {},
   "outputs": [
    {
     "name": "stdout",
     "output_type": "stream",
     "text": [
      "Value is not in list.\n"
     ]
    }
   ],
   "source": [
    "# Check for value 0.71 in list\n",
    "if 0.71 in avg_monthly_precip:\n",
    "    print(\"Value is in list.\")\n",
    "else:\n",
    "    print(\"Value is not in list.\")"
   ]
  },
  {
   "cell_type": "markdown",
   "metadata": {},
   "source": [
    "The condition above could also be checked in the opposite manner using not in to check that the value is not in the list:"
   ]
  },
  {
   "cell_type": "code",
   "execution_count": 11,
   "metadata": {},
   "outputs": [
    {
     "name": "stdout",
     "output_type": "stream",
     "text": [
      "Value is not in list.\n"
     ]
    }
   ],
   "source": [
    "# Check that value 0.71 not in list\n",
    "if 0.71 not in avg_monthly_precip:\n",
    "    print(\"Value is not in list.\")\n",
    "else:\n",
    "    print(\"Value is in list.\")"
   ]
  },
  {
   "cell_type": "code",
   "execution_count": 12,
   "metadata": {},
   "outputs": [
    {
     "name": "stdout",
     "output_type": "stream",
     "text": [
      "This textstring does not contain the word precip.\n"
     ]
    }
   ],
   "source": [
    "# Check for string \"precip\" within text string \"avg_monthly_temp\"\n",
    "if \"precip\" in \"avg_monthly_temp\":\n",
    "    print(\"This textstring contains the word precip.\")\n",
    "else:\n",
    "    print(\"This textstring does not contain the word precip.\")"
   ]
  },
  {
   "cell_type": "markdown",
   "metadata": {},
   "source": [
    "Checking for specific text strings within the names of objects, such as lists or data structures, can be helpful when you have a long, automated workflow for which you want to execute code on only those objects that have particular word in the name."
   ]
  },
  {
   "cell_type": "markdown",
   "metadata": {},
   "source": [
    "Check object type using conditional statements\n",
    "\n",
    "You can also use identity operators (e.g. is or is not) to write conditional statements to check whether an object is of a certain type (e.g. int, str, list)."
   ]
  },
  {
   "cell_type": "code",
   "execution_count": 13,
   "metadata": {},
   "outputs": [
    {
     "name": "stdout",
     "output_type": "stream",
     "text": [
      "0 is an integer.\n"
     ]
    }
   ],
   "source": [
    "# Set x to 0\n",
    "x = 0\n",
    "\n",
    "# Check if x is type integer\n",
    "if type(x) is int:\n",
    "    print(x, \"is an integer.\")\n",
    "else:\n",
    "    print(x, \"is not an integer.\")"
   ]
  },
  {
   "cell_type": "code",
   "execution_count": 14,
   "metadata": {},
   "outputs": [
    {
     "name": "stdout",
     "output_type": "stream",
     "text": [
      "0 is not a float.\n"
     ]
    }
   ],
   "source": [
    "# Check if x is a type float\n",
    "if type(x) is float:\n",
    "    print(x, \"is a float.\")\n",
    "else:\n",
    "    print(x, \"is not a float.\")"
   ]
  },
  {
   "cell_type": "code",
   "execution_count": 15,
   "metadata": {},
   "outputs": [
    {
     "name": "stdout",
     "output_type": "stream",
     "text": [
      "0 is not a string\n"
     ]
    }
   ],
   "source": [
    "# Check if x is not type string\n",
    "if type(x) is not str:\n",
    "    print(x, \"is not a string\")\n",
    "else:\n",
    "    print(x, \"is a string\")"
   ]
  },
  {
   "cell_type": "markdown",
   "metadata": {},
   "source": [
    "With identity operators, you can also check that an object is a certain data structure, such as a list, and even compare its type to the type of another object."
   ]
  },
  {
   "cell_type": "code",
   "execution_count": 16,
   "metadata": {},
   "outputs": [
    {
     "name": "stdout",
     "output_type": "stream",
     "text": [
      "Object is a list.\n"
     ]
    }
   ],
   "source": [
    "# Create list of abbreviated month names\n",
    "months = [\"Jan\", \"Feb\", \"Mar\", \"Apr\", \"May\", \"June\",\n",
    "         \"July\", \"Aug\", \"Sept\", \"Oct\", \"Nov\", \"Dec\"]\n",
    "\n",
    "if type(months) is list:\n",
    "    print(\"Object is a list.\")\n",
    "else:\n",
    "    print(\"Object is not a list.\")"
   ]
  },
  {
   "cell_type": "code",
   "execution_count": 17,
   "metadata": {},
   "outputs": [
    {
     "name": "stdout",
     "output_type": "stream",
     "text": [
      "These objects are of the same type.\n"
     ]
    }
   ],
   "source": [
    "# Check that type of months matches type of avg_monthly_precip\n",
    "if type(avg_monthly_precip) is type(months):\n",
    "    print(\"These objects are of the same type.\")\n",
    "else:\n",
    "    print(\"These objects are not of the same type.\")"
   ]
  },
  {
   "cell_type": "markdown",
   "metadata": {},
   "source": [
    "Check paths using conditional statements\n",
    "\n",
    "You can also use conditional statements to check paths using a familiar function: os.path.exists()\n",
    "\n",
    "Begin by importing the necessary packages and writing the code needed to download the data (earthpy) and set the working directory (os)"
   ]
  },
  {
   "cell_type": "code",
   "execution_count": 1,
   "metadata": {},
   "outputs": [
    {
     "name": "stdout",
     "output_type": "stream",
     "text": [
      "Downloading from https://ndownloader.figshare.com/files/12565616\n"
     ]
    },
    {
     "data": {
      "text/plain": [
       "'C:\\\\Users\\\\s1526\\\\earth-analytics\\\\data\\\\earthpy-downloads\\\\avg-monthly-precip.txt'"
      ]
     },
     "execution_count": 1,
     "metadata": {},
     "output_type": "execute_result"
    }
   ],
   "source": [
    "# Import necessary packages\n",
    "import os\n",
    "import numpy as np\n",
    "import earthpy as et\n",
    "\n",
    "# Avg monthly precip (inches) of Boulder, CO for 1D array\n",
    "avg_month_precip_url = \"https://ndownloader.figshare.com/files/12565616\"\n",
    "et.data.get_data(url=avg_month_precip_url)"
   ]
  },
  {
   "cell_type": "code",
   "execution_count": 12,
   "metadata": {},
   "outputs": [],
   "source": [
    "# Set wk dir to earth-analytics\n",
    "os.chdir(os.path.join(et.io.HOME, \"earth-analytics\"))"
   ]
  },
  {
   "cell_type": "markdown",
   "metadata": {},
   "source": [
    "Next, define a relative path to the downloaded file, which you will use in the conditional statement."
   ]
  },
  {
   "cell_type": "code",
   "execution_count": 15,
   "metadata": {},
   "outputs": [],
   "source": [
    "# Path relative to wk dir\n",
    "avg_month_precip_path = os.path.join(\"data\", \"earthpy-downloads\", \"avg-monthly-precip.txt\")"
   ]
  },
  {
   "cell_type": "markdown",
   "metadata": {},
   "source": [
    "Last, add the defined path to the conditional statement to check whether the path exists."
   ]
  },
  {
   "cell_type": "code",
   "execution_count": 16,
   "metadata": {},
   "outputs": [
    {
     "name": "stdout",
     "output_type": "stream",
     "text": [
      "This is a valid path\n"
     ]
    }
   ],
   "source": [
    "# Check path\n",
    "if os.path.exists(avg_month_precip_path):\n",
    "    print(\"This is a valid path\")\n",
    "else:\n",
    "    print(\"This path does not exist.\")"
   ]
  },
  {
   "cell_type": "markdown",
   "metadata": {},
   "source": [
    "You can expand on the conditional statement to execute additional code if the path is valid, such as code to import the file into a numpy array."
   ]
  },
  {
   "cell_type": "code",
   "execution_count": 17,
   "metadata": {},
   "outputs": [
    {
     "name": "stdout",
     "output_type": "stream",
     "text": [
      "[0.7  0.75 1.85 2.93 3.05 2.02 1.93 1.62 1.84 1.31 1.39 0.84]\n"
     ]
    }
   ],
   "source": [
    "# Import data into array if path exists\n",
    "if os.path.exists(avg_month_precip_path):\n",
    "    avg_month_precip = np.loadtxt(avg_month_precip_path)\n",
    "    print(avg_month_precip)\n",
    "else:\n",
    "    print(\"This path does not exist.\")"
   ]
  },
  {
   "cell_type": "markdown",
   "metadata": {},
   "source": [
    "Using this syntax, you can check whether any defined path exists and then execute additional code as needed."
   ]
  }
 ],
 "metadata": {
  "kernelspec": {
   "display_name": "Python 3",
   "language": "python",
   "name": "python3"
  },
  "language_info": {
   "codemirror_mode": {
    "name": "ipython",
    "version": 3
   },
   "file_extension": ".py",
   "mimetype": "text/x-python",
   "name": "python",
   "nbconvert_exporter": "python",
   "pygments_lexer": "ipython3",
   "version": "3.7.6"
  }
 },
 "nbformat": 4,
 "nbformat_minor": 4
}
