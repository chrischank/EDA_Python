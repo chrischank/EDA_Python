{
 "cells": [
  {
   "cell_type": "markdown",
   "metadata": {},
   "source": [
    "Conditional Statements with Alternative or Combined Conditions"
   ]
  },
  {
   "cell_type": "markdown",
   "metadata": {},
   "source": [
    "Conditional statements with alternative conditions"
   ]
  },
  {
   "cell_type": "code",
   "execution_count": 1,
   "metadata": {},
   "outputs": [
    {
     "ename": "NameError",
     "evalue": "name 'condition' is not defined",
     "output_type": "error",
     "traceback": [
      "\u001b[1;31m---------------------------------------------------------------------------\u001b[0m",
      "\u001b[1;31mNameError\u001b[0m                                 Traceback (most recent call last)",
      "\u001b[1;32m<ipython-input-1-b7d2c270e24f>\u001b[0m in \u001b[0;36m<module>\u001b[1;34m\u001b[0m\n\u001b[1;32m----> 1\u001b[1;33m \u001b[1;32mif\u001b[0m \u001b[0mcondition\u001b[0m\u001b[1;33m:\u001b[0m\u001b[1;33m\u001b[0m\u001b[1;33m\u001b[0m\u001b[0m\n\u001b[0m\u001b[0;32m      2\u001b[0m     \u001b[0mprint\u001b[0m\u001b[1;33m(\u001b[0m\u001b[1;34m\"Condition is true\"\u001b[0m\u001b[1;33m)\u001b[0m\u001b[1;33m\u001b[0m\u001b[1;33m\u001b[0m\u001b[0m\n\u001b[0;32m      3\u001b[0m \u001b[1;32melse\u001b[0m\u001b[1;33m:\u001b[0m\u001b[1;33m\u001b[0m\u001b[1;33m\u001b[0m\u001b[0m\n\u001b[0;32m      4\u001b[0m     \u001b[0mprint\u001b[0m\u001b[1;33m(\u001b[0m\u001b[1;34m\"Condition is false (i.e. not true).\"\u001b[0m\u001b[1;33m)\u001b[0m\u001b[1;33m\u001b[0m\u001b[1;33m\u001b[0m\u001b[0m\n",
      "\u001b[1;31mNameError\u001b[0m: name 'condition' is not defined"
     ]
    }
   ],
   "source": [
    "if condition:\n",
    "    print(\"Condition is true\")\n",
    "else:\n",
    "    print(\"Condition is false (i.e. not true).\")"
   ]
  },
  {
   "cell_type": "code",
   "execution_count": 2,
   "metadata": {},
   "outputs": [
    {
     "ename": "SyntaxError",
     "evalue": "invalid syntax (<ipython-input-2-55930e8afdfa>, line 3)",
     "output_type": "error",
     "traceback": [
      "\u001b[1;36m  File \u001b[1;32m\"<ipython-input-2-55930e8afdfa>\"\u001b[1;36m, line \u001b[1;32m3\u001b[0m\n\u001b[1;33m    some code here\u001b[0m\n\u001b[1;37m            ^\u001b[0m\n\u001b[1;31mSyntaxError\u001b[0m\u001b[1;31m:\u001b[0m invalid syntax\n"
     ]
    }
   ],
   "source": [
    "# You can expand on this syntax to check for an alternative condition with an elif statement:\n",
    "if condition:\n",
    "    some code here\n",
    "elif alternative_condition:\n",
    "    some other code here\n",
    "else:\n",
    "    some final code here"
   ]
  },
  {
   "cell_type": "markdown",
   "metadata": {},
   "source": [
    "If the 1st condition proivided with the if statement is not satisfied (i.e. results in value of False), then Python will check the condition provided with the elif statement.\n",
    "\n",
    "If the condition for elif is satisfied, then the code provided with it will execute.\n",
    "\n",
    "Howeverm if neither the if nor elif conditions are satisfied, then the code provided with else will execute."
   ]
  },
  {
   "cell_type": "markdown",
   "metadata": {},
   "source": [
    "Spacing and execution of code line\n",
    "\n",
    "As the code provided with the if, elif, and else statements gets longer, it is common to add blank lines to make it easier to see which code will be executed with which statement. However, the indentation remains an important part of the syntax of the conditional statement."
   ]
  },
  {
   "cell_type": "code",
   "execution_count": 4,
   "metadata": {},
   "outputs": [
    {
     "name": "stdout",
     "output_type": "stream",
     "text": [
      "x started with value of 5\n",
      "It now has a value of 10 which is equal to y\n"
     ]
    }
   ],
   "source": [
    "# Set x equal to 5 and y equal to 10\n",
    "x = 5\n",
    "y = 10\n",
    "\n",
    "# Execute code based on comparison of x to y\n",
    "if x < y:\n",
    "    print(\"x started with value of\", x)\n",
    "    x += 5\n",
    "    print(\"It now has a value of\", x, \"which is equal to y\")\n",
    "\n",
    "elif x > y:\n",
    "    print(\"x started with value of\", x)\n",
    "    x -= 5\n",
    "    print(\"It now has a value of\", x, \"which is equal to y\")\n",
    "\n",
    "else:\n",
    "    print(\"x started with a value of\", x, \"which is already equal to y.\")"
   ]
  },
  {
   "cell_type": "code",
   "execution_count": 5,
   "metadata": {},
   "outputs": [
    {
     "name": "stdout",
     "output_type": "stream",
     "text": [
      "x started with value of 15\n",
      "It now has a value of 10 which is equal to y\n"
     ]
    }
   ],
   "source": [
    "# Set x equal to 15\n",
    "x = 15\n",
    "\n",
    "# Execute code based on comparison of x to y\n",
    "if x < y:\n",
    "    print(\"x started with value of\", x)\n",
    "    x += 5\n",
    "    print(\"It now has a value of\", x, \"which is equal to y\")\n",
    "\n",
    "elif x > y:\n",
    "    print(\"x started with value of\", x)\n",
    "    x -= 5\n",
    "    print(\"It now has a value of\", x, \"which is equal to y\")\n",
    "\n",
    "else:\n",
    "    print(\"x started with a value of\", x, \"which is already equal to y.\")"
   ]
  },
  {
   "cell_type": "code",
   "execution_count": 7,
   "metadata": {},
   "outputs": [
    {
     "name": "stdout",
     "output_type": "stream",
     "text": [
      "x started with a value of 10 which is already equal to y.\n"
     ]
    }
   ],
   "source": [
    "# Set x equal to 10 \n",
    "x = 10\n",
    "\n",
    "# Execute code based on comparison of x to y\n",
    "if x < y:\n",
    "    print(\"x started with value of\", x)\n",
    "    x += 5\n",
    "    print(\"It now has a value of\", x, \"which is equal to y.\")\n",
    "\n",
    "elif x > y:\n",
    "    print(\"x started with value of\", x)\n",
    "    x -= 5\n",
    "    print(\"It now has a value of\", x, \"which is equal to y.\")\n",
    "\n",
    "else:\n",
    "    print(\"x started with a value of\", x, \"which is already equal to y.\")"
   ]
  },
  {
   "cell_type": "markdown",
   "metadata": {},
   "source": [
    "You can also apply the elif syntax to structure conditional statements that use other operators or check values for text strings or objects.\n",
    "\n",
    "For example, you can check if a text string is contained within another text string and define a filename based on which condition is satisfied."
   ]
  },
  {
   "cell_type": "code",
   "execution_count": 8,
   "metadata": {},
   "outputs": [
    {
     "name": "stdout",
     "output_type": "stream",
     "text": [
      "avg_monthly_precip\n"
     ]
    }
   ],
   "source": [
    "# Set fname based on which text string contains \"precip\"\n",
    "if \"precip\" in \"avg_monthly_temp\":\n",
    "    fname = \"avg_monthly_temp\"\n",
    "    print(fname)\n",
    "\n",
    "elif \"precip\" in \"avg_monthly_precip\":\n",
    "    fname = \"avg_monthly_precip\"\n",
    "    print(fname)\n",
    "\n",
    "else:\n",
    "    print(\"Neither textstring contains the word precip\")"
   ]
  },
  {
   "cell_type": "markdown",
   "metadata": {},
   "source": [
    "As another example, you can add values to a list depending on which conditions is satisfied\n",
    "\n",
    "In the example below, the 1st condition checks whether the last value of the list (using index [-1]) is equal to 0.84, the average precipitation value for December\n",
    "\n",
    "As the last value in the list is actually 1.39 (November precipitation), the 1st condition is not satisfied.\n",
    "\n",
    "Thus the 2nd condition is initiated to check whether the last value is 1.39. Since it is indeed the last value in the list, the 2nd condition results in value of True.\n",
    "\n",
    "The code provided for elif is then executed, adding the value of December to the list."
   ]
  },
  {
   "cell_type": "code",
   "execution_count": 9,
   "metadata": {},
   "outputs": [
    {
     "name": "stdout",
     "output_type": "stream",
     "text": [
      "[0.7, 0.75, 1.85, 2.93, 3.05, 2.02, 1.93, 1.62, 1.84, 1.31, 1.39, 0.84]\n"
     ]
    }
   ],
   "source": [
    "# List of average monthly precip (inches) in Boulder, CO without Dec value\n",
    "avg_monthly_precip = [0.70, 0.75, 1.85, 2.93, 3.05, 2.02, 1.93, 1.62, 1.84, 1.31, 1.39]\n",
    "\n",
    "# Add value to list depending on existing last value\n",
    "if avg_monthly_precip[-1] == 0.84:\n",
    "    print(avg_monthly_precip[-1]) # Print last value in the list\n",
    "\n",
    "elif avg_monthly_precip[-1] == 1.39:\n",
    "    avg_monthly_precip += [0.84] # Add Dec value\n",
    "    print(avg_monthly_precip)\n",
    "    \n",
    "else:\n",
    "    print(\"The last item in the list is neither 0.84 nor 1.39.\")"
   ]
  },
  {
   "cell_type": "markdown",
   "metadata": {},
   "source": [
    "Conditional statements with combinations of conditions\n",
    "\n",
    "Logical operators (e.g. and, or, not) allow you to create conditional statements that can check for combinations of conditions. You can use:\n",
    "- and to execute if all specified conditions have been met\n",
    "- or to execute code if at least 1 specified conditions has been met\n",
    "- not to execute code only if the specified conditions has not been met (note that you can use not in combination with and or or to check whether multiple conditions are not met)\n",
    "\n",
    "Check for 2 conditions using and\n",
    "\n",
    "You can check for multiple conditions by including and between 2 conditions\n",
    "\n",
    "Both conditions have to be satisfied in order for the code provided with the if statement to be executed.\n",
    "\n",
    "This means that if 1 condition is not satisfied, then the conditional statement executes the code provided with else."
   ]
  },
  {
   "cell_type": "code",
   "execution_count": 10,
   "metadata": {},
   "outputs": [
    {
     "ename": "NameError",
     "evalue": "name 'condition1' is not defined",
     "output_type": "error",
     "traceback": [
      "\u001b[1;31m---------------------------------------------------------------------------\u001b[0m",
      "\u001b[1;31mNameError\u001b[0m                                 Traceback (most recent call last)",
      "\u001b[1;32m<ipython-input-10-015e17543e5e>\u001b[0m in \u001b[0;36m<module>\u001b[1;34m\u001b[0m\n\u001b[0;32m      1\u001b[0m \u001b[1;31m# Check that both conditions are true\u001b[0m\u001b[1;33m\u001b[0m\u001b[1;33m\u001b[0m\u001b[1;33m\u001b[0m\u001b[0m\n\u001b[1;32m----> 2\u001b[1;33m \u001b[1;32mif\u001b[0m \u001b[0mcondition1\u001b[0m \u001b[1;32mand\u001b[0m \u001b[0mcondition2\u001b[0m\u001b[1;33m:\u001b[0m\u001b[1;33m\u001b[0m\u001b[1;33m\u001b[0m\u001b[0m\n\u001b[0m\u001b[0;32m      3\u001b[0m     \u001b[0mprint\u001b[0m\u001b[1;33m(\u001b[0m\u001b[1;34m\"Condition 1 and 2 are both true.\"\u001b[0m\u001b[1;33m)\u001b[0m\u001b[1;33m\u001b[0m\u001b[1;33m\u001b[0m\u001b[0m\n\u001b[0;32m      4\u001b[0m \u001b[1;32melse\u001b[0m\u001b[1;33m:\u001b[0m\u001b[1;33m\u001b[0m\u001b[1;33m\u001b[0m\u001b[0m\n\u001b[0;32m      5\u001b[0m     \u001b[0mprint\u001b[0m\u001b[1;33m(\u001b[0m\u001b[1;34m\"One condition (either 1 or 2) is not true.\"\u001b[0m\u001b[1;33m)\u001b[0m\u001b[1;33m\u001b[0m\u001b[1;33m\u001b[0m\u001b[0m\n",
      "\u001b[1;31mNameError\u001b[0m: name 'condition1' is not defined"
     ]
    }
   ],
   "source": [
    "# Check that both conditions are true\n",
    "if condition1 and condition2:\n",
    "    print(\"Condition 1 and 2 are both true.\")\n",
    "else:\n",
    "    print(\"One condition (either 1 or 2) is not true.\")"
   ]
  },
  {
   "cell_type": "markdown",
   "metadata": {},
   "source": [
    "For example, you can check whether 2 variables are both integers, and if so, then add them together."
   ]
  },
  {
   "cell_type": "code",
   "execution_count": 11,
   "metadata": {},
   "outputs": [
    {
     "name": "stdout",
     "output_type": "stream",
     "text": [
      "15\n"
     ]
    }
   ],
   "source": [
    "# Set x equal to 5 and y equal to 10\n",
    "x = 5\n",
    "y = 10\n",
    "\n",
    "# Add x and y if they are both integers\n",
    "if type(x) is int and type(y) is int:\n",
    "    print(x+y)\n",
    "else:\n",
    "    print(\"Either x or y is not an integer.\")"
   ]
  },
  {
   "cell_type": "code",
   "execution_count": 12,
   "metadata": {},
   "outputs": [
    {
     "name": "stdout",
     "output_type": "stream",
     "text": [
      "Either x or y is not an integer, so they cannot be added.\n"
     ]
    }
   ],
   "source": [
    "# Set x equal to 5 and y equal to text string\n",
    "x = 5\n",
    "y = \"Some text\"\n",
    "\n",
    "# Add x and y if they are both integers\n",
    "if type(x) is int and type(y) is int:\n",
    "    print(x+y)\n",
    "else:\n",
    "    print(\"Either x or y is not an integer, so they cannot be added.\")"
   ]
  },
  {
   "cell_type": "markdown",
   "metadata": {},
   "source": [
    "You can also check whether 2 objects are of the same type and length, e.g.:"
   ]
  },
  {
   "cell_type": "code",
   "execution_count": 13,
   "metadata": {},
   "outputs": [
    {
     "name": "stdout",
     "output_type": "stream",
     "text": [
      "12\n",
      "11\n"
     ]
    }
   ],
   "source": [
    "# Create list of abbreviated month names without Nov\n",
    "months = [\"Jan\", \"Feb\", \"Mar\", \"Apr\", \"May\", \"June\",\n",
    "         \"July\", \"Aug\", \"Sept\", \"Oct\", \"Nov\"]\n",
    "\n",
    "# Length of avg_monthly_precip\n",
    "precip_len = len(avg_monthly_precip)\n",
    "print(precip_len)\n",
    "\n",
    "# Length of months\n",
    "months_len = len(months)\n",
    "print(months_len)"
   ]
  },
  {
   "cell_type": "code",
   "execution_count": 14,
   "metadata": {},
   "outputs": [
    {
     "name": "stdout",
     "output_type": "stream",
     "text": [
      "Objects are not of the same type or do not have the same length\n"
     ]
    }
   ],
   "source": [
    "# Check whether both type and length of avg_monthly_precip and months match\n",
    "if type(avg_monthly_precip) is type(months) and precip_len == months_len:\n",
    "    print(\"Objects are of the same type and have the same length.\")\n",
    "else:\n",
    "    print(\"Objects are not of the same type or do not have the same length\")"
   ]
  },
  {
   "cell_type": "markdown",
   "metadata": {},
   "source": [
    "Check for at least 1 condiutions using OR\n",
    "\n",
    "You can also write conditional statements that check whether at least one condition is true by including or between 2 conditions.\n",
    "\n",
    "Only 1 condition has to pass in order for the conditional statement to execute code provided with if."
   ]
  },
  {
   "cell_type": "code",
   "execution_count": 15,
   "metadata": {},
   "outputs": [
    {
     "ename": "NameError",
     "evalue": "name 'condition1' is not defined",
     "output_type": "error",
     "traceback": [
      "\u001b[1;31m---------------------------------------------------------------------------\u001b[0m",
      "\u001b[1;31mNameError\u001b[0m                                 Traceback (most recent call last)",
      "\u001b[1;32m<ipython-input-15-a24c7c56bee5>\u001b[0m in \u001b[0;36m<module>\u001b[1;34m\u001b[0m\n\u001b[0;32m      1\u001b[0m \u001b[1;31m# Check that at least 1 condition is true\u001b[0m\u001b[1;33m\u001b[0m\u001b[1;33m\u001b[0m\u001b[1;33m\u001b[0m\u001b[0m\n\u001b[1;32m----> 2\u001b[1;33m \u001b[1;32mif\u001b[0m \u001b[0mcondition1\u001b[0m \u001b[1;32mor\u001b[0m \u001b[0mcondition2\u001b[0m\u001b[1;33m:\u001b[0m\u001b[1;33m\u001b[0m\u001b[1;33m\u001b[0m\u001b[0m\n\u001b[0m\u001b[0;32m      3\u001b[0m     \u001b[0mprint\u001b[0m\u001b[1;33m(\u001b[0m\u001b[1;34m\"Either condition 1 or 2 is true.\"\u001b[0m\u001b[1;33m)\u001b[0m\u001b[1;33m\u001b[0m\u001b[1;33m\u001b[0m\u001b[0m\n\u001b[0;32m      4\u001b[0m \u001b[1;32melse\u001b[0m\u001b[1;33m:\u001b[0m\u001b[1;33m\u001b[0m\u001b[1;33m\u001b[0m\u001b[0m\n\u001b[0;32m      5\u001b[0m     \u001b[0mprint\u001b[0m\u001b[1;33m(\u001b[0m\u001b[1;34m\"Neither of these conditions is true.\"\u001b[0m\u001b[1;33m)\u001b[0m\u001b[1;33m\u001b[0m\u001b[1;33m\u001b[0m\u001b[0m\n",
      "\u001b[1;31mNameError\u001b[0m: name 'condition1' is not defined"
     ]
    }
   ],
   "source": [
    "# Check that at least 1 condition is true\n",
    "if condition1 or condition2:\n",
    "    print(\"Either condition 1 or 2 is true.\")\n",
    "else:\n",
    "    print(\"Neither of these conditions is true.\")"
   ]
  },
  {
   "cell_type": "code",
   "execution_count": 16,
   "metadata": {},
   "outputs": [
    {
     "name": "stdout",
     "output_type": "stream",
     "text": [
      "Either x or y is equal to 0.\n",
      "x is now 1 and y is now 11\n"
     ]
    }
   ],
   "source": [
    "# Set x equal to 0 and y equal to 10\n",
    "x = 0\n",
    "y = 10\n",
    "\n",
    "# Check whether either is equal to 0\n",
    "if x == 0 or y == 0:\n",
    "    print(\"Either x or y is equal to 0.\")\n",
    "    x += 1\n",
    "    y += 1\n",
    "    print(\"x is now\", x, \"and y is now\", y)\n",
    "\n",
    "else:\n",
    "    print(\"Neither x nor y is equal to 0.\")"
   ]
  },
  {
   "cell_type": "markdown",
   "metadata": {},
   "source": [
    "For another example, recall the conditional statement comparing the types and lengths of 2 lists.\n",
    "\n",
    "The 1st condition is true, as both objects are list, but the 2nd condition is not true because the month list is missing Dec (11 values).\n",
    "\n",
    "By using the or statement, only 1 condition has to be true, in order for the if statement to be satisfied and for the code provided with if to execute."
   ]
  },
  {
   "cell_type": "code",
   "execution_count": 17,
   "metadata": {},
   "outputs": [
    {
     "name": "stdout",
     "output_type": "stream",
     "text": [
      "Objects have either the same type or length.\n"
     ]
    }
   ],
   "source": [
    "# Check match for either type and length of avg_monthly_precip and months\n",
    "if type(avg_monthly_precip) is type(months) or precip_len == months_len:\n",
    "    print(\"Objects have either the same type or length.\")\n",
    "else:\n",
    "    print(\"Objects either do not have the same type or same length.\")"
   ]
  }
 ],
 "metadata": {
  "kernelspec": {
   "display_name": "Python 3",
   "language": "python",
   "name": "python3"
  },
  "language_info": {
   "codemirror_mode": {
    "name": "ipython",
    "version": 3
   },
   "file_extension": ".py",
   "mimetype": "text/x-python",
   "name": "python",
   "nbconvert_exporter": "python",
   "pygments_lexer": "ipython3",
   "version": "3.7.6"
  }
 },
 "nbformat": 4,
 "nbformat_minor": 4
}
