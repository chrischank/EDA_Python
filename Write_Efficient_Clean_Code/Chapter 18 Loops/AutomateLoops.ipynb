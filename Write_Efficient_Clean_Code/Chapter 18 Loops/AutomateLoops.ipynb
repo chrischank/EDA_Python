{
 "cells": [
  {
   "cell_type": "markdown",
   "metadata": {},
   "source": [
    "Automate Data Tasks With Loops in Python"
   ]
  },
  {
   "cell_type": "markdown",
   "metadata": {},
   "source": [
    "Loops are very useful for removing repetition in your code."
   ]
  },
  {
   "cell_type": "markdown",
   "metadata": {},
   "source": [
    "Automate Calculations on Values in Lists"
   ]
  },
  {
   "cell_type": "markdown",
   "metadata": {},
   "source": [
    "Create list of values for loop"
   ]
  },
  {
   "cell_type": "code",
   "execution_count": 1,
   "metadata": {},
   "outputs": [],
   "source": [
    "# Create list of average monthly precip (inches) in Boulder, CO\n",
    "avg_monthly_precip_in = [0.70, 0.75, 1.85, 2.93, 3.05, 2.02,\n",
    "                        1.93, 1.62, 1.84, 1.31, 1.39, 0.84]"
   ]
  },
  {
   "cell_type": "markdown",
   "metadata": {},
   "source": [
    "Write loop\n",
    "\n",
    "You want to convert each item in a list from inches to mm (recall that 1 inch = 25.4mm). So you have a fixed list of values upon which you want to iterate a calculation."
   ]
  },
  {
   "cell_type": "code",
   "execution_count": 2,
   "metadata": {},
   "outputs": [
    {
     "name": "stdout",
     "output_type": "stream",
     "text": [
      "17.779999999999998\n",
      "19.049999999999997\n",
      "46.99\n",
      "74.422\n",
      "77.46999999999998\n",
      "51.308\n",
      "49.022\n",
      "41.148\n",
      "46.736\n",
      "33.274\n",
      "35.306\n",
      "21.336\n"
     ]
    }
   ],
   "source": [
    "# Convert each item in list from in to mm\n",
    "for month in avg_monthly_precip_in:\n",
    "    month *= 25.4\n",
    "    print(month)"
   ]
  },
  {
   "cell_type": "markdown",
   "metadata": {},
   "source": [
    "Expand loop to add results to new list\n",
    "\n",
    "In the loop above, each month's value is converted from inches to mm and the value is printed; however, the new value is not captured\n",
    "\n",
    "You can expand the loop with more code, so that each converted value is actually added to a new list\n",
    "\n",
    "You can add do this with yyour loop with only 2 new lines of code:\n",
    "1. 1st, you create an empty list that will receive new values using listname = [].\n",
    "2. Then, you can add a new line of code to append each value after it is calculated using listname += [value]."
   ]
  },
  {
   "cell_type": "code",
   "execution_count": 3,
   "metadata": {},
   "outputs": [],
   "source": [
    "# Create new empty to receive values\n",
    "avg_monthly_precip_mm = []\n",
    "\n",
    "# Convert each item from in to mm and add to new list\n",
    "for month in avg_monthly_precip_in:\n",
    "    month *= 25.4\n",
    "    avg_monthly_precip_mm += [month]"
   ]
  },
  {
   "cell_type": "code",
   "execution_count": 4,
   "metadata": {},
   "outputs": [
    {
     "name": "stdout",
     "output_type": "stream",
     "text": [
      "[0.7, 0.75, 1.85, 2.93, 3.05, 2.02, 1.93, 1.62, 1.84, 1.31, 1.39, 0.84]\n",
      "[17.779999999999998, 19.049999999999997, 46.99, 74.422, 77.46999999999998, 51.308, 49.022, 41.148, 46.736, 33.274, 35.306, 21.336]\n"
     ]
    }
   ],
   "source": [
    "# Print original list in inches\n",
    "print(avg_monthly_precip_in)\n",
    "\n",
    "# Print new list after loop is complete\n",
    "print(avg_monthly_precip_mm)"
   ]
  },
  {
   "cell_type": "markdown",
   "metadata": {},
   "source": [
    "The list variable avg_monthly_precip_mm was explicitly created; in this case, you manually created the variable avg_monthly_precip_mm as an empty list.\n",
    "\n",
    "The variable month is the placeholder variable, meaning that it was not explicitly created by you.\n",
    "\n",
    "Rather, it is created as part of the loop and serves as a placeholder to represent each item from the original list (avg_monthly_precip_in), as the loop iterates.\n",
    "\n",
    "At the end of the loop, the placeholder variable is equal to the last value that it was assigned (e.g. month is equal to 21.336 when the loop ends)."
   ]
  },
  {
   "cell_type": "code",
   "execution_count": 5,
   "metadata": {},
   "outputs": [
    {
     "data": {
      "text/plain": [
       "21.336"
      ]
     },
     "execution_count": 5,
     "metadata": {},
     "output_type": "execute_result"
    }
   ],
   "source": [
    "# Final value oif month\n",
    "month"
   ]
  },
  {
   "cell_type": "markdown",
   "metadata": {},
   "source": [
    "Automate Summary Stats on Multiple Numpy Arrays"
   ]
  },
  {
   "cell_type": "markdown",
   "metadata": {},
   "source": [
    "You can build a loop that will calculate summary statistics (such as sum, median, values) of multiple data structures, such as numpy arrays.\n",
    "\n",
    "Recall that you can use the function np.sum() and np.median() to calculate sum and median values of a numpy array."
   ]
  },
  {
   "cell_type": "code",
   "execution_count": 6,
   "metadata": {},
   "outputs": [],
   "source": [
    "# Import necessary packages\n",
    "import numpy as np\n",
    "\n",
    "# Array of average monthly precip (inches) for 2002 in Boulder, CO\n",
    "precip_2002_arr = np.array([1.07, 0.44, 1.50, 0.20, 3.20, 1.18,\n",
    "                           0.09, 1.44, 1.52, 2.44, 0.78, 0.02])\n",
    "\n",
    "# Array of average monthly precip (inches) for 2013 in Boulder, CO\n",
    "precip_2013_arr = np.array([0.27, 1.33, 1.72, 4.14, 2.66, 0.61,\n",
    "                           1.03, 1.40, 18.16, 2.24, 0.29, 0.50])"
   ]
  },
  {
   "cell_type": "markdown",
   "metadata": {},
   "source": [
    "Create list of Numpy arrays for loop\n",
    "\n",
    "Just like in the previous example, begin by creating the list upon which your loop will iterate\n",
    "\n",
    "As you want to iterate on multiple numpy arrays, you can create a list that contains the object names for all of the numpy arrays that you want to work with in the loop."
   ]
  },
  {
   "cell_type": "code",
   "execution_count": 7,
   "metadata": {},
   "outputs": [],
   "source": [
    "# Create list of numpy arrays\n",
    "arr_list = [precip_2002_arr, precip_2013_arr]"
   ]
  },
  {
   "cell_type": "code",
   "execution_count": 8,
   "metadata": {},
   "outputs": [
    {
     "name": "stdout",
     "output_type": "stream",
     "text": [
      "sum: 13.879999999999999\n",
      "median: 1.125\n",
      "sum: 34.35\n",
      "median: 1.365\n"
     ]
    }
   ],
   "source": [
    "for arr in arr_list:\n",
    "    arr_sum = np.sum(arr)\n",
    "    print(\"sum:\", arr_sum)\n",
    "    \n",
    "    arr_median = np.median(arr)\n",
    "    print(\"median:\", arr_median)"
   ]
  },
  {
   "cell_type": "markdown",
   "metadata": {},
   "source": [
    "Again you can capture these values in a new, separate lists by defining empty lists and using the assignment operator (listname += [value]) to add the results to each list."
   ]
  },
  {
   "cell_type": "code",
   "execution_count": 9,
   "metadata": {},
   "outputs": [],
   "source": [
    "# Create new empty lists to receive values\n",
    "monthly_precip_sum = []\n",
    "monthly_precip_median = []\n",
    "\n",
    "# Calculate sum and median for each numpy array and add to new lists\n",
    "for arr in arr_list:\n",
    "    arr_sum = np.sum(arr)\n",
    "    monthly_precip_sum += [arr_sum]\n",
    "    \n",
    "    arr_median = np.median(arr)\n",
    "    monthly_precip_median += [arr_median]"
   ]
  },
  {
   "cell_type": "markdown",
   "metadata": {},
   "source": [
    "Review the list being iterated upon and the placeholder in loop"
   ]
  },
  {
   "cell_type": "code",
   "execution_count": 10,
   "metadata": {},
   "outputs": [
    {
     "name": "stdout",
     "output_type": "stream",
     "text": [
      "[13.879999999999999, 34.35]\n",
      "[1.125, 1.365]\n"
     ]
    }
   ],
   "source": [
    "# Lists contain the calculated values\n",
    "print(monthly_precip_sum)\n",
    "print(monthly_precip_median)"
   ]
  },
  {
   "cell_type": "markdown",
   "metadata": {},
   "source": [
    "The variable arr is the placeholder variable that is created as part of the loop and serves as a placeholder to represent each item form the original list(arr_list), as the loop iterates.\n",
    "\n",
    "At the end of the loop, arr is equal to the last value that it was assigned (e.g. precip_2013_arr, the last array in the list).\n",
    "\n",
    "Similarly, at the end of the loop, arr_sum and arr_median are also equal to the last value that was calculated for each (e.g. the sum and median values for precip_2013_arr)."
   ]
  },
  {
   "cell_type": "code",
   "execution_count": 11,
   "metadata": {},
   "outputs": [
    {
     "name": "stdout",
     "output_type": "stream",
     "text": [
      "[ 0.27  1.33  1.72  4.14  2.66  0.61  1.03  1.4  18.16  2.24  0.29  0.5 ]\n",
      "34.35\n",
      "1.365\n"
     ]
    }
   ],
   "source": [
    "# Final value of arr\n",
    "print(arr)\n",
    "\n",
    "# Final value of arr_sum\n",
    "print(arr_sum)\n",
    "\n",
    "# Final value of arr_median\n",
    "print(arr_median)"
   ]
  },
  {
   "cell_type": "markdown",
   "metadata": {},
   "source": [
    "Automate Calculation on Multiple Columns in Pandas Dataframe"
   ]
  },
  {
   "cell_type": "markdown",
   "metadata": {},
   "source": [
    "In addition to running a loop on multiple data structures (e.g. multiple numpy arrays like in the previous example), you can also run loops on multiple columns of a pandas dataframe.\n",
    "\n",
    "For example, you may need to convert the measurement units of multiple columns, such as converting the precipitation values from inches to mm (1 inch = 25.4 mm)."
   ]
  },
  {
   "cell_type": "code",
   "execution_count": 12,
   "metadata": {},
   "outputs": [
    {
     "data": {
      "text/html": [
       "<div>\n",
       "<style scoped>\n",
       "    .dataframe tbody tr th:only-of-type {\n",
       "        vertical-align: middle;\n",
       "    }\n",
       "\n",
       "    .dataframe tbody tr th {\n",
       "        vertical-align: top;\n",
       "    }\n",
       "\n",
       "    .dataframe thead th {\n",
       "        text-align: right;\n",
       "    }\n",
       "</style>\n",
       "<table border=\"1\" class=\"dataframe\">\n",
       "  <thead>\n",
       "    <tr style=\"text-align: right;\">\n",
       "      <th></th>\n",
       "      <th>month</th>\n",
       "      <th>precip_2002</th>\n",
       "      <th>precip_2013</th>\n",
       "    </tr>\n",
       "  </thead>\n",
       "  <tbody>\n",
       "    <tr>\n",
       "      <th>0</th>\n",
       "      <td>Jan</td>\n",
       "      <td>1.07</td>\n",
       "      <td>0.27</td>\n",
       "    </tr>\n",
       "    <tr>\n",
       "      <th>1</th>\n",
       "      <td>Feb</td>\n",
       "      <td>0.44</td>\n",
       "      <td>1.13</td>\n",
       "    </tr>\n",
       "    <tr>\n",
       "      <th>2</th>\n",
       "      <td>Mar</td>\n",
       "      <td>1.50</td>\n",
       "      <td>1.72</td>\n",
       "    </tr>\n",
       "    <tr>\n",
       "      <th>3</th>\n",
       "      <td>Apr</td>\n",
       "      <td>0.20</td>\n",
       "      <td>4.14</td>\n",
       "    </tr>\n",
       "    <tr>\n",
       "      <th>4</th>\n",
       "      <td>May</td>\n",
       "      <td>3.20</td>\n",
       "      <td>2.66</td>\n",
       "    </tr>\n",
       "    <tr>\n",
       "      <th>5</th>\n",
       "      <td>June</td>\n",
       "      <td>1.18</td>\n",
       "      <td>0.61</td>\n",
       "    </tr>\n",
       "    <tr>\n",
       "      <th>6</th>\n",
       "      <td>July</td>\n",
       "      <td>0.09</td>\n",
       "      <td>1.03</td>\n",
       "    </tr>\n",
       "    <tr>\n",
       "      <th>7</th>\n",
       "      <td>Aug</td>\n",
       "      <td>1.44</td>\n",
       "      <td>1.40</td>\n",
       "    </tr>\n",
       "    <tr>\n",
       "      <th>8</th>\n",
       "      <td>Sept</td>\n",
       "      <td>1.52</td>\n",
       "      <td>18.16</td>\n",
       "    </tr>\n",
       "    <tr>\n",
       "      <th>9</th>\n",
       "      <td>Oct</td>\n",
       "      <td>2.44</td>\n",
       "      <td>2.24</td>\n",
       "    </tr>\n",
       "    <tr>\n",
       "      <th>10</th>\n",
       "      <td>Nov</td>\n",
       "      <td>0.78</td>\n",
       "      <td>0.29</td>\n",
       "    </tr>\n",
       "    <tr>\n",
       "      <th>11</th>\n",
       "      <td>Dec</td>\n",
       "      <td>0.02</td>\n",
       "      <td>0.50</td>\n",
       "    </tr>\n",
       "  </tbody>\n",
       "</table>\n",
       "</div>"
      ],
      "text/plain": [
       "   month  precip_2002  precip_2013\n",
       "0    Jan         1.07         0.27\n",
       "1    Feb         0.44         1.13\n",
       "2    Mar         1.50         1.72\n",
       "3    Apr         0.20         4.14\n",
       "4    May         3.20         2.66\n",
       "5   June         1.18         0.61\n",
       "6   July         0.09         1.03\n",
       "7    Aug         1.44         1.40\n",
       "8   Sept         1.52        18.16\n",
       "9    Oct         2.44         2.24\n",
       "10   Nov         0.78         0.29\n",
       "11   Dec         0.02         0.50"
      ]
     },
     "execution_count": 12,
     "metadata": {},
     "output_type": "execute_result"
    }
   ],
   "source": [
    "# Import necessary packages\n",
    "import pandas as pd\n",
    "\n",
    "# Average monthly precip (inches) in 2002 and 2013 for Boulder, CO\n",
    "precip_2002_2013_df = pd.DataFrame(columns=[\"month\", \"precip_2002\", \"precip_2013\"],\n",
    "                                  data=[\n",
    "                                      [\"Jan\", 1.07, 0.27], [\"Feb\", 0.44, 1.13],\n",
    "                                      [\"Mar\", 1.50, 1.72], [\"Apr\", 0.20, 4.14],\n",
    "                                      [\"May\", 3.20, 2.66], [\"June\", 1.18, 0.61],\n",
    "                                      [\"July\", 0.09, 1.03], [\"Aug\", 1.44, 1.40],\n",
    "                                      [\"Sept\", 1.52, 18.16], [\"Oct\", 2.44, 2.24],\n",
    "                                      [\"Nov\", 0.78, 0.29], [\"Dec\", 0.02, 0.50]\n",
    "                                  ])\n",
    "\n",
    "precip_2002_2013_df"
   ]
  },
  {
   "cell_type": "markdown",
   "metadata": {},
   "source": [
    "Create List of Column Names\n",
    "\n",
    "As you want to iterate on multiple columns in a pandas dataframe, you can create a list that contains the column names that you want to work with in the loop."
   ]
  },
  {
   "cell_type": "code",
   "execution_count": 13,
   "metadata": {},
   "outputs": [],
   "source": [
    "# Create a list of column names\n",
    "cols = [\"precip_2002\", \"precip_2013\"]"
   ]
  },
  {
   "cell_type": "code",
   "execution_count": 14,
   "metadata": {},
   "outputs": [
    {
     "data": {
      "text/html": [
       "<div>\n",
       "<style scoped>\n",
       "    .dataframe tbody tr th:only-of-type {\n",
       "        vertical-align: middle;\n",
       "    }\n",
       "\n",
       "    .dataframe tbody tr th {\n",
       "        vertical-align: top;\n",
       "    }\n",
       "\n",
       "    .dataframe thead th {\n",
       "        text-align: right;\n",
       "    }\n",
       "</style>\n",
       "<table border=\"1\" class=\"dataframe\">\n",
       "  <thead>\n",
       "    <tr style=\"text-align: right;\">\n",
       "      <th></th>\n",
       "      <th>month</th>\n",
       "      <th>precip_2002</th>\n",
       "      <th>precip_2013</th>\n",
       "    </tr>\n",
       "  </thead>\n",
       "  <tbody>\n",
       "    <tr>\n",
       "      <th>0</th>\n",
       "      <td>Jan</td>\n",
       "      <td>27.178</td>\n",
       "      <td>6.858</td>\n",
       "    </tr>\n",
       "    <tr>\n",
       "      <th>1</th>\n",
       "      <td>Feb</td>\n",
       "      <td>11.176</td>\n",
       "      <td>28.702</td>\n",
       "    </tr>\n",
       "    <tr>\n",
       "      <th>2</th>\n",
       "      <td>Mar</td>\n",
       "      <td>38.100</td>\n",
       "      <td>43.688</td>\n",
       "    </tr>\n",
       "    <tr>\n",
       "      <th>3</th>\n",
       "      <td>Apr</td>\n",
       "      <td>5.080</td>\n",
       "      <td>105.156</td>\n",
       "    </tr>\n",
       "    <tr>\n",
       "      <th>4</th>\n",
       "      <td>May</td>\n",
       "      <td>81.280</td>\n",
       "      <td>67.564</td>\n",
       "    </tr>\n",
       "    <tr>\n",
       "      <th>5</th>\n",
       "      <td>June</td>\n",
       "      <td>29.972</td>\n",
       "      <td>15.494</td>\n",
       "    </tr>\n",
       "    <tr>\n",
       "      <th>6</th>\n",
       "      <td>July</td>\n",
       "      <td>2.286</td>\n",
       "      <td>26.162</td>\n",
       "    </tr>\n",
       "    <tr>\n",
       "      <th>7</th>\n",
       "      <td>Aug</td>\n",
       "      <td>36.576</td>\n",
       "      <td>35.560</td>\n",
       "    </tr>\n",
       "    <tr>\n",
       "      <th>8</th>\n",
       "      <td>Sept</td>\n",
       "      <td>38.608</td>\n",
       "      <td>461.264</td>\n",
       "    </tr>\n",
       "    <tr>\n",
       "      <th>9</th>\n",
       "      <td>Oct</td>\n",
       "      <td>61.976</td>\n",
       "      <td>56.896</td>\n",
       "    </tr>\n",
       "    <tr>\n",
       "      <th>10</th>\n",
       "      <td>Nov</td>\n",
       "      <td>19.812</td>\n",
       "      <td>7.366</td>\n",
       "    </tr>\n",
       "    <tr>\n",
       "      <th>11</th>\n",
       "      <td>Dec</td>\n",
       "      <td>0.508</td>\n",
       "      <td>12.700</td>\n",
       "    </tr>\n",
       "  </tbody>\n",
       "</table>\n",
       "</div>"
      ],
      "text/plain": [
       "   month  precip_2002  precip_2013\n",
       "0    Jan       27.178        6.858\n",
       "1    Feb       11.176       28.702\n",
       "2    Mar       38.100       43.688\n",
       "3    Apr        5.080      105.156\n",
       "4    May       81.280       67.564\n",
       "5   June       29.972       15.494\n",
       "6   July        2.286       26.162\n",
       "7    Aug       36.576       35.560\n",
       "8   Sept       38.608      461.264\n",
       "9    Oct       61.976       56.896\n",
       "10   Nov       19.812        7.366\n",
       "11   Dec        0.508       12.700"
      ]
     },
     "execution_count": 14,
     "metadata": {},
     "output_type": "execute_result"
    }
   ],
   "source": [
    "# Convert values for each column in cols list\n",
    "for column in cols:\n",
    "    precip_2002_2013_df[column] *= 25.4\n",
    "    \n",
    "# Print new values\n",
    "precip_2002_2013_df"
   ]
  },
  {
   "cell_type": "markdown",
   "metadata": {},
   "source": [
    "In the 1st iteration, column would contain the values in the precip_2002 column, while in the last iteration, column would contain the values in the precip_2013 column.\n",
    "\n",
    "You know you are using an implicit variable because the column name will change with each iteration.\n",
    "\n",
    "Also, notice the placement of code precip_2002_2013 to display the dataframe after the loop is completed.\n",
    "\n",
    "This code is not contained with the loop, so you do not see the dataframe each time that the loop iterates. You only see the dataframe when the loop is completed."
   ]
  },
  {
   "cell_type": "markdown",
   "metadata": {},
   "source": [
    "Automate Data Downloads Using EarthPy"
   ]
  },
  {
   "cell_type": "code",
   "execution_count": 15,
   "metadata": {},
   "outputs": [],
   "source": [
    "import os\n",
    "import earthpy as et"
   ]
  },
  {
   "cell_type": "markdown",
   "metadata": {},
   "source": [
    "Create a list of URLs For Loop\n",
    "\n",
    "As you want to iterate on multiple URLs, you can create a list that contains the URLs for all of the files that you want to download.\n",
    "\n",
    "It is useful to create variables for the individual URLs first, so that you can easily manage them as well as make the code more readable."
   ]
  },
  {
   "cell_type": "code",
   "execution_count": 22,
   "metadata": {},
   "outputs": [],
   "source": [
    "# URL for avg monthly precip (inches) for Boulder, CO\n",
    "avg_month_precip_url = 'https://ndownloader.figshare.com/files/12565616'\n",
    "\n",
    "# URL for precip data for 2002 and 2013 (inches) for array\n",
    "precip_2002_2013_url = 'https://ndownloader.figshare.com/files/12707792'\n",
    "\n",
    "# Create list of URLs\n",
    "urls = [avg_month_precip_url, precip_2002_2013_url]"
   ]
  },
  {
   "cell_type": "code",
   "execution_count": 23,
   "metadata": {},
   "outputs": [],
   "source": [
    "# Download each url in list\n",
    "for file_url in urls:\n",
    "    et.data.get_data(url=file_url)"
   ]
  },
  {
   "cell_type": "markdown",
   "metadata": {},
   "source": [
    "You can use os.listdir()  to list the contents\n",
    "\n",
    "Earthpy downloads files to a subdirectory calleed earthpy-downloads under the data directory in the earth-analytics directory (e.g. earth-analytics/data/earthpy-downloads/)."
   ]
  },
  {
   "cell_type": "code",
   "execution_count": 24,
   "metadata": {},
   "outputs": [
    {
     "data": {
      "text/plain": [
       "['avg-monthly-precip.txt', 'monthly-precip-2002-2013.csv']"
      ]
     },
     "execution_count": 24,
     "metadata": {},
     "output_type": "execute_result"
    }
   ],
   "source": [
    "# Create path for data directory\n",
    "data_dir = os.path.join(et.io.HOME, \"earth-analytics\", \"data\", \"earthpy-downloads\")\n",
    "\n",
    "os.listdir(data_dir)"
   ]
  }
 ],
 "metadata": {
  "kernelspec": {
   "display_name": "Python 3",
   "language": "python",
   "name": "python3"
  },
  "language_info": {
   "codemirror_mode": {
    "name": "ipython",
    "version": 3
   },
   "file_extension": ".py",
   "mimetype": "text/x-python",
   "name": "python",
   "nbconvert_exporter": "python",
   "pygments_lexer": "ipython3",
   "version": "3.7.6"
  }
 },
 "nbformat": 4,
 "nbformat_minor": 4
}
