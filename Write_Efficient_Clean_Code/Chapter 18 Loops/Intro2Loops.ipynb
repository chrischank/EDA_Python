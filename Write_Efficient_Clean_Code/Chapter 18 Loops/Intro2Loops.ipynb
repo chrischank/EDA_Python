{
 "cells": [
  {
   "cell_type": "markdown",
   "metadata": {},
   "source": [
    "Intro to Loops\n",
    "\n",
    "A loop is a sequence of operations that are performed over and over in some specified order. Loops can help to eliminate repetition in code by replacing duplicate lines of code with an iteration\n",
    "\n",
    "In Python, there are 2 primary structures for loops: while and for."
   ]
  },
  {
   "cell_type": "markdown",
   "metadata": {},
   "source": [
    "While Loops\n",
    "\n",
    "A while loops is used to iteratively execute code until a pre-defined condition is no longer satisfied (i.e. results in a value is False).\n",
    "\n",
    "That condition could be a limit on how many times you want the code to run, or that results of the code reach a certain value (e.g. code will iteratively execute as long as the current value of the result < 5)\n",
    "\n",
    "After the pre-defined condition is no longer True, the loop will not execute another iteration."
   ]
  },
  {
   "cell_type": "code",
   "execution_count": 1,
   "metadata": {},
   "outputs": [
    {
     "ename": "SyntaxError",
     "evalue": "invalid syntax (<ipython-input-1-7eb82f1c3af0>, line 2)",
     "output_type": "error",
     "traceback": [
      "\u001b[1;36m  File \u001b[1;32m\"<ipython-input-1-7eb82f1c3af0>\"\u001b[1;36m, line \u001b[1;32m2\u001b[0m\n\u001b[1;33m    execute some code here\u001b[0m\n\u001b[1;37m               ^\u001b[0m\n\u001b[1;31mSyntaxError\u001b[0m\u001b[1;31m:\u001b[0m invalid syntax\n"
     ]
    }
   ],
   "source": [
    "while x < 5:\n",
    "    execute some code here"
   ]
  },
  {
   "cell_type": "markdown",
   "metadata": {},
   "source": [
    "Notice that the code below the while statement is idented. This identation is important, as it indicates that the code will be executed as part of the loop within it is contained, not after the loop is completed."
   ]
  },
  {
   "cell_type": "code",
   "execution_count": 2,
   "metadata": {},
   "outputs": [
    {
     "name": "stdout",
     "output_type": "stream",
     "text": [
      "1\n",
      "2\n",
      "3\n",
      "4\n",
      "5\n",
      "6\n",
      "7\n",
      "8\n",
      "9\n",
      "10\n"
     ]
    }
   ],
   "source": [
    "# Set x equal to 0\n",
    "x = 0\n",
    "\n",
    "# Add 1 to x until x is no longer less than 10\n",
    "while x < 10:\n",
    "    x += 1\n",
    "    print(x)"
   ]
  },
  {
   "cell_type": "markdown",
   "metadata": {},
   "source": [
    "Once x reaches 10, the condition is no longer true (as x is no longer less than 10), so the loop ends and does not execute another iteration of the code.\n",
    "\n",
    "Note that to use the value of the variable x as a condition for the loop, you must use the correct variable name in the loop (e.g. x), so that the condition can check the status of x as the loop iterates."
   ]
  },
  {
   "cell_type": "code",
   "execution_count": 3,
   "metadata": {},
   "outputs": [
    {
     "name": "stdout",
     "output_type": "stream",
     "text": [
      "0\n",
      "1\n",
      "2\n",
      "3\n",
      "4\n",
      "5\n",
      "6\n",
      "7\n",
      "8\n",
      "9\n",
      "Final value: 10\n"
     ]
    }
   ],
   "source": [
    "# Reset x equal to 0\n",
    "x = 0\n",
    "\n",
    "# Add 1 to x until x is no longer less than 10\n",
    "while x < 10:\n",
    "    print(x)\n",
    "    x += 1\n",
    "    \n",
    "print(\"Final value:\", x)"
   ]
  },
  {
   "cell_type": "markdown",
   "metadata": {},
   "source": [
    "By changing the order, x is printed 1st, and then, the assignment operator is executed to add a value of 1 to x."
   ]
  },
  {
   "cell_type": "markdown",
   "metadata": {},
   "source": [
    "In addition to using comparison operators to compare values, you can also specify a range of values to limit the duration of the while loop.\n",
    "\n",
    "The range is inclusive of the starting value, but not of the ending value."
   ]
  },
  {
   "cell_type": "code",
   "execution_count": 4,
   "metadata": {},
   "outputs": [
    {
     "name": "stdout",
     "output_type": "stream",
     "text": [
      "2\n",
      "3\n",
      "4\n",
      "5\n"
     ]
    }
   ],
   "source": [
    "# Set x equal to 1\n",
    "x = 1\n",
    "\n",
    "# Add 1 to x, while x is between 1 and 5\n",
    "while x in range (1, 5):\n",
    "    x += 1\n",
    "    print(x)"
   ]
  },
  {
   "cell_type": "markdown",
   "metadata": {},
   "source": [
    "Note that the structure of the while loop remains the same, regarding the use of a condition, colon, and indentations of the code that will be iterated."
   ]
  },
  {
   "cell_type": "markdown",
   "metadata": {},
   "source": [
    "For Loops\n",
    "\n",
    "Another useful loop is a for loop, which will iteratively execute code for each item in a pre-defined list.\n",
    "\n",
    "The list can be composed of numeric values, filenames, individual character in a text string, objects such as data structure etc.\n",
    "\n",
    "Similar to the while loop, the syntax of a for loop includes rule (followed by a colon :) and indentation of the code lines that will be iterated.\n",
    "\n",
    "The main differences are that the loop begins with the word for and that a pre-defined list is explicitly referenced in the loop (e.g. item_list in the example below). The list to iterate upon is defined before the code for the for loop."
   ]
  },
  {
   "cell_type": "code",
   "execution_count": 5,
   "metadata": {},
   "outputs": [
    {
     "ename": "SyntaxError",
     "evalue": "invalid syntax (<ipython-input-5-cf4c8b439233>, line 4)",
     "output_type": "error",
     "traceback": [
      "\u001b[1;36m  File \u001b[1;32m\"<ipython-input-5-cf4c8b439233>\"\u001b[1;36m, line \u001b[1;32m4\u001b[0m\n\u001b[1;33m    execute some code\u001b[0m\n\u001b[1;37m               ^\u001b[0m\n\u001b[1;31mSyntaxError\u001b[0m\u001b[1;31m:\u001b[0m invalid syntax\n"
     ]
    }
   ],
   "source": [
    "item_list = [item_1, item_2, item_3]\n",
    "\n",
    "for i in item_list:\n",
    "    execute some code"
   ]
  },
  {
   "cell_type": "code",
   "execution_count": 6,
   "metadata": {},
   "outputs": [
    {
     "name": "stdout",
     "output_type": "stream",
     "text": [
      "22\n",
      "15\n",
      "146\n",
      "57\n"
     ]
    }
   ],
   "source": [
    "# Create list of integers\n",
    "num_list = [12, 5, 136, 47]\n",
    "\n",
    "# For each item in list, add 10 and print new value\n",
    "for i in num_list:\n",
    "    i += 10\n",
    "    print(i)"
   ]
  },
  {
   "cell_type": "markdown",
   "metadata": {},
   "source": [
    "Note that in this example, the values are not in sequential order or follow any kind of pattern. However, the loop is executed on each item, in the same order in which they are defined in the list.\n",
    "\n",
    "This is a unique characteristic of for loops; the placeholder represents the value of whichever item is being accessed from the list in that iteration.\n",
    "\n",
    "Thus, i is not a pre-defined variable, but rather a placeholder for the current item that the loop is working with in each iteration of the code.\n",
    "\n",
    "This means that you could use any word or character to indicate the placeholder, with the exception of numeric values.\n",
    "\n",
    "You simply need to reuse that same word or character in the code lines that are being executed, in order to use the placeholder to access the items in the list."
   ]
  },
  {
   "cell_type": "code",
   "execution_count": 7,
   "metadata": {},
   "outputs": [
    {
     "name": "stdout",
     "output_type": "stream",
     "text": [
      "22\n",
      "15\n",
      "146\n",
      "57\n"
     ]
    }
   ],
   "source": [
    "# Reset list of integers\n",
    "num_List = [12, 5, 136, 47]\n",
    "\n",
    "# For each item in list, add 10 and print new value\n",
    "for x in num_list:\n",
    "    x += 10\n",
    "    print(x)"
   ]
  },
  {
   "cell_type": "code",
   "execution_count": 8,
   "metadata": {},
   "outputs": [
    {
     "name": "stdout",
     "output_type": "stream",
     "text": [
      "22\n",
      "15\n",
      "146\n",
      "57\n"
     ]
    }
   ],
   "source": [
    "# Reset list of integers\n",
    "num_list = [12, 5, 136, 47]\n",
    "\n",
    "# For eeach item in list, add 10 and print new value\n",
    "for banana in num_list:\n",
    "    banana += 10\n",
    "    print(banana)"
   ]
  },
  {
   "cell_type": "markdown",
   "metadata": {},
   "source": [
    "In this first example, nunm_list contains only numeric values, but you can also iterate on lists that contain other types, such as text strings for the names of files or data structures (including even the neames of other lists!)"
   ]
  },
  {
   "cell_type": "markdown",
   "metadata": {},
   "source": [
    "For Loops on Text Strings\n",
    "\n",
    "In the example below, a list called files is defined with 2 text strings that represent 2 filenames. The for loop will run iteratively on each text string (represented by the placeholder fname in each iteration).\n",
    "\n",
    "In the 1st iteration of the loop, fname is equal to the text string \"month.txt\"; in the 2nd iteration, fname represents the text string \"avg-monthly-precip.txt\"."
   ]
  },
  {
   "cell_type": "code",
   "execution_count": 9,
   "metadata": {},
   "outputs": [
    {
     "name": "stdout",
     "output_type": "stream",
     "text": [
      "months.txt\n",
      "avg-monthly-precip.txt\n"
     ]
    }
   ],
   "source": [
    "# List of filenames\n",
    "files = [\"months.txt\", \"avg-monthly-precip.txt\"]\n",
    "\n",
    "# For each item in list, print value\n",
    "for fname in files:\n",
    "    print(fname)"
   ]
  },
  {
   "cell_type": "markdown",
   "metadata": {},
   "source": [
    "Note that print() returns the text string that is the filename, but not the values in the file.\n",
    "\n",
    "This is because the list only contains text strings for the filenames, but does not actually contain the contents of the file. Python simply treat these as text string items in a list.\n",
    "\n",
    "Taking another look at the definition of the list, you can notice that the items are just text strings identified by quotes \"\". The list does not contain variables or objects that have been defined (e.g. numpy arrays, pandas dataframes, or even other lists).\n",
    "\n",
    "Thus, it is important to remember that the objects that you use in the loop will determine what output you will receive."
   ]
  },
  {
   "cell_type": "markdown",
   "metadata": {},
   "source": [
    "For loops on Data Structures\n",
    "\n",
    "Below, the print() returns the actual values in each item in the list because the items are defined objects (in this example, each item is its own list of data values).\n",
    "\n",
    "In each iteration of the loop, dlist represents the data lists that you defined: in first iteration, months, and avg_monthly_precip in the 2nd iteration."
   ]
  },
  {
   "cell_type": "code",
   "execution_count": null,
   "metadata": {},
   "outputs": [],
   "source": [
    "# Create list of abbreviated month names\n",
    "months = [\"Jan\", \"Feb\", \"Mar\", \"Apr\", \"May\", \"June\",\n",
    "          \"July\", \"Aug\", \"Sept\", \"Oct\", \"Nov\", \"Dec\"]\n",
    "\n",
    "# Create list of average monthly precip (inches) in Boulder, CO\n",
    "avg_monthly_precip = [0.70, 0.75, 1.85, 2.93, 3.05, 2.02,\n",
    "                     1.93, 1.62, 1.84, 1.31, 1.39, 0.84]\n",
    "\n",
    "# List of list names\n",
    "lists = [months, avg_monthly_precip]\n",
    "\n",
    "# For each item in list, print value\n",
    "for dlist in lists:\n",
    "    print(dlist)"
   ]
  },
  {
   "cell_type": "markdown",
   "metadata": {},
   "source": [
    "When working with data structures such as lists, numpy arrays, or pandas dataframes, the code that is executed in the loop is still subject to the object type that is provided."
   ]
  },
  {
   "cell_type": "code",
   "execution_count": null,
   "metadata": {},
   "outputs": [],
   "source": [
    "# For each list in lists, print the length\n",
    "for dlist in lists:\n",
    "    print(len(dlist))"
   ]
  },
  {
   "cell_type": "code",
   "execution_count": null,
   "metadata": {},
   "outputs": [],
   "source": [
    "# For each list in lists, print the value at last index\n",
    "for dlist in lists:\n",
    "    print(dlist[-1])"
   ]
  }
 ],
 "metadata": {
  "kernelspec": {
   "display_name": "Python 3",
   "language": "python",
   "name": "python3"
  },
  "language_info": {
   "codemirror_mode": {
    "name": "ipython",
    "version": 3
   },
   "file_extension": ".py",
   "mimetype": "text/x-python",
   "name": "python",
   "nbconvert_exporter": "python",
   "pygments_lexer": "ipython3",
   "version": "3.7.6"
  }
 },
 "nbformat": 4,
 "nbformat_minor": 4
}
