{
 "cells": [
  {
   "cell_type": "markdown",
   "metadata": {},
   "source": [
    "Make your code easier to read by using expressive variable names in Python"
   ]
  },
  {
   "cell_type": "markdown",
   "metadata": {},
   "source": [
    "Expressive code is important for naming variables and functions in Python bevcause it will make your code easier to understand for someone who is skimming it in the same way that it makes it easier for someone to understand a file directory structure.\n",
    "\n",
    "Expressive code is another part of clean coding - that is writing code that is easier for you, your future self and for someone else to look at and understand."
   ]
  },
  {
   "cell_type": "markdown",
   "metadata": {},
   "source": [
    "Best practices for naming objects\n",
    "\n",
    "Below are some of the PEP 8 guidelines related to expressive object names.\n",
    "1. Keep object names short: this makes them easier to read when scanning through code.\n",
    "2. Use meaningful names: A meaningful or expressive variable name will be easier for someone to understand. For example: precip is more useful name that tells us something about the object compared to x or a-\n",
    "3. Do not start names with numbers: Objects that start with a number are NOT VALID in Python.\n",
    "4. Avoid names that are existing functions in Python: e.g., if, else, for\n",
    "\n",
    "A few other notes about object names in Python:\n",
    "- Python is case sensiitive (e.g., weight_kg is different from Weight_kg)\n",
    "- Avoid existing function names (e.g. mean), though you can combine these with other words to create a more descriptive name (e.g. precip_mean)\n",
    "- Use nouns for variable names (e.g. weight_kg), and verbs for function names (e.g. convert_kg_1b).\n",
    "- Avoid using dots in object names - e.g. precip.boulder - dots have a special meaning in Python (for methods - the dot indicate a function that is connected to a particular Python object), use underscores instead precip_boulder"
   ]
  },
  {
   "cell_type": "markdown",
   "metadata": {},
   "source": [
    "Recommendations for Naming conventions\n",
    "\n",
    "Best Practices for Dir and file names\n",
    "\n",
    "eWe suggest that you use directory and file names that contain the words that describe the contents of the file or dir, separated using dashes - like this:\n",
    "\n",
    "lower-case-with-dashes\n",
    "\n",
    "Dir and file names should be kept as short and concise as possible\n",
    "\n",
    "Best practice vaariable names in Python\n",
    "\n",
    "For variables, we suggest that you use lowercase for short variable names and lower_case_with_underscores for longer and more descriptive variable names. Variable names should be kept as short and concise as possible, while also clearly indicating the kind of data or information contained in the variable.\n",
    "- precip: to indicate a simple variable\n",
    "- boulder_precip: to indicate the location of the data collection\n",
    "- max_precip: to indicate the result of a summary stats\n",
    "- precip_2002: to indicate a particular year of data included\n",
    "- precip_2002_2013: to indicate the particular years of data included\n",
    "- precip_2002_to_2010: to indicate a range of years of data included\n",
    "- precip_in or precip_mm: to indicate the measurement units\n",
    "\n",
    "The variable names should be driven by the overall goals and purpose of the code in which they are being used.\n",
    "\n",
    "Best practices for naming functions and methods in Python\n",
    "\n",
    "Function names should be formatted using words_separated_by_underscores. The words that you use to name your function should clearly describe the function's intent. Ideally this name is a very that describes what the function does. Ideally this name is a very that describes what the function does. For example, if you write a function that removes hyphens from some text a name like remove_hyphens might be appropriate."
   ]
  },
  {
   "cell_type": "code",
   "execution_count": 1,
   "metadata": {},
   "outputs": [
    {
     "ename": "NameError",
     "evalue": "name 'text_edit' is not defined",
     "output_type": "error",
     "traceback": [
      "\u001b[1;31m---------------------------------------------------------------------------\u001b[0m",
      "\u001b[1;31mNameError\u001b[0m                                 Traceback (most recent call last)",
      "\u001b[1;32m<ipython-input-1-dcd9657df97b>\u001b[0m in \u001b[0;36m<module>\u001b[1;34m\u001b[0m\n\u001b[0;32m      1\u001b[0m \u001b[1;31m## This function name is less expressive\u001b[0m\u001b[1;33m\u001b[0m\u001b[1;33m\u001b[0m\u001b[1;33m\u001b[0m\u001b[0m\n\u001b[1;32m----> 2\u001b[1;33m \u001b[0mtext_edit\u001b[0m\u001b[1;33m(\u001b[0m\u001b[1;33m)\u001b[0m\u001b[1;33m\u001b[0m\u001b[1;33m\u001b[0m\u001b[0m\n\u001b[0m\u001b[0;32m      3\u001b[0m \u001b[1;33m\u001b[0m\u001b[0m\n\u001b[0;32m      4\u001b[0m \u001b[1;31m# This function name is more expressive\u001b[0m\u001b[1;33m\u001b[0m\u001b[1;33m\u001b[0m\u001b[1;33m\u001b[0m\u001b[0m\n\u001b[0;32m      5\u001b[0m \u001b[0mremove_hyphens\u001b[0m\u001b[1;33m(\u001b[0m\u001b[1;33m)\u001b[0m\u001b[1;33m\u001b[0m\u001b[1;33m\u001b[0m\u001b[0m\n",
      "\u001b[1;31mNameError\u001b[0m: name 'text_edit' is not defined"
     ]
    }
   ],
   "source": [
    "## This function name is less expressive\n",
    "text_edit()\n",
    "\n",
    "# This function name is more expressive\n",
    "remove_hyphens()"
   ]
  },
  {
   "cell_type": "markdown",
   "metadata": {},
   "source": [
    "Example function"
   ]
  },
  {
   "cell_type": "code",
   "execution_count": 3,
   "metadata": {},
   "outputs": [],
   "source": [
    "def fahr_to_kelvin(fahr):\n",
    "    '''Convert temperature in Fahrenheit to Kelvin.\n",
    "    \n",
    "    Parameters:\n",
    "    ------------\n",
    "    fahr: int or float\n",
    "        The temperature in Fharenheit.\n",
    "    \n",
    "    Reutrns:\n",
    "    ------------\n",
    "    Kelvin:int or float\n",
    "        The temperature in kelvin.\n",
    "    '''\n",
    "    kelvin=((fahr - 32) *(5/9)) + 273.15\n",
    "    return kelvin"
   ]
  }
 ],
 "metadata": {
  "kernelspec": {
   "display_name": "Python 3",
   "language": "python",
   "name": "python3"
  },
  "language_info": {
   "codemirror_mode": {
    "name": "ipython",
    "version": 3
   },
   "file_extension": ".py",
   "mimetype": "text/x-python",
   "name": "python",
   "nbconvert_exporter": "python",
   "pygments_lexer": "ipython3",
   "version": "3.7.6"
  }
 },
 "nbformat": 4,
 "nbformat_minor": 4
}
