{
 "cells": [
  {
   "cell_type": "markdown",
   "metadata": {},
   "source": [
    "Chapter 16 - Introduction to Clean Code and Literate Expressive Programming"
   ]
  },
  {
   "cell_type": "markdown",
   "metadata": {},
   "source": [
    "What is Clean Code For Scientific Programming?\n",
    "\n",
    "Clean code refers to code that is:\n",
    "- easy to understand\n",
    "- is efficient when run\n",
    "- is well-documented"
   ]
  },
  {
   "cell_type": "code",
   "execution_count": 6,
   "metadata": {},
   "outputs": [
    {
     "data": {
      "text/plain": [
       "'20-06-06'"
      ]
     },
     "execution_count": 6,
     "metadata": {},
     "output_type": "execute_result"
    }
   ],
   "source": [
    "#Non expressive variable name\n",
    "import datetime\n",
    "foovar = datetime.date.today().strftime(\"%y-%m-%d\")\n",
    "foovar"
   ]
  },
  {
   "cell_type": "code",
   "execution_count": 7,
   "metadata": {},
   "outputs": [
    {
     "data": {
      "text/plain": [
       "'20-06-06'"
      ]
     },
     "execution_count": 7,
     "metadata": {},
     "output_type": "execute_result"
    }
   ],
   "source": [
    "#Expressive variable name\n",
    "import datetime\n",
    "todays_date = datetime.date.today().strftime(\"%y-%m-%d\")\n",
    "todays_date"
   ]
  },
  {
   "cell_type": "markdown",
   "metadata": {},
   "source": [
    "Get started writing clean code in Python\n",
    "\n",
    "1. User Code Syntax Standards: Each programming language has 1 or more standards or style guides that the community follows. This standard dictates guidelines for spacing, comments, variable name and more. When your code uses a standard syntax approach, it becomes much easier to scan and understand for both yourself and others.You will learn about PEP 8 standards for Python.\n",
    "\n",
    "2. Create Expressive Variable and Function Names: Expressive code uses meaningful variable names that represent the contents of that variable. In the above example above, todays_date describes the contents of the variable (which is date) better than foovar.\n",
    "\n",
    "3. Write Modular Code and Practice: Don't Repeat Yourself (DRY): rather than repeating chunks of code to automate a workflow, consider using loops and functions to automate tasks. If you use the same set of code more than once, it likely belongs in a function.\n",
    "\n",
    "4. Document Your Code: Documentation can mean different things. A combination of expressive names combined with sparesely added comments can go a long way towards making your code easier to read\n",
    "\n",
    "A more advanced topic that you will learn later is pseudocode. Rather than writing code line by line, you should plan out your workflow first. Write out the steps in plain English. Then, identify steps that you may need to repeat tasks."
   ]
  }
 ],
 "metadata": {
  "kernelspec": {
   "display_name": "Python 3",
   "language": "python",
   "name": "python3"
  },
  "language_info": {
   "codemirror_mode": {
    "name": "ipython",
    "version": 3
   },
   "file_extension": ".py",
   "mimetype": "text/x-python",
   "name": "python",
   "nbconvert_exporter": "python",
   "pygments_lexer": "ipython3",
   "version": "3.7.6"
  }
 },
 "nbformat": 4,
 "nbformat_minor": 4
}
