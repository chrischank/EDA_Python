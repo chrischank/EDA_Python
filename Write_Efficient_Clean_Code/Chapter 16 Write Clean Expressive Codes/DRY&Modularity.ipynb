{
 "cells": [
  {
   "cell_type": "markdown",
   "metadata": {},
   "source": [
    "DRY Code and Modularity"
   ]
  },
  {
   "cell_type": "markdown",
   "metadata": {},
   "source": [
    "Don't Repeat Yourself (DRY)\n",
    "\n",
    "The DRY approach to programming refers to writing functions and automating sections of code that are repeated. If you perform the same task multiple times in your code, consider a function or a loop to make your workflow more efficient."
   ]
  },
  {
   "cell_type": "markdown",
   "metadata": {},
   "source": [
    "Don't Repeat Yourself: Remove repetition in your code"
   ]
  },
  {
   "cell_type": "markdown",
   "metadata": {},
   "source": [
    "Why write efficient code\n",
    "\n",
    "DRY code relates to reproducible science because 1 component of reproducibility is writing code that is easy to read. If your code is easy to read, it will in turn be easier for your future self to understand that code. It will also be easier for your colleagues to work with and contribute to your code.\n",
    "\n",
    "DRY\n",
    "\n",
    "DRY is a principle of software development. The focus of DRY is to avoid repetition of information\n",
    "\n",
    "Why?\n",
    "\n",
    "One main reason is that when you write code that performs the same tasks over and over again, any modification of one task requires the same change to be made to every single instance of that task!\n",
    "\n",
    "By implementing DRY code, you can make your code:\n",
    "1. easier to follow and read (for yourself as well as others), thereby supporting reproducibility\n",
    "2. easier to update because you only have to update your code once, rather than every that code block is used"
   ]
  },
  {
   "cell_type": "markdown",
   "metadata": {},
   "source": [
    "Strategies for writing DRY code\n",
    "\n",
    "1. Write functions for a task that is performed over and over.\n",
    "2. Create loops that iterative over repetitive tasks.\n",
    "3. Use conditional statements to control if and when code is executed.\n",
    "\n",
    "Write functions to document and simplify repeated tasks\n",
    "\n",
    "A function is a reusable block of code that performs a specific tasks. Functions have inputs and outputs. Functions can help you to both eliminate repetition and improve efficiency in your code through modularity."
   ]
  },
  {
   "cell_type": "code",
   "execution_count": 2,
   "metadata": {},
   "outputs": [],
   "source": [
    "def fahr_to_kelvin(fahr):\n",
    "    \"\"\"Convert temperature in Fahrenheit to kelvin.\n",
    "\n",
    "    Parameters:\n",
    "    -----------\n",
    "    fahr: int or float\n",
    "        The temperature in Fahrenheit.\n",
    "    \n",
    "    Returns:\n",
    "    -----------\n",
    "    kelvin : int or float\n",
    "        The temperature in kelvin.\n",
    "    \"\"\"\n",
    "    kelvin = ((fahr - 32) * (5 / 9)) + 273.15\n",
    "    return kelvin"
   ]
  },
  {
   "cell_type": "markdown",
   "metadata": {},
   "source": [
    "Write loops to simplofy iterative repetitive tasks\n",
    "\n",
    "A look executes a sequence of operatiions that are performed over and over in a specified order.\n",
    "\n",
    "Loops can help you eliminate repetitioon in code by replacing duplicate lines of code with an iteration. This means that you can iteratively execute the same code line or block until it reaches an end point."
   ]
  },
  {
   "cell_type": "code",
   "execution_count": 5,
   "metadata": {},
   "outputs": [
    {
     "name": "stdout",
     "output_type": "stream",
     "text": [
      "100\n",
      "20\n",
      "30\n",
      "100\n",
      "20\n",
      "30\n"
     ]
    }
   ],
   "source": [
    "avg_monthly_precip = 100\n",
    "months = 20\n",
    "precip_2002_2013 = 30\n",
    "\n",
    "# Consider the following lines of code:\n",
    "print(avg_monthly_precip)\n",
    "print(months)\n",
    "print(precip_2002_2013)\n",
    "\n",
    "# This code could be replaced by a loop that iterates over a list of variables\n",
    "# And executes the print() function until it reaches the end of the list:\n",
    "all_vars = [avg_monthly_precip, months, precip_2002_2013]\n",
    "for avar in all_vars:\n",
    "    print(avar)"
   ]
  },
  {
   "cell_type": "markdown",
   "metadata": {},
   "source": [
    "Conditional statements\n",
    "\n",
    "A conditional statement is used to determine whether a certain condition exists before code is executed. Conditional statements can improve the efficiency of your code by providing you with the ability to control the flow of your code.\n",
    "\n",
    "For example, conditional statements can be used to check that a certain variable or file exists before code is executed, or to continue code if some criteria is met such as calculation resulting in a specific value.\n",
    "\n",
    "Below, you can combine a loop and a conditional statement ot only print the variable value if the value >20."
   ]
  },
  {
   "cell_type": "code",
   "execution_count": 6,
   "metadata": {},
   "outputs": [
    {
     "name": "stdout",
     "output_type": "stream",
     "text": [
      "100\n",
      "30\n"
     ]
    }
   ],
   "source": [
    "avg_monthly_precip = 100\n",
    "months = 20\n",
    "precip_2002_2013 = 30\n",
    "\n",
    "all_vars = [avg_monthly_precip, months, precip_2002_2013]\n",
    "\n",
    "# Only print variable if it is >20\n",
    "for avar in all_vars:\n",
    "    if avar > 20:\n",
    "        print(avar)"
   ]
  }
 ],
 "metadata": {
  "kernelspec": {
   "display_name": "Python 3",
   "language": "python",
   "name": "python3"
  },
  "language_info": {
   "codemirror_mode": {
    "name": "ipython",
    "version": 3
   },
   "file_extension": ".py",
   "mimetype": "text/x-python",
   "name": "python",
   "nbconvert_exporter": "python",
   "pygments_lexer": "ipython3",
   "version": "3.7.6"
  }
 },
 "nbformat": 4,
 "nbformat_minor": 4
}
